{
 "cells": [
  {
   "cell_type": "markdown",
   "id": "c8841c09",
   "metadata": {},
   "source": [
    "Optionally add some examples here to show what programming the GPU was like prior to JAX."
   ]
  },
  {
   "cell_type": "code",
   "execution_count": null,
   "id": "240b1ea0",
   "metadata": {},
   "outputs": [],
   "source": [
    "import numpy as np\n",
    "\n",
    "from numba import cuda, vectorize"
   ]
  },
  {
   "cell_type": "code",
   "execution_count": null,
   "id": "4ac5d919",
   "metadata": {},
   "outputs": [],
   "source": [
    "@cuda.jit\n",
    "def f(a, b, c):\n",
    "    # like threadIdx.x + (blockIdx.x * blockDim.x)\n",
    "    tid = cuda.grid(1)\n",
    "    size = len(c)\n",
    "\n",
    "    if tid < size:\n",
    "\n",
    "        c[tid] = a[tid] + b[tid]"
   ]
  },
  {
   "cell_type": "code",
   "execution_count": null,
   "id": "464e995d",
   "metadata": {},
   "outputs": [],
   "source": [
    "N = 5000000\n",
    "a = cuda.to_device(np.random.random(N))\n",
    "b = cuda.to_device(np.random.random(N))\n",
    "c = cuda.device_array_like(a)"
   ]
  },
  {
   "cell_type": "code",
   "execution_count": null,
   "id": "ab729d16",
   "metadata": {},
   "outputs": [],
   "source": [
    "f.forall(len(a))(a, b, c)\n",
    "\n",
    "c.copy_to_host()"
   ]
  },
  {
   "cell_type": "code",
   "execution_count": null,
   "id": "242ad6e9",
   "metadata": {},
   "outputs": [],
   "source": [
    "type(f)"
   ]
  },
  {
   "cell_type": "code",
   "execution_count": null,
   "id": "4b768055",
   "metadata": {},
   "outputs": [],
   "source": [
    "a = np.array([1, 2, 3, 4])\n",
    "b = np.array([10, 20, 30, 40])"
   ]
  },
  {
   "cell_type": "code",
   "execution_count": null,
   "id": "188b888b",
   "metadata": {},
   "outputs": [],
   "source": [
    "@vectorize(['int64(int64, int64)'], target='cuda') # Type signature and target are required for the GPU\n",
    "def add_ufunc(x, y):\n",
    "    return x + y"
   ]
  },
  {
   "cell_type": "code",
   "execution_count": null,
   "id": "e61c30ef",
   "metadata": {},
   "outputs": [],
   "source": [
    "add_ufunc(a, b)"
   ]
  },
  {
   "cell_type": "code",
   "execution_count": null,
   "id": "30d7cc58",
   "metadata": {},
   "outputs": [],
   "source": []
  }
 ],
 "metadata": {
  "kernelspec": {
   "display_name": "Python 3 (ipykernel)",
   "language": "python",
   "name": "python3"
  },
  "language_info": {
   "codemirror_mode": {
    "name": "ipython",
    "version": 3
   },
   "file_extension": ".py",
   "mimetype": "text/x-python",
   "name": "python",
   "nbconvert_exporter": "python",
   "pygments_lexer": "ipython3",
   "version": "3.9.7"
  }
 },
 "nbformat": 4,
 "nbformat_minor": 5
}
