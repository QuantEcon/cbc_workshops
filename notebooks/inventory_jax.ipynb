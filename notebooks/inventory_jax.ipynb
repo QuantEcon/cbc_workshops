{
 "cells": [
  {
   "cell_type": "markdown",
   "id": "57b4acab",
   "metadata": {},
   "source": [
    "# Modeling Inventories\n",
    "\n",
    "In this lecture we will study the time path of inventories for firms that\n",
    "follow so-called s-S inventory dynamics.\n",
    "\n",
    "Such firms\n",
    "\n",
    "1. wait until inventory falls below some level $ s $ and then  \n",
    "1. order sufficient quantities to bring their inventory back up to capacity $ S $.  \n",
    "\n",
    "\n",
    "These kinds of policies are common in practice and also optimal in certain circumstances.\n",
    "\n",
    "In this lecture, we use the following imports:"
   ]
  },
  {
   "cell_type": "code",
   "execution_count": null,
   "id": "2f54b55b",
   "metadata": {
    "id": "Jq97kTRIP2S7"
   },
   "outputs": [],
   "source": [
    "import numpy as np\n",
    "import matplotlib.pyplot as plt\n",
    "import jax\n",
    "import jax.numpy as jnp\n",
    "from numba import njit, prange"
   ]
  },
  {
   "cell_type": "markdown",
   "id": "52eceb8a",
   "metadata": {},
   "source": [
    "## Dynamics\n",
    "\n",
    "Consider a firm with inventory $ X_t $ at time $t$.\n",
    "\n",
    "The time frequency is daily, so $X_{t+1} - X_t$ gives change in inventory over day $t$.\n",
    "\n",
    "The firm \n",
    "\n",
    "* faces stochastic demand $ \\{ D_t \\} $, which we assume is IID, and\n",
    "* waits until $ X_t \\leq s $ and then restocks up to $ S $ units.\n",
    "\n",
    "\n",
    "With notation $ a^+ := \\max\\{a, 0\\} $, inventory dynamics can be written\n",
    "as\n",
    "\n",
    "$$\n",
    "X_{t+1} =\n",
    "    \\begin{cases}\n",
    "      ( S - D_{t+1})^+ & \\quad \\text{if } X_t \\leq s \\\\\n",
    "      ( X_t - D_{t+1} )^+ &  \\quad \\text{if } X_t > s\n",
    "    \\end{cases}\n",
    "$$\n",
    "\n",
    "In what follows, we will assume that each $ D_t $ is lognormal, so that\n",
    "\n",
    "$$\n",
    "D_t = \\exp(\\mu + \\sigma Z_t)\n",
    "$$\n",
    "\n",
    "where $ \\mu $ and $ \\sigma $ are parameters and $ \\{Z_t\\} $ is IID\n",
    "and standard normal.\n",
    "\n",
    "We will use the following defaults for our parameters:"
   ]
  },
  {
   "cell_type": "code",
   "execution_count": null,
   "id": "09e015cf",
   "metadata": {
    "id": "KIPpOqhectdl"
   },
   "outputs": [],
   "source": [
    "default_s, default_S = 10, 200\n",
    "default_mu, default_sigma = 1.0, 0.8"
   ]
  },
  {
   "cell_type": "markdown",
   "id": "5bfb6c7d",
   "metadata": {},
   "source": [
    "Here is a simulation of one inventory path:"
   ]
  },
  {
   "cell_type": "code",
   "execution_count": null,
   "id": "4f00a5d3",
   "metadata": {},
   "outputs": [],
   "source": [
    "def update(x, s=default_s, S=default_S, mu=default_mu, sigma=default_sigma):\n",
    "    Z = np.random.randn()\n",
    "    D = np.exp(mu + sigma * Z)\n",
    "    if x <= s:\n",
    "        return max(S - D, 0)\n",
    "    else:\n",
    "        return max(x - D, 0)\n",
    "\n",
    "def sim_inventory_path(x_init=50, sim_length=100):\n",
    "    X = np.empty(sim_length)\n",
    "    X[0] = x_init\n",
    "\n",
    "    for t in range(sim_length-1):\n",
    "        X[t+1] = update(X[t])\n",
    "    return X\n",
    "\n",
    "sim_length=100\n",
    "X = sim_inventory_path(sim_length=sim_length)\n",
    "s, S = default_s, default_S\n",
    "\n",
    "fig, ax = plt.subplots()\n",
    "bbox = (0., 1.02, 1., .102)\n",
    "legend_args = {'ncol': 3,\n",
    "               'bbox_to_anchor': bbox,\n",
    "               'loc': 3,\n",
    "               'mode': 'expand'}\n",
    "\n",
    "ax.plot(X, label=\"inventory\")\n",
    "ax.plot(np.full(sim_length, s), 'k--', label=\"$s$\")\n",
    "ax.plot(np.full(sim_length, S), 'k-', label=\"$S$\")\n",
    "ax.set_ylim(0, S+10)\n",
    "ax.set_xlabel(\"time\")\n",
    "ax.legend(**legend_args)\n",
    "\n",
    "plt.show()"
   ]
  },
  {
   "cell_type": "markdown",
   "id": "cab40f01",
   "metadata": {},
   "source": [
    "## Restocking Probabilities"
   ]
  },
  {
   "cell_type": "markdown",
   "id": "80e59c4b",
   "metadata": {},
   "source": [
    "Suppose that there are risks in the supply chain that the firm needs to manage.\n",
    "\n",
    "In particular, the firm's supplier can guarantee only one resupply (order of size $S$) in the next two months.\n",
    "\n",
    "Let $t=0$ and current inventory $X_0 = 70$.\n",
    "\n",
    "The firm's manager asks us to calculate the probability that firms that the firm needs to restock\n",
    "more than once (i.e., twice or more) in the two months (i.e., 60 days).\n",
    "\n",
    "Our plan is to calculate this probability via Monte Carlo.\n",
    "\n",
    "The basic procedure is:\n",
    "\n",
    "1. Simulate many inventory paths of length 60 starting from $X_0 = 70$.\n",
    "2. Compute the fraction of paths that fall below $s$ (and hence restock) more than once.\n",
    "\n",
    "By the law of large numbers, this fraction converges to the corresponding probability.\n",
    "\n",
    "We will simulate $10^7$ inventory paths."
   ]
  },
  {
   "cell_type": "code",
   "execution_count": null,
   "id": "c93c1bb1",
   "metadata": {
    "id": "wKKA4xE2mAj4"
   },
   "outputs": [],
   "source": [
    "sim_size = 10_000_000\n",
    "x_init = 70.0\n",
    "sim_length = 60"
   ]
  },
  {
   "cell_type": "markdown",
   "id": "a364a5e8",
   "metadata": {
    "id": "1LZPHrd2lJef"
   },
   "source": [
    "## JIT-Compiled on the CPU with Numba"
   ]
  },
  {
   "cell_type": "markdown",
   "id": "c0479297",
   "metadata": {},
   "source": [
    "In our first effort, we use loops and just-in-time compilation with Numba."
   ]
  },
  {
   "cell_type": "code",
   "execution_count": null,
   "id": "1417e6f5",
   "metadata": {
    "id": "0Dv7rJKraLGM"
   },
   "outputs": [],
   "source": [
    "@njit\n",
    "def compute_freq_jit(s=default_s,\n",
    "                     S=default_S,\n",
    "                     mu=default_mu,\n",
    "                     sigma=default_sigma,\n",
    "                     sim_length=sim_length, \n",
    "                     x_init=x_init, \n",
    "                     sim_size=sim_size):\n",
    "    \n",
    "    number_of_paths_with_multiple_restock = 0 \n",
    "    \n",
    "    for m in range(sim_size):\n",
    "        x = x_init\n",
    "        restock_counter = 0  # Records number of restocks for inventory path m\n",
    "\n",
    "        for t in range(sim_length):\n",
    "            Z = np.random.randn()\n",
    "            D = np.exp(mu + sigma * Z)\n",
    "            if x <= s:\n",
    "                x = max(S - D, 0)\n",
    "                restock_counter += 1\n",
    "            else:\n",
    "                x = max(x - D, 0)\n",
    "\n",
    "        if restock_counter > 1:\n",
    "            number_of_paths_with_multiple_restock += 1\n",
    "\n",
    "    return number_of_paths_with_multiple_restock / sim_size"
   ]
  },
  {
   "cell_type": "code",
   "execution_count": null,
   "id": "de7369e7",
   "metadata": {
    "colab": {
     "base_uri": "https://localhost:8080/"
    },
    "id": "9wmnGhXhcd0L",
    "outputId": "0b6dc497-778e-46ce-c105-6033523c2b65"
   },
   "outputs": [],
   "source": [
    "%%time\n",
    "compute_freq_jit()"
   ]
  },
  {
   "cell_type": "code",
   "execution_count": null,
   "id": "bce0d82b",
   "metadata": {
    "colab": {
     "base_uri": "https://localhost:8080/"
    },
    "id": "9wmnGhXhcd0L",
    "outputId": "0b6dc497-778e-46ce-c105-6033523c2b65"
   },
   "outputs": [],
   "source": [
    "%%time\n",
    "compute_freq_jit()"
   ]
  },
  {
   "cell_type": "markdown",
   "id": "7bd19260",
   "metadata": {
    "id": "1LZPHrd2lJef"
   },
   "source": [
    "## Parallelized on the CPU with Numba"
   ]
  },
  {
   "cell_type": "markdown",
   "id": "22031515",
   "metadata": {},
   "source": [
    "For our next effort, we are going to use essentially the same logic and, once again, the JIT compiler supplied by Numba.  At the same time, we are going to parallelize over the CPU to distribute the computational burden.\n",
    "\n",
    "For this we set `parallel=True` and change the outer `range` function to `prange`, which has been imported from Numba."
   ]
  },
  {
   "cell_type": "code",
   "execution_count": null,
   "id": "c1baa8bb",
   "metadata": {
    "id": "0Dv7rJKraLGM"
   },
   "outputs": [],
   "source": [
    "@njit(parallel=True)\n",
    "def compute_freq_prange(s=default_s,\n",
    "                     S=default_S,\n",
    "                     mu=default_mu,\n",
    "                     sigma=default_sigma,\n",
    "                     sim_length=sim_length, \n",
    "                     x_init=x_init, \n",
    "                     sim_size=sim_size):\n",
    "    \n",
    "    number_of_paths_with_multiple_restock = 0 \n",
    "    \n",
    "    for m in prange(sim_size):\n",
    "        x = x_init\n",
    "        restock_counter = 0  # Records number of restocks for inventory path m\n",
    "\n",
    "        for t in range(sim_length):\n",
    "            Z = np.random.randn()\n",
    "            D = np.exp(mu + sigma * Z)\n",
    "            if x <= s:\n",
    "                x = max(S - D, 0)\n",
    "                restock_counter += 1\n",
    "            else:\n",
    "                x = max(x - D, 0)\n",
    "\n",
    "        if restock_counter > 1:\n",
    "            number_of_paths_with_multiple_restock += 1\n",
    "\n",
    "    return number_of_paths_with_multiple_restock / sim_size"
   ]
  },
  {
   "cell_type": "code",
   "execution_count": null,
   "id": "4d753ec4",
   "metadata": {
    "colab": {
     "base_uri": "https://localhost:8080/"
    },
    "id": "9wmnGhXhcd0L",
    "outputId": "0b6dc497-778e-46ce-c105-6033523c2b65"
   },
   "outputs": [],
   "source": [
    "%%time\n",
    "compute_freq_prange()"
   ]
  },
  {
   "cell_type": "code",
   "execution_count": null,
   "id": "b800b71d",
   "metadata": {
    "colab": {
     "base_uri": "https://localhost:8080/"
    },
    "id": "6P2Lt4ELmSAY",
    "outputId": "dfedbc18-38b9-4006-e141-125e834a1d57"
   },
   "outputs": [],
   "source": [
    "%%time\n",
    "compute_freq_prange()"
   ]
  },
  {
   "cell_type": "markdown",
   "id": "dec24e3f",
   "metadata": {},
   "source": [
    "Execution time on a machine with 8 cores is around 4 times faster.   Machines with more cores will get greater speed gains."
   ]
  },
  {
   "cell_type": "markdown",
   "id": "8a233577",
   "metadata": {
    "id": "zuu8XU65qANC"
   },
   "source": [
    "## Vectorized NumPy version"
   ]
  },
  {
   "cell_type": "markdown",
   "id": "bf01958d",
   "metadata": {},
   "source": [
    "As an alternative, let's try a vectorized version that's accelerated just by NumPy operators.\n",
    "\n",
    "The idea is to \n",
    "\n",
    "1. update all the inventory paths at once and\n",
    "2. note which of the paths involve a restock\n",
    "\n",
    "These two operations are vectorized.  The outer loop is not vectorized or accelerated, since it makes little difference to efficiency."
   ]
  },
  {
   "cell_type": "code",
   "execution_count": null,
   "id": "0fcf8a45",
   "metadata": {
    "id": "lEqKv-gIZAQn"
   },
   "outputs": [],
   "source": [
    "def compute_freq_vectorized(s=default_s,\n",
    "                            S=default_S,\n",
    "                            mu=default_mu,\n",
    "                            sigma=default_sigma,\n",
    "                            sim_length=sim_length, \n",
    "                            x_init=x_init, \n",
    "                            num_firms=sim_size):\n",
    "  \n",
    "    x = np.full(sim_size, x_init)\n",
    "    restock_counters = np.zeros_like(x)\n",
    "    for i in range(sim_length):\n",
    "        restock_counters += np.where(x < s, 1, 0)\n",
    "        D = np.exp(mu + sigma * np.random.randn(num_firms))\n",
    "        y = np.where(x < s, S, x)\n",
    "        x = np.maximum(y - D, 0)\n",
    "    return np.mean(restock_counters > 1)"
   ]
  },
  {
   "cell_type": "code",
   "execution_count": null,
   "id": "2a783d8e",
   "metadata": {
    "colab": {
     "base_uri": "https://localhost:8080/"
    },
    "id": "StNKu1Mgcmqh",
    "outputId": "a0a77be4-2648-4420-81ea-694ff803bc51"
   },
   "outputs": [],
   "source": [
    "%%time\n",
    "compute_freq_vectorized()"
   ]
  },
  {
   "cell_type": "code",
   "execution_count": null,
   "id": "785009a9",
   "metadata": {
    "colab": {
     "base_uri": "https://localhost:8080/"
    },
    "id": "1xL3k2HNpmz1",
    "outputId": "f3188472-b0f2-4d58-8797-e7bf85574e3c"
   },
   "outputs": [],
   "source": [
    "%%time\n",
    "compute_freq_vectorized()"
   ]
  },
  {
   "cell_type": "markdown",
   "id": "5a5f3f42",
   "metadata": {},
   "source": [
    "On a typical machine, the speed is similar to the non-parallelized Numba-accelerated version."
   ]
  },
  {
   "cell_type": "markdown",
   "id": "f2be175f",
   "metadata": {
    "id": "Zxlssv4VrrVq"
   },
   "source": [
    "## Vectorized with JAX"
   ]
  },
  {
   "cell_type": "markdown",
   "id": "f897fd13",
   "metadata": {},
   "source": [
    "To further accelerate the operation, let's move to the GPU.  Here's the current device:"
   ]
  },
  {
   "cell_type": "code",
   "execution_count": null,
   "id": "7e34955d",
   "metadata": {
    "colab": {
     "base_uri": "https://localhost:8080/"
    },
    "id": "-aLGJt7Jv3qo",
    "outputId": "04959b0b-1fdf-48c5-e653-c2521bbd1cb1"
   },
   "outputs": [],
   "source": [
    "!nvidia-smi"
   ]
  },
  {
   "cell_type": "markdown",
   "id": "749fafa4",
   "metadata": {},
   "source": [
    "JAX code is typically vectorized, so our implementation looks a lot like the NumPy vectorized code we showed above.  In fact the only changes are\n",
    "\n",
    "1. `np` is replaced by `jnp` (JAX NumPy) in each instance and\n",
    "2. we use a JAX-specific random number generator."
   ]
  },
  {
   "cell_type": "code",
   "execution_count": null,
   "id": "0abb711d",
   "metadata": {
    "id": "jNki7Nz-to7x"
   },
   "outputs": [],
   "source": [
    "def compute_freq_jax(s=default_s,\n",
    "                     S=default_S,\n",
    "                     mu=default_mu,\n",
    "                     sigma=default_sigma,\n",
    "                     sim_length=sim_length, \n",
    "                     x_init=x_init, \n",
    "                     sim_size=sim_size):\n",
    "  \n",
    "    \n",
    "    x = jnp.full(sim_size, x_init)\n",
    "    \n",
    "    restock_counters = jnp.zeros_like(x)\n",
    "    for t in range(sim_length):\n",
    "        restock_counters += jnp.where(x < s, 1, 0)\n",
    "        key = jax.random.PRNGKey(t)\n",
    "        Z = jax.random.normal(key, (sim_size,))\n",
    "        D = jnp.exp(mu + sigma * Z)\n",
    "        y = jnp.where(x < s, S, x)\n",
    "        x = jnp.maximum(y - D, 0)\n",
    "    return jnp.mean(restock_counters > 1)"
   ]
  },
  {
   "cell_type": "code",
   "execution_count": null,
   "id": "697f06d1",
   "metadata": {
    "colab": {
     "base_uri": "https://localhost:8080/"
    },
    "id": "zLB4V7wZuM2J",
    "outputId": "58c68ce8-1f4c-46d9-f6a0-70a0f460353a"
   },
   "outputs": [],
   "source": [
    "%%time \n",
    "compute_freq_jax()"
   ]
  },
  {
   "cell_type": "code",
   "execution_count": null,
   "id": "e8cd1a47",
   "metadata": {
    "colab": {
     "base_uri": "https://localhost:8080/"
    },
    "id": "vUBoz2MouQSh",
    "outputId": "0d2abe8b-7eff-46e1-8990-1c9d77d49c41"
   },
   "outputs": [],
   "source": [
    "%%time \n",
    "compute_freq_jax()"
   ]
  },
  {
   "cell_type": "code",
   "execution_count": null,
   "id": "df9da7c7",
   "metadata": {
    "colab": {
     "base_uri": "https://localhost:8080/"
    },
    "id": "vUBoz2MouQSh",
    "outputId": "0d2abe8b-7eff-46e1-8990-1c9d77d49c41"
   },
   "outputs": [],
   "source": [
    "%%time \n",
    "compute_freq_jax()"
   ]
  },
  {
   "cell_type": "markdown",
   "id": "11005aeb",
   "metadata": {},
   "source": [
    "With a decent GPU, we now have a huge speed gain --- around two orders of magnitude.\n",
    "\n",
    "But we can do even better..."
   ]
  },
  {
   "cell_type": "markdown",
   "id": "aec2fa33",
   "metadata": {
    "id": "Zxlssv4VrrVq"
   },
   "source": [
    "## Vectorized and JIT Compiled with JAX"
   ]
  },
  {
   "cell_type": "markdown",
   "id": "86b4a044",
   "metadata": {},
   "source": [
    "Our next step and final step is to apply the JAX JIT compiler to the JAX implementation given above."
   ]
  },
  {
   "cell_type": "code",
   "execution_count": null,
   "id": "574c80a6",
   "metadata": {},
   "outputs": [],
   "source": [
    "compute_freq_jax_jit = jax.jit(compute_freq_jax)"
   ]
  },
  {
   "cell_type": "markdown",
   "id": "8180ec9c",
   "metadata": {},
   "source": [
    "On the first iteration we expect substatial compile time:"
   ]
  },
  {
   "cell_type": "code",
   "execution_count": null,
   "id": "0a796468",
   "metadata": {
    "colab": {
     "base_uri": "https://localhost:8080/"
    },
    "id": "vUBoz2MouQSh",
    "outputId": "0d2abe8b-7eff-46e1-8990-1c9d77d49c41"
   },
   "outputs": [],
   "source": [
    "%%time \n",
    "compute_freq_jax_jit()"
   ]
  },
  {
   "cell_type": "markdown",
   "id": "ead31462",
   "metadata": {},
   "source": [
    "Now it's compiled, let's check the speed:"
   ]
  },
  {
   "cell_type": "code",
   "execution_count": null,
   "id": "b916627d",
   "metadata": {
    "colab": {
     "base_uri": "https://localhost:8080/"
    },
    "id": "vUBoz2MouQSh",
    "outputId": "0d2abe8b-7eff-46e1-8990-1c9d77d49c41"
   },
   "outputs": [],
   "source": [
    "%%time \n",
    "compute_freq_jax_jit()"
   ]
  },
  {
   "cell_type": "markdown",
   "id": "0a9871ef",
   "metadata": {},
   "source": [
    "We now have a massive speed gain --- around 4 orders of magnitude."
   ]
  }
 ],
 "metadata": {
  "kernelspec": {
   "display_name": "Python 3 (ipykernel)",
   "language": "python",
   "name": "python3"
  }
 },
 "nbformat": 4,
 "nbformat_minor": 5
}
