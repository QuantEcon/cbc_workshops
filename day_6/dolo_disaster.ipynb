{
 "cells": [
  {
   "cell_type": "markdown",
   "metadata": {},
   "source": [
    "# Intro to Dolo: Adding a catastrophic shock to the RBC\n",
    "\n",
    "## Computational Workshop at the Chilean Central Bank 2022\n",
    "\n",
    "Pablo Winant\n",
    "\n",
    "---"
   ]
  },
  {
   "cell_type": "markdown",
   "metadata": {},
   "source": [
    "# Quick presentation of Dolo"
   ]
  },
  {
   "cell_type": "markdown",
   "metadata": {},
   "source": [
    "## What is it ?\n",
    "\n",
    "- Dynare for nonlinear models but:\n",
    "    - much more modular\n",
    "    - several methods to solve models\n",
    "    - based on a complete opensource stack    \n",
    "- Opensource:\n",
    "    - developped during my thesis\n",
    "    - then at the IMF\n",
    "    - then at the BOE\n",
    "- Main contributors:\n",
    "    - Spencer Lyon (NYU)\n",
    "    - Anastasia Zhutova (BdF)\n",
    "    - James Graham (NYU)\n",
    "    - Ezgi Ozsogut (PSE)\n",
    "    - Norman Rion (Cergy)\n",
    "    - Gabrielle Queran (Polytechnique/INSEE)\n",
    "    - anybody is welcome to help / report bugs / ask questions"
   ]
  },
  {
   "cell_type": "markdown",
   "metadata": {},
   "source": [
    "Goals: \n",
    "\n",
    "- separate model definitions from the solution routines\n",
    "- also leverage the programming language for anything that is not the model:\n",
    "    - graphs\n",
    "    - loops, ...\n",
    "- aim for high performance generic algorithms\n",
    "    - JIT, GPU, ...\n",
    "- model description is rather generic\n",
    "    - currently: any kind of shock (iid, autocorrelated, discrete)\n",
    "    - future: any kind of shock, any kind of control"
   ]
  },
  {
   "cell_type": "markdown",
   "metadata": {},
   "source": [
    "## The YAML file\n",
    "\n",
    "- uses YAML standard\n",
    "    - extended with a mini-language to create objects\n",
    "- contains:\n",
    "    - declarations\n",
    "    - equations\n",
    "        - timing similar to dynare but with t and square brackets\n",
    "        - they have a formal grammar syntax\n",
    "    - calibration section\n",
    "    - exogenous shock\n",
    "    - calibration\n",
    "    - options"
   ]
  },
  {
   "cell_type": "markdown",
   "metadata": {},
   "source": [
    "## Examples\n",
    "\n",
    "Examples can be found in dolo_models (WIP) and in the examples/models subdirectory.\n",
    "Check documentation online."
   ]
  },
  {
   "cell_type": "markdown",
   "metadata": {},
   "source": [
    "## Test everything is working"
   ]
  },
  {
   "cell_type": "markdown",
   "metadata": {},
   "source": [
    "- Check the content of `models/rbc.yaml`\n"
   ]
  },
  {
   "cell_type": "markdown",
   "metadata": {},
   "source": [
    "\n",
    "- Import it with `yaml_import`.  (make sure you are in the right directory)\n"
   ]
  },
  {
   "cell_type": "code",
   "execution_count": null,
   "metadata": {},
   "outputs": [],
   "source": [
    "model = yaml_import(\"models/rbc.yaml\")"
   ]
  },
  {
   "cell_type": "markdown",
   "metadata": {},
   "source": [
    "\n",
    "- Use the model object to compute steady-state residuals. (Check `model.calibration` and )\n"
   ]
  },
  {
   "cell_type": "code",
   "execution_count": null,
   "metadata": {},
   "outputs": [],
   "source": []
  },
  {
   "cell_type": "markdown",
   "metadata": {},
   "source": [
    "\n",
    "- Compute linear perturbation solution `perturb`\n"
   ]
  },
  {
   "cell_type": "code",
   "execution_count": null,
   "metadata": {},
   "outputs": [],
   "source": []
  },
  {
   "cell_type": "markdown",
   "metadata": {},
   "source": [
    "\n",
    "- Simulate the solution with `simulate` (note that the resulting object is an axisarray)\n"
   ]
  },
  {
   "cell_type": "code",
   "execution_count": null,
   "metadata": {},
   "outputs": [],
   "source": []
  },
  {
   "cell_type": "markdown",
   "metadata": {},
   "source": [
    "\n",
    "- Compute nonlinear solution `time_iteration`\n"
   ]
  },
  {
   "cell_type": "code",
   "execution_count": null,
   "metadata": {},
   "outputs": [],
   "source": []
  },
  {
   "cell_type": "markdown",
   "metadata": {},
   "source": [
    "\n",
    "- Compare decision rules (using `tabulate`)"
   ]
  },
  {
   "cell_type": "code",
   "execution_count": null,
   "metadata": {},
   "outputs": [],
   "source": []
  },
  {
   "cell_type": "markdown",
   "metadata": {},
   "source": [
    "# Add a catastrophic shock to the RBC model\n",
    "\n",
    "The goal here is to add a discrete, catastrophic shock to the RBC model.\n",
    "\n",
    "In the orginal implementation, the law of motion for the capital is:\n",
    "\n",
    "  $$k_t = (1-\\delta)k_{t-1} + i_{t-1}$$\n",
    "\n",
    "The productivity process depends on an AR1:\n",
    "\n",
    "  $$z_t = \\rho z_{t-1} + \\epsilon_{z,t}$$\n",
    "\n",
    "and is given by:\n",
    "\n",
    "  $$A_t = \\exp(z_t)$$\n",
    "  \n",
    "We want to add two additional Markov states $x_t$ and $y_t$ defined as follows:\n",
    "\n",
    "- $x_t$ is equal to 1 in the first period the disaster hits the economy\n",
    "- $y_t$ is equal to 1 as long as the economy has not recovered (probability $p$ of staying in the disaster state)\n",
    "  \n",
    "When there is no disaster ($x_t=y_t=0$) there is a probability $u=3\\%$ that a disaster happens next period.\n",
    "\n",
    "Given the parameters $c_k=30\\%$ and  $c_z = 1 - \\left( 1- c_k \\right)^{1-\\alpha}$ the equations are amended as follows:\n",
    "\n",
    "$$k_t = (1-\\delta)k_{t-1}*(1-c_k x_t)+ i_{t-1}$$\n",
    "\n",
    "$$A_t = \\exp(z_t)*(1-c_z y_t)$$\n",
    "\n",
    "Save `rbc.yaml` as `rbc_disaster.yaml` and amend the model to allow for a disaster shock. The following parts need to be changed:\n",
    "- the `symbols` definitions\n",
    "- the equations\n",
    "- the calibration (to add the values of `x` and `y`)\n",
    "\n",
    "\n",
    "Import, solve and simulate the new version.\n",
    "\n",
    "Use `time_iteration`, `tabulate`, `simulate`\n"
   ]
  },
  {
   "cell_type": "markdown",
   "metadata": {},
   "source": []
  }
 ],
 "metadata": {
  "kernelspec": {
   "display_name": "Julia 1.8.1",
   "language": "julia",
   "name": "julia-1.8"
  },
  "language_info": {
   "file_extension": ".jl",
   "mimetype": "application/julia",
   "name": "julia",
   "version": "0.6.0"
  },
  "toc": {
   "colors": {
    "hover_highlight": "#DAA520",
    "navigate_num": "#000000",
    "navigate_text": "#333333",
    "running_highlight": "#FF0000",
    "selected_highlight": "#FFD700",
    "sidebar_border": "#EEEEEE",
    "wrapper_background": "#FFFFFF"
   },
   "moveMenuLeft": true,
   "nav_menu": {
    "height": "12px",
    "width": "252px"
   },
   "navigate_menu": true,
   "number_sections": true,
   "sideBar": true,
   "threshold": 4,
   "toc_cell": false,
   "toc_section_display": "block",
   "toc_window_display": false,
   "widenNotebook": false
  }
 },
 "nbformat": 4,
 "nbformat_minor": 4
}
