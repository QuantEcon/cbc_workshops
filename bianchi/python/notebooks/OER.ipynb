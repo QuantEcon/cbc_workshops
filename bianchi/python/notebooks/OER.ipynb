{
 "cells": [
  {
   "cell_type": "markdown",
   "metadata": {},
   "source": [
    "## Optimal Exchange Rate Regime\n",
    "\n",
    "This is my attempt to replicate the results for the OER model"
   ]
  },
  {
   "cell_type": "code",
   "execution_count": 1,
   "metadata": {},
   "outputs": [],
   "source": [
    "import numpy as np\n",
    "from collections import namedtuple\n",
    "import quantecon as qe\n",
    "from numba import njit, prange, int32\n",
    "import sys\n",
    "import tpm"
   ]
  },
  {
   "cell_type": "code",
   "execution_count": 2,
   "metadata": {},
   "outputs": [],
   "source": [
    "\n",
    "Model = namedtuple(\n",
    "    'Model', ('σ', # Inverse of intertemporal elasticity of consumption\n",
    "              'ħ', # H bar = Full endowment t units of labor \n",
    "              'ω', # Share of tradables in the consumption aggregator\n",
    "              'ξ', # Elasticity of substition between tradables and nontradables\n",
    "              'α', # Labor share in notraded output\n",
    "              'β', # Annual subjective discount factor\n",
    "              'π', # Annual Inflation Target\n",
    "              'ψ', # Annual Growth rate\n",
    "              'γ', # Annual Parameter governing DNWR including inflation and growth\n",
    "              'DMIN', # Lower Bound Debt Grid\n",
    "              'DMAX', # Upper Bound Debt Grid (Determined by Natural debt limit)\n",
    "              'DN', # Number of points in Debt Grid\n",
    "              'WMIN', # Lower Bound Wage Grid\n",
    "              'WMAX', # Upper Bound Wage Grid\n",
    "              'WN', # Number of points in Wage Grid\n",
    "              'YN', # Number of points in the grid for the Tradable Output\n",
    "              'RN', # Number of points in the grid for the Foreign Interest Rate\n",
    "              'RSTAR', # Average Annual Real Interest Rate\n",
    "              'Θ', # Autocorrelation Matrix for Stochastic Processes\n",
    "              'Σ', # Variance - Covariance Matrix for Stochastic Processes\n",
    "              'NUMSIM', # Number of periods to be simulated\n",
    "              'BURN', # Burn-in periods in the simulations\n",
    "              'Π', # Transition probability matrix\n",
    "              'S', # Vector of states * Full array of possibilities\n",
    "              'Xvec', # Simulated path for discrete VAR\n",
    "              'dgrid', # Bond grid\n",
    "              'ygrid', # Grid for Tradable Output\n",
    "              'rgrid' # Grid for Interest Rate\n",
    "              ))\n"
   ]
  },
  {
   "cell_type": "markdown",
   "metadata": {},
   "source": [
    "## Create the Model\n",
    "\n",
    "Creates and instance of the OER model, including the discretize VAR and needed simulations for $Y_t^T$ and $r_t$"
   ]
  },
  {
   "cell_type": "code",
   "execution_count": 3,
   "metadata": {},
   "outputs": [],
   "source": [
    "def create_OER_model(σ=5.0, ħ=1.0, ω=0.19, ξ=0.43 ,α=0.75,\n",
    "                    β=0.9571,\n",
    "                    γ=0.96, \n",
    "                    π=0,\n",
    "                    ψ=0,\n",
    "                    DMIN=-5, DMAX=5.4, DN=501,\n",
    "                    WMIN=0.1,WMAX=14.3,WN=500,\n",
    "                    YN=21, RN=11,\n",
    "                    RSTAR=0.021048,\n",
    "                    NUMSIM = 1_000_000, BURN = 100_000, estimate=False):\n",
    "    \n",
    "    \"Creates a parameterization with default values for the Optimal Exchange Rate Model.\"\n",
    "    π = 1 + π\n",
    "    γ = γ/((1 + π)*(1 + ψ))\n",
    "    Θ = np.array([[0.72137370, -0.1323976], [0.0028990, 0.9705325]])\n",
    "    Σ = np.array([[0.00116490, -0.0000131], [-0.0000131, 0.0001328]])\n",
    "    \n",
    "    N = np.array([YN, RN])\n",
    "    \n",
    "    # If needed, discretize the VAR process\n",
    "    # Otherwise, load the matrix in file\n",
    "    if estimate:\n",
    "        Π, Xvec, S = tpm.tpm(Θ, Σ , N, T=NUMSIM, Tburn=BURN)\n",
    "        np.savez(\"markov_tran.npz\", Π=Π, Xvec=Xvec, S=S, N=N)\n",
    "    \n",
    "    \n",
    "    # Check whether the stored matrix conforms to the dimensions specified by YN and RN\n",
    "    data = np.load('markov_tran.npz')\n",
    "    Π = data['Π']\n",
    "    Nck = data['N']\n",
    "    Nck=Nck[0]*Nck[1]\n",
    "    if YN*RN != Nck:\n",
    "        print('Error: Matrix in file does not have the same dimension as implied by inputs. You need to discretize the VAR again. ', file=sys.stderr)\n",
    "        sys.exit()\n",
    "\n",
    "    Xvec = data['Xvec']\n",
    "    S = data['S']\n",
    "    \n",
    "    # Shift Π from column to row major\n",
    "    Π = np.ascontiguousarray(Π)\n",
    "\n",
    "\n",
    "    rgrid = np.exp(S[:,1])*(1 + RSTAR) - 1\n",
    "    ygrid = np.exp(S[:,0]) \n",
    "    ny = len(ygrid)\n",
    "    dgrid = np.linspace(DMIN, DMAX, DN)\n",
    "    \n",
    "    return Model(σ=σ, ħ=ħ, ω=ω, ξ=ξ, α=α, β=β, γ=γ, π=π, ψ=ψ,\n",
    "                  DMIN=DMIN, DMAX=DMAX, DN=DN,\n",
    "                  WMIN=WMIN, WMAX=WMAX, WN=WN, YN=YN, RN=RN,\n",
    "                  RSTAR=RSTAR, \n",
    "                  Θ=Θ, Σ=Σ,\n",
    "                  NUMSIM=NUMSIM, BURN=BURN,\n",
    "                  Π=Π, S=S, Xvec=Xvec, \n",
    "                  dgrid=dgrid, ygrid=ygrid, rgrid=rgrid)\n",
    "    \n"
   ]
  },
  {
   "cell_type": "markdown",
   "metadata": {},
   "source": [
    "## Setting-up the solution method\n",
    "\n",
    "First we solve the OER with VFI. Here is the right-hand side of the Bellman Equation:"
   ]
  },
  {
   "cell_type": "code",
   "execution_count": 4,
   "metadata": {},
   "outputs": [],
   "source": [
    "@njit\n",
    "def B(i, j, ip, v, model):\n",
    "    \"\"\"\n",
    "    The right-hand side of the Bellman equation with candidate value v and\n",
    "    arguments w[i], y[j], wp[ip].\n",
    "\n",
    "    \"\"\"\n",
    "    dgrid, ygrid, rgrid = model.dgrid, model.ygrid, model.rgrid\n",
    "    ω, ξ, ħ, α, β, σ = model.ω, model.ξ, model.ħ, model.α, model.β, model.σ\n",
    "    Π =  model.Π\n",
    "    y, R, d, dp = ygrid[j], 1 + rgrid[j], dgrid[i],  dgrid[ip]\n",
    "    cT = y + dp/R - d # Consumption of tradable goods\n",
    "    c = (ω * cT ** (1 - 1/ξ) + (1 - ω) * (ħ ** α) ** (1 - 1/ξ)) ** (1/((1 - 1/ξ))) \n",
    "    \n",
    "    if c > 0:\n",
    "        return (c**(1 - σ) - 1)/ (1 - σ) + β * np.dot(v[ip, :], Π[j, :]) \n",
    "    return - np.inf"
   ]
  },
  {
   "cell_type": "markdown",
   "metadata": {},
   "source": [
    "## Now we set up the Bellman operator"
   ]
  },
  {
   "cell_type": "code",
   "execution_count": 5,
   "metadata": {},
   "outputs": [],
   "source": [
    "@njit(parallel=True)\n",
    "def T(v, model):\n",
    "    \"The Bellman operator.\"\n",
    "    bsize, ysize = len(model.dgrid), len(model.ygrid)\n",
    "    v_new = np.empty_like(v)\n",
    "    for i in prange(bsize):\n",
    "        for j in range(ysize):\n",
    "            v_new[i, j] = max([B(i, j, ip, v, model) for ip in range(bsize)])\n",
    "    return v_new"
   ]
  },
  {
   "cell_type": "code",
   "execution_count": 6,
   "metadata": {},
   "outputs": [],
   "source": [
    "@njit\n",
    "def argmax(list_object):\n",
    "    \"Return the index of the largest element of `list_object`.\"\n",
    "    max_val = -np.inf\n",
    "    argmax_index = None\n",
    "    for i, x in enumerate(list_object):\n",
    "        if x > max_val:\n",
    "            max_val = x\n",
    "            argmax_index = i\n",
    "    return argmax_index"
   ]
  },
  {
   "cell_type": "code",
   "execution_count": 7,
   "metadata": {},
   "outputs": [],
   "source": [
    "@njit(parallel=True)\n",
    "def get_greedy(v, model):\n",
    "    \"Compute a v-greedy policy.\"\n",
    "    bsize, ysize = len(model.dgrid), len(model.ygrid)\n",
    "    σ = np.empty_like(v, dtype=int32)\n",
    "    for i in prange(bsize):\n",
    "        for j in range(ysize):\n",
    "            σ[i, j] = argmax([B(i, j, ip, v, model) for ip in range(bsize)])\n",
    "    return σ"
   ]
  },
  {
   "cell_type": "code",
   "execution_count": 8,
   "metadata": {},
   "outputs": [],
   "source": [
    "def successive_approx(T,                     # Operator (callable)\n",
    "                      x_0,                   # Initial condition\n",
    "                      tolerance=1e-8,        # Error tolerance\n",
    "                      max_iter=10_000,       # Max iteration bound\n",
    "                      print_step=25,         # Print at multiples\n",
    "                      verbose=False):        \n",
    "    x = x_0\n",
    "    error = tolerance + 1\n",
    "    k = 1\n",
    "    while error > tolerance and k <= max_iter:\n",
    "        x_new = T(x)\n",
    "        error = np.max(np.abs(x_new - x))\n",
    "        if verbose and k % print_step == 0:\n",
    "            print(f\"Completed iteration {k} with error {error}.\")\n",
    "        x = x_new\n",
    "        k += 1\n",
    "    if error > tolerance:\n",
    "        print(f\"Warning: Iteration hit upper bound {max_iter}.\")\n",
    "    elif verbose:\n",
    "        print(f\"Terminated successfully in {k} iterations.\")\n",
    "    return x"
   ]
  },
  {
   "cell_type": "code",
   "execution_count": 9,
   "metadata": {},
   "outputs": [],
   "source": [
    "def value_iteration(model, tol=1e-8):\n",
    "    \"Implements VFI.\"\n",
    "    vz = np.zeros((len(model.dgrid), len(model.ygrid)))\n",
    "    v_star = successive_approx(lambda v: T(v, model), vz, tolerance=tol)\n",
    "    return get_greedy(v_star, model)"
   ]
  },
  {
   "cell_type": "code",
   "execution_count": 10,
   "metadata": {},
   "outputs": [
    {
     "name": "stdout",
     "output_type": "stream",
     "text": [
      "Starting VFI.\n",
      "TOC: Elapsed: 0:13:16.06\n",
      "[[ 73  79  77 ...   0   0   0]\n",
      " [ 74  79  78 ...   0   0   0]\n",
      " [ 75  80  79 ...   0   0   0]\n",
      " ...\n",
      " [495 500 499 ... 494 493 492]\n",
      " [496 500 500 ... 495 494 493]\n",
      " [497 500 500 ... 495 495 494]]\n",
      "VFI completed in 796.0638790130615 seconds.\n"
     ]
    }
   ],
   "source": [
    "model = create_OER_model()\n",
    "\n",
    "print(\"Starting VFI.\")\n",
    "qe.tic()\n",
    "out = value_iteration(model)\n",
    "elapsed = qe.toc()\n",
    "print(out)\n",
    "print(f\"VFI completed in {elapsed} seconds.\")"
   ]
  },
  {
   "cell_type": "code",
   "execution_count": 12,
   "metadata": {},
   "outputs": [
    {
     "data": {
      "text/plain": [
       "(501, 218)"
      ]
     },
     "execution_count": 12,
     "metadata": {},
     "output_type": "execute_result"
    }
   ],
   "source": [
    "out.shape"
   ]
  }
 ],
 "metadata": {
  "kernelspec": {
   "display_name": "Python 3.9.12 ('base')",
   "language": "python",
   "name": "python3"
  },
  "language_info": {
   "codemirror_mode": {
    "name": "ipython",
    "version": 3
   },
   "file_extension": ".py",
   "mimetype": "text/x-python",
   "name": "python",
   "nbconvert_exporter": "python",
   "pygments_lexer": "ipython3",
   "version": "3.9.12"
  },
  "orig_nbformat": 4,
  "vscode": {
   "interpreter": {
    "hash": "2b307fd287ca2528dc3dfd3c73410a2d83373a146b4adac818231a7e26548242"
   }
  }
 },
 "nbformat": 4,
 "nbformat_minor": 2
}
