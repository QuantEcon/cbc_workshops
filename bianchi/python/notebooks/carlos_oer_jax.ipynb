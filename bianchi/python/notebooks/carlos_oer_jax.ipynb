{
 "cells": [
  {
   "cell_type": "code",
   "execution_count": 33,
   "metadata": {},
   "outputs": [],
   "source": [
    "import numpy as np\n",
    "from collections import namedtuple\n",
    "import quantecon as qe\n",
    "from numba import njit, prange, int32\n",
    "import sys\n",
    "import tpm\n",
    "import jax\n",
    "import jax.numpy as jnp\n",
    "from jax import jit\n",
    "from quantecon.optimize.scalar_maximization import brent_max\n",
    "from functools import partial\n"
   ]
  },
  {
   "cell_type": "code",
   "execution_count": 34,
   "metadata": {},
   "outputs": [],
   "source": [
    "\n",
    "Model = namedtuple(\n",
    "    'Model', ('σ', # Inverse of intertemporal elasticity of consumption\n",
    "              'ħ', # H bar = Full endowment t units of labor \n",
    "              'ω', # Share of tradables in the consumption aggregator\n",
    "              'ξ', # Elasticity of substition between tradables and nontradables\n",
    "              'α', # Labor share in notraded output\n",
    "              'β', # Annual subjective discount factor\n",
    "              'π', # Annual Inflation Target\n",
    "              'ψ', # Annual Growth rate\n",
    "              'γ', # Annual Parameter governing DNWR including inflation and growth\n",
    "              'DMIN', # Lower Bound Debt Grid\n",
    "              'DMAX', # Upper Bound Debt Grid (Determined by Natural debt limit)\n",
    "              'DN', # Number of points in Debt Grid\n",
    "              'WMIN', # Lower Bound Wage Grid\n",
    "              'WMAX', # Upper Bound Wage Grid\n",
    "              'WN', # Number of points in Wage Grid\n",
    "              'YN', # Number of points in the grid for the Tradable Output\n",
    "              'RN', # Number of points in the grid for the Foreign Interest Rate\n",
    "              'RSTAR', # Average Annual Real Interest Rate\n",
    "              'Θ', # Autocorrelation Matrix for Stochastic Processes\n",
    "              'Σ', # Variance - Covariance Matrix for Stochastic Processes\n",
    "              'NUMSIM', # Number of periods to be simulated\n",
    "              'BURN', # Burn-in periods in the simulations\n",
    "              'Π', # Transition probability matrix\n",
    "              'S', # Vector of states * Full array of possibilities\n",
    "              'Xvec', # Simulated path for discrete VAR\n",
    "              'dgrid', # Bond grid\n",
    "              'ygrid', # Grid for Tradable Output\n",
    "              'rgrid',\n",
    "              'dmat', # Debt grid as a matrix\n",
    "              'ymat', # Income grid as a matrix\n",
    "              'dpmat' # Grid for debt tomorrow as matrix\n",
    "              ))\n"
   ]
  },
  {
   "cell_type": "code",
   "execution_count": 40,
   "metadata": {},
   "outputs": [],
   "source": [
    "def create_OER_model(σ=5.0, ħ=1.0, ω=0.19, ξ=0.43 ,α=0.75,\n",
    "                    β=0.9571,\n",
    "                    γ=0.96, \n",
    "                    π=0,\n",
    "                    ψ=0,\n",
    "                    DMIN=-5, DMAX=5.4, DN=501,\n",
    "                    WMIN=0.1,WMAX=14.3,WN=500,\n",
    "                    YN=21, RN=11,\n",
    "                    RSTAR=0.021048,\n",
    "                    NUMSIM = 1_000_000, BURN = 100_000, estimate=False):\n",
    "    \n",
    "    \"Creates a parameterization with default values for the Optimal Exchange Rate Model.\"\n",
    "    π = 1 + π\n",
    "    γ = γ/((1 + π)*(1 + ψ))\n",
    "    Θ = np.array([[0.72137370, -0.1323976], [0.0028990, 0.9705325]])\n",
    "    Σ = np.array([[0.00116490, -0.0000131], [-0.0000131, 0.0001328]])\n",
    "    \n",
    "    N = np.array([YN, RN])\n",
    "    \n",
    "    # If needed, discretize the VAR process\n",
    "    # Otherwise, load the matrix in file\n",
    "    if estimate:\n",
    "        Π, Xvec, S = tpm.tpm(Θ, Σ , N, T=NUMSIM, Tburn=BURN)\n",
    "        np.savez(\"markov_tran.npz\", Π=Π, Xvec=Xvec, S=S, N=N)\n",
    "    \n",
    "    \n",
    "    # Check whether the stored matrix conforms to the dimensions specified by YN and RN\n",
    "    data = np.load('markov_tran.npz')\n",
    "    Π = data['Π']\n",
    "    Nck = data['N']\n",
    "    Nck=Nck[0]*Nck[1]\n",
    "    if YN*RN != Nck:\n",
    "        print('Error: Matrix in file does not have the same dimension as implied by inputs. You need to discretize the VAR again. ', file=sys.stderr)\n",
    "        sys.exit()\n",
    "\n",
    "    Xvec = data['Xvec']\n",
    "    S = data['S']\n",
    "    \n",
    "    # Shift Π from column to row major\n",
    "    Π = np.ascontiguousarray(Π)\n",
    "\n",
    "\n",
    "    rgrid = np.exp(S[:,1])*(1 + RSTAR) - 1\n",
    "    ygrid = np.exp(S[:,0]) \n",
    "    ny = len(ygrid)\n",
    "    dgrid = np.linspace(DMIN, DMAX, DN)\n",
    "    \n",
    "    Π = np.reshape(Π, (ny, ny, 1))\n",
    "    d = np.reshape(dgrid, (DN, 1, 1))\n",
    "    y = np.reshape(ygrid, (1, ny, 1))\n",
    "    dp = np.reshape(dgrid, (1, 1, DN))\n",
    "\n",
    "\n",
    "    \n",
    "    \n",
    "    return Model(σ=σ, ħ=ħ, ω=ω, ξ=ξ, α=α, β=β, γ=γ, π=π, ψ=ψ,\n",
    "                  DMIN=DMIN, DMAX=DMAX, DN=DN,\n",
    "                  WMIN=WMIN, WMAX=WMAX, WN=WN, YN=YN, RN=RN,\n",
    "                  RSTAR=RSTAR, \n",
    "                  Θ=Θ, Σ=Σ,\n",
    "                  NUMSIM=NUMSIM, BURN=BURN,\n",
    "                  Π=Π, S=S, Xvec=Xvec, \n",
    "                  dgrid=dgrid, ygrid=ygrid, rgrid=rgrid, dmat = d, ymat = y, dpmat = dp)\n",
    "    "
   ]
  },
  {
   "cell_type": "code",
   "execution_count": 45,
   "metadata": {},
   "outputs": [],
   "source": [
    "@jit\n",
    "def T_vec(v,model):\n",
    "    \n",
    "    dgrid, ygrid, rgrid = model.dgrid, model.ygrid, model.rgrid\n",
    "    ω, ξ, ħ, α, β, σ = model.ω, model.ξ, model.ħ, model.α, model.β, model.σ\n",
    "    d, y = model.dmat, model.ymat\n",
    "    R = jax.device_put(1/(1 + rgrid))\n",
    "    Π = jax.device_put(model.Π)\n",
    "    ny = len(model.Π)\n",
    "    dp = jax.device_put(jnp.copy(d))\n",
    "    vp = jnp.dot(v, Π)\n",
    "    cT = dp*R + y - d\n",
    "    c = (ω * cT ** (1 - 1/ξ) + (1 - ω) * (ħ ** α) ** (1 - 1/ξ)) ** (1/(1 - 1/ξ)) \n",
    "    m = jnp.where(c > 0, (c**(1 - σ) - 1)/ (1 - σ) + β * vp, -jnp.inf)\n",
    "    \n",
    "    return jnp.max(m, axis=2)"
   ]
  },
  {
   "cell_type": "code",
   "execution_count": 46,
   "metadata": {},
   "outputs": [],
   "source": [
    "def vfi_iterator(v_init, model, tol=1e-6, max_iter=50_000):\n",
    "    error = tol + 1\n",
    "    i = 0\n",
    "    v = v_init\n",
    "    while error > tol and i < max_iter:\n",
    "        new_v = T_vec(v, model)\n",
    "        error = jnp.max(jnp.abs(new_v - v))\n",
    "        v = new_v\n",
    "\n",
    "        if i % 100 == 0:\n",
    "            print(f\"Iteration {i}\")\n",
    "        i += 1\n",
    "\n",
    "    if i == max_iter:\n",
    "        print(f\"Warning: iteration hit upper bound {max_iter}.\")\n",
    "    else:\n",
    "        print(f\"\\nConverged at iteration {i}.\")\n",
    "    return v"
   ]
  },
  {
   "cell_type": "code",
   "execution_count": 50,
   "metadata": {},
   "outputs": [
    {
     "name": "stdout",
     "output_type": "stream",
     "text": [
      "Iteration 0\n",
      "Iteration 100\n",
      "Iteration 200\n",
      "\n",
      "Converged at iteration 273.\n"
     ]
    }
   ],
   "source": [
    "model = create_OER_model(DN=501)\n",
    "vz = np.zeros((len(model.dgrid), len(model.ygrid)))\n",
    "vz = jax.device_put(vz)\n",
    "out = vfi_iterator(vz, model)"
   ]
  },
  {
   "cell_type": "code",
   "execution_count": 51,
   "metadata": {},
   "outputs": [
    {
     "name": "stdout",
     "output_type": "stream",
     "text": [
      "Iteration 0\n",
      "Iteration 100\n",
      "Iteration 200\n",
      "\n",
      "Converged at iteration 273.\n"
     ]
    }
   ],
   "source": [
    "#T_vec_jit = jax.jit(T_vec)\n",
    "out = vfi_iterator(vz, model)"
   ]
  },
  {
   "cell_type": "code",
   "execution_count": null,
   "metadata": {},
   "outputs": [
    {
     "data": {
      "text/plain": [
       "(218, 218, 1)"
      ]
     },
     "execution_count": 32,
     "metadata": {},
     "output_type": "execute_result"
    }
   ],
   "source": [
    "pi = model.Π\n",
    "pi = np.reshape(pi, (218,218,1))\n",
    "pi.shape"
   ]
  }
 ],
 "metadata": {
  "kernelspec": {
   "display_name": "Python 3.9.12 ('base')",
   "language": "python",
   "name": "python3"
  },
  "language_info": {
   "codemirror_mode": {
    "name": "ipython",
    "version": 3
   },
   "file_extension": ".py",
   "mimetype": "text/x-python",
   "name": "python",
   "nbconvert_exporter": "python",
   "pygments_lexer": "ipython3",
   "version": "3.9.12"
  },
  "orig_nbformat": 4,
  "vscode": {
   "interpreter": {
    "hash": "2b307fd287ca2528dc3dfd3c73410a2d83373a146b4adac818231a7e26548242"
   }
  }
 },
 "nbformat": 4,
 "nbformat_minor": 2
}
