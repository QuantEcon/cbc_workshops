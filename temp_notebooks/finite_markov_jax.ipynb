{
 "cells": [
  {
   "cell_type": "markdown",
   "id": "bb7a6362",
   "metadata": {},
   "source": [
    "# Finite Markov Chains -- JAX Versions\n",
    "\n",
    "### Prepared for the CBC Quantitative Economics Workshop (September 2022)\n",
    "\n",
    "#### John Stachurski\n",
    "\n",
    "In this notebook we develop some functions for manipulating finite Markov chains with JAX."
   ]
  },
  {
   "cell_type": "code",
   "execution_count": null,
   "id": "b544f0f6",
   "metadata": {
    "incorrectly_encoded_metadata": "hide-output=false"
   },
   "outputs": [],
   "source": [
    "#!pip install quantecon"
   ]
  },
  {
   "cell_type": "markdown",
   "id": "e304991d",
   "metadata": {},
   "source": [
    "We will use the following imports."
   ]
  },
  {
   "cell_type": "code",
   "execution_count": null,
   "id": "efdeea66",
   "metadata": {
    "incorrectly_encoded_metadata": "hide-output=false"
   },
   "outputs": [],
   "source": [
    "import matplotlib.pyplot as plt\n",
    "import numpy as np\n",
    "import quantecon as qe\n",
    "import jax\n",
    "import jax.numpy as jnp"
   ]
  },
  {
   "cell_type": "code",
   "execution_count": null,
   "id": "42de85d7",
   "metadata": {
    "lines_to_next_cell": 0
   },
   "outputs": [],
   "source": [
    "def update_scalar(P_cs, x, u):\n",
    "    return jnp.searchsorted(P_cs[x, :], u)\n",
    "\n",
    "update_vectorized = jax.vmap(update_scalar, in_axes=(None, 0, 0), out_axes=0)\n",
    "\n",
    "@jax.jit\n",
    "def update(P_cs, x, key): \n",
    "    \"\"\"\n",
    "    Performs a one step update of a population of k P-Markov chains, where\n",
    "\n",
    "    * `P_cs` is a stochastic matrix converted to cumulative sums on the rows\n",
    "    * `x` is a vector giving the current state of each member of the\n",
    "        population, with `x[i]` in {0, ..., n-1} for all `i`\n",
    "    * `key` is an instance of `jax.random.PRNGKey`\n",
    "\n",
    "    `x` is a flat integer-valued array with values in {0, ..., n-1}\n",
    "    that gives the current state across the population.\n",
    "    \"\"\"\n",
    "    k = len(x)\n",
    "    U = jax.random.uniform(key, (k, ))\n",
    "    return update_vectorized(P_cs, x, U)\n",
    "\n",
    "\n",
    "def simulate_mc(P, num_steps, pop_size, \n",
    "                init_vals=None, \n",
    "                seed=1234):\n",
    "    \"\"\"\n",
    "    Pushes forward in time a population of size `pop_size`, all of which\n",
    "    update independently via a P-Markov chain on the\n",
    "    integers {0, ..., n-1}, where `n = len(P)`.\n",
    "    \n",
    "    The initial conditions for the population are given by `init_vals`, which\n",
    "    is an array of integers of length `pop_size`, each element of which\n",
    "    takes values in in {0, ..., n-1}.\n",
    "    \n",
    "    If no initial conditions are supplied then they are chosen as IID\n",
    "    draws from a uniform distribution on {0,..., n-1}\n",
    "\n",
    "    The function returns an array `x` where `x[i]` is the state of the \n",
    "    i-th element of the population after `num_steps` updates.\n",
    "    \"\"\"\n",
    "\n",
    "    P = jnp.array(P)\n",
    "    \n",
    "    assert (len(P.shape) == 2), \"P must be two-dimensional.\"\n",
    "    n, k = P.shape\n",
    "    assert (n == k), \"P must be a square matrix.\"\n",
    "\n",
    "    state = jnp.arange(n)\n",
    "    P_cs = jnp.cumsum(P, axis=1)\n",
    "\n",
    "    key = jax.random.PRNGKey(seed)\n",
    "    \n",
    "    if init_vals is None:\n",
    "        init_vals = jax.random.randint(key, (pop_size,), minval=0, maxval=n-1)\n",
    "\n",
    "    x = init_vals\n",
    "    for _ in range(num_steps):\n",
    "        key, subkey = jax.random.split(key)\n",
    "        x = update(P_cs, init_vals, key)\n",
    "\n",
    "    return x"
   ]
  },
  {
   "cell_type": "code",
   "execution_count": null,
   "id": "2ea81236",
   "metadata": {
    "lines_to_next_cell": 2
   },
   "outputs": [],
   "source": []
  },
  {
   "cell_type": "markdown",
   "id": "bbfc7aab",
   "metadata": {},
   "source": [
    "### Test Case: Business Cycles\n",
    "\n",
    "As a test case, we use the stochastic matrix \n",
    "\n",
    "$$\n",
    "P_H =\n",
    "\\left(\n",
    "  \\begin{array}{ccc}\n",
    "     0.971 & 0.029 & 0 \\\\\n",
    "     0.145 & 0.778 & 0.077 \\\\\n",
    "     0 & 0.508 & 0.492\n",
    "  \\end{array}\n",
    "\\right)\n",
    "$$\n",
    "\n",
    "Estimated from  US unemployment data by Hamilton\n",
    "[[Ham05](https://python.quantecon.org/zreferences.html#id164)]."
   ]
  },
  {
   "cell_type": "code",
   "execution_count": null,
   "id": "fd853875",
   "metadata": {},
   "outputs": [],
   "source": [
    "P_H = [\n",
    "    [0.971, 0.029, 0    ],\n",
    "    [0.145, 0.778, 0.077],\n",
    "    [0,     0.508, 0.492]\n",
    "]"
   ]
  },
  {
   "cell_type": "code",
   "execution_count": null,
   "id": "08413636",
   "metadata": {},
   "outputs": [],
   "source": [
    "type(P_H)"
   ]
  },
  {
   "cell_type": "code",
   "execution_count": null,
   "id": "c02565d4",
   "metadata": {},
   "outputs": [],
   "source": [
    "P_H = np.array(P_H)"
   ]
  },
  {
   "cell_type": "code",
   "execution_count": null,
   "id": "c6e7349d",
   "metadata": {},
   "outputs": [],
   "source": [
    "type(P_H)"
   ]
  },
  {
   "cell_type": "code",
   "execution_count": null,
   "id": "d2ae6186",
   "metadata": {},
   "outputs": [],
   "source": [
    "P_H[0, 0]"
   ]
  },
  {
   "cell_type": "code",
   "execution_count": null,
   "id": "e91a3fcb",
   "metadata": {},
   "outputs": [],
   "source": [
    "P_H[0, :]"
   ]
  },
  {
   "cell_type": "markdown",
   "id": "5c5008ef",
   "metadata": {},
   "source": [
    "Now that $P_H$ is a NumPy array, we can compute powers by matrix multiplication:"
   ]
  },
  {
   "cell_type": "code",
   "execution_count": null,
   "id": "7db81c37",
   "metadata": {},
   "outputs": [],
   "source": [
    "P2_H = P_H @ P_H   # Two step transition probabilities"
   ]
  },
  {
   "cell_type": "code",
   "execution_count": null,
   "id": "9b25a86e",
   "metadata": {},
   "outputs": [],
   "source": []
  }
 ],
 "metadata": {
  "kernelspec": {
   "display_name": "Python 3 (ipykernel)",
   "language": "python",
   "name": "python3"
  }
 },
 "nbformat": 4,
 "nbformat_minor": 5
}
