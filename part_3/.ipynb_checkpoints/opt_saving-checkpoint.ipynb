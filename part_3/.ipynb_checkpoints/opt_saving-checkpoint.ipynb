{
 "cells": [
  {
   "cell_type": "markdown",
   "id": "dac4a82b",
   "metadata": {
    "id": "40d2195a"
   },
   "source": [
    "# Optimal Savings\n",
    "\n",
    "We consider a standard household savings problem and study different solution methods."
   ]
  },
  {
   "cell_type": "markdown",
   "id": "40d2195a",
   "metadata": {
    "id": "40d2195a"
   },
   "source": [
    "## A Savings Problem\n",
    "\n",
    "To focus on implementation rather than technical details, we will adopt a very\n",
    "familiar optimal savings problem as our running example.  \n",
    "\n",
    "* For more details on this problem see, for example, [this QuantEcon\n",
    "lecture](https://python.quantecon.org/ifp.html).\n",
    "* For a more elementary discussion of optimal savings see [this discussion of\n",
    "cake eating](https://python.quantecon.org/cake_eating_problem.html).\n",
    "\n",
    "The problem is to maximize the expected discounted sum\n",
    "\n",
    "$$\n",
    "    \\mathbb{E} \\sum_{t \\geq 0} \\beta^t u(c_t)\n",
    "$$\n",
    "\n",
    "subject to \n",
    "\n",
    "$$\n",
    "    c_t + a_{t+1} \\leq R a_t + y_t, \n",
    "    \\quad c_t \\geq 0\n",
    "    \\quad a_t \\geq 0\n",
    "$$\n",
    "\n",
    "for all $t \\geq 0$, with $a_0$ and $y_0$ given.\n",
    "\n",
    "Here \n",
    "\n",
    "* $c_t$ is consumption,\n",
    "* $a_t$ is assets,\n",
    "* $R$ is the gross risk-free rate of return, and\n",
    "* $y_t$ is income.\n",
    "\n",
    "The income process follows a Markov chain with transition matrix $P$.\n",
    "\n",
    "The Bellman equation is\n",
    "\n",
    "$$\n",
    "    v(a, y) = \n",
    "    \\max_{0 \\leq a' \\leq Ra + y}\n",
    "    \\left\\{\n",
    "    u(Ra + y - a') + \\beta \\sum_{y'} v(a', y') P(y, y') \n",
    "    \\right\\},\n",
    "$$\n",
    "\n",
    "where $v$ is the value function.\n",
    "\n",
    "The corresponding Bellman operator is \n",
    "\n",
    "$$\n",
    "    Tv(a, y) = \n",
    "    \\max_{0 \\leq a' \\leq Ra + y}\n",
    "    \\left\\{\n",
    "    u(Ra + y - a') + \\beta \\sum_{y'} v(a', y') P(y, y')\n",
    "    \\right\\}.\n",
    "$$\n",
    "\n",
    "We solve the dynamic program by value function iteration --- that is, by\n",
    "iterating with $T$."
   ]
  },
  {
   "cell_type": "markdown",
   "id": "a07c177e",
   "metadata": {
    "id": "a07c177e"
   },
   "source": [
    "First we import some libraries."
   ]
  },
  {
   "cell_type": "code",
   "execution_count": 1,
   "id": "qpO_8-Ha3F7z",
   "metadata": {
    "colab": {
     "base_uri": "https://localhost:8080/"
    },
    "id": "qpO_8-Ha3F7z",
    "outputId": "00245cf4-161d-4148-835f-973f99d72e63"
   },
   "outputs": [
    {
     "name": "stdout",
     "output_type": "stream",
     "text": [
      "Requirement already satisfied: quantecon in /home/john/anaconda3/lib/python3.9/site-packages (0.5.3)\n",
      "Requirement already satisfied: sympy in /home/john/anaconda3/lib/python3.9/site-packages (from quantecon) (1.10.1)\n",
      "Requirement already satisfied: numpy in /home/john/anaconda3/lib/python3.9/site-packages (from quantecon) (1.21.5)\n",
      "Requirement already satisfied: numba in /home/john/anaconda3/lib/python3.9/site-packages (from quantecon) (0.55.1)\n",
      "Requirement already satisfied: scipy>=1.0.0 in /home/john/anaconda3/lib/python3.9/site-packages (from quantecon) (1.7.3)\n",
      "Requirement already satisfied: requests in /home/john/anaconda3/lib/python3.9/site-packages (from quantecon) (2.28.1)\n",
      "Requirement already satisfied: setuptools in /home/john/anaconda3/lib/python3.9/site-packages (from numba->quantecon) (63.4.1)\n",
      "Requirement already satisfied: llvmlite<0.39,>=0.38.0rc1 in /home/john/anaconda3/lib/python3.9/site-packages (from numba->quantecon) (0.38.0)\n",
      "Requirement already satisfied: certifi>=2017.4.17 in /home/john/anaconda3/lib/python3.9/site-packages (from requests->quantecon) (2022.6.15)\n",
      "Requirement already satisfied: idna<4,>=2.5 in /home/john/anaconda3/lib/python3.9/site-packages (from requests->quantecon) (3.3)\n",
      "Requirement already satisfied: urllib3<1.27,>=1.21.1 in /home/john/anaconda3/lib/python3.9/site-packages (from requests->quantecon) (1.26.11)\n",
      "Requirement already satisfied: charset-normalizer<3,>=2 in /home/john/anaconda3/lib/python3.9/site-packages (from requests->quantecon) (2.0.4)\n",
      "Requirement already satisfied: mpmath>=0.19 in /home/john/anaconda3/lib/python3.9/site-packages (from sympy->quantecon) (1.2.1)\n"
     ]
    }
   ],
   "source": [
    "!pip install -U quantecon # Install quantecon in case it's missing"
   ]
  },
  {
   "cell_type": "code",
   "execution_count": 2,
   "id": "da4873ac",
   "metadata": {
    "id": "da4873ac"
   },
   "outputs": [],
   "source": [
    "import numpy as np\n",
    "import jax\n",
    "import jax.numpy as jnp\n",
    "from numba import njit\n",
    "import quantecon as qe \n",
    "import matplotlib.pyplot as plt"
   ]
  },
  {
   "cell_type": "markdown",
   "id": "9975d552",
   "metadata": {
    "id": "9975d552"
   },
   "source": [
    "Next we specify some primitives, including the utility function.  We will be lazy and include them as global variables."
   ]
  },
  {
   "cell_type": "code",
   "execution_count": 3,
   "id": "29643599",
   "metadata": {
    "id": "29643599"
   },
   "outputs": [],
   "source": [
    "R = 1.1\n",
    "β = 0.99\n",
    "γ = 2.5\n",
    "\n",
    "def u(c):\n",
    "    return c**(1-γ) / (1-γ)"
   ]
  },
  {
   "cell_type": "markdown",
   "id": "884bac7b",
   "metadata": {
    "id": "884bac7b"
   },
   "source": [
    "Now we define the asset grid.  We will use a large one so to generate a computationally demanding problem.  (Economists usually use smaller grids, but large grids easily arise once we start introducing more features to the model.  Since this complicates our code, we'll stick to a simple model with a large grid.)"
   ]
  },
  {
   "cell_type": "code",
   "execution_count": 4,
   "id": "4e10b3ab",
   "metadata": {
    "id": "4e10b3ab"
   },
   "outputs": [],
   "source": [
    "a_min, a_max = 0.01, 2\n",
    "a_size = ap_size = 1000\n",
    "a_grid = np.linspace(a_min, a_max, a_size)  # grid for a\n",
    "ap_grid = np.copy(a_grid)                   # grid for a'"
   ]
  },
  {
   "cell_type": "markdown",
   "id": "021394a8",
   "metadata": {
    "id": "021394a8"
   },
   "source": [
    "Next we build the Markov chain for income.  We will use QuantEcon's `tauchen()` function to construct a Markov chain via discretization of an AR1 process.  The details do not matter much.  All we are doing is setting up a grid of possible values for $y_t$ and the matrix of transition probabilities."
   ]
  },
  {
   "cell_type": "code",
   "execution_count": 5,
   "id": "f22b1210",
   "metadata": {
    "id": "f22b1210"
   },
   "outputs": [],
   "source": [
    "ρ = 0.9\n",
    "σ = 0.1\n",
    "y_size = 100\n",
    "mc = qe.tauchen(ρ, σ, n=y_size)\n",
    "y_grid = np.exp(mc.state_values)\n",
    "P = mc.P"
   ]
  },
  {
   "cell_type": "markdown",
   "id": "33f21f47",
   "metadata": {
    "id": "33f21f47"
   },
   "source": [
    "## A First Pass: Using Loops and Numba\n",
    "\n",
    "As our first implementation of the Bellman operator, we are going to use loops over the state and choice variables.  The use of `njit` in the code below indicates that we are using Numba to just-in-time (JIT) compile the utility function and the Bellman operator.  This makes the loops inside the Bellman operator run at the same speed as compiled C or Fortran code.\n",
    "\n",
    "We are applying Numba's JIT functionality so that we have a serious --- but not parallelized --- benchmark, running on the CPU.\n",
    "\n",
    "Below we will compare this benchmark to implementations on the GPU."
   ]
  },
  {
   "cell_type": "code",
   "execution_count": 6,
   "id": "2351774b",
   "metadata": {
    "id": "2351774b"
   },
   "outputs": [],
   "source": [
    "u_jit = njit(u)  # Compile the utility function\n",
    "\n",
    "@njit\n",
    "def T(v):\n",
    "    \"The Bellman operator.\"\n",
    "    # Allocate memory\n",
    "    v_new = np.empty_like(v)\n",
    "    # Step through all states\n",
    "    for i, a in enumerate(a_grid):\n",
    "        for j, y in enumerate(y_grid):\n",
    "            # Choose a' optimally by stepping through all possible values\n",
    "            v_max = - np.inf\n",
    "            for k, ap in enumerate(ap_grid):\n",
    "                c = R * a + y - ap\n",
    "                if c > 0:  \n",
    "                    # Calculate the right hand side of the Belllman operator\n",
    "                    val = u_jit(c) + β * np.dot(v[k, :], P[j, :])\n",
    "                    if val > v_max:\n",
    "                        v_max = val\n",
    "            v_new[i, j] = v_max\n",
    "    return v_new"
   ]
  },
  {
   "cell_type": "markdown",
   "id": "1c958745",
   "metadata": {
    "id": "1c958745"
   },
   "source": [
    "Here's a vector to test our operator on."
   ]
  },
  {
   "cell_type": "code",
   "execution_count": 7,
   "id": "dda13b27",
   "metadata": {
    "id": "dda13b27"
   },
   "outputs": [],
   "source": [
    "vz = np.zeros((a_size, y_size))"
   ]
  },
  {
   "cell_type": "markdown",
   "id": "8afe89b4",
   "metadata": {
    "id": "8afe89b4"
   },
   "source": [
    "Now let's apply the operator and see how long it takes."
   ]
  },
  {
   "cell_type": "code",
   "execution_count": 8,
   "id": "8dfa62a8",
   "metadata": {
    "colab": {
     "base_uri": "https://localhost:8080/"
    },
    "id": "8dfa62a8",
    "outputId": "21d8e579-19ac-41cb-c815-3394d8a45c84",
    "scrolled": true
   },
   "outputs": [
    {
     "name": "stdout",
     "output_type": "stream",
     "text": [
      "CPU times: user 4.56 s, sys: 0 ns, total: 4.56 s\n",
      "Wall time: 4.55 s\n"
     ]
    }
   ],
   "source": [
    "%time Tv_numba = T(vz)"
   ]
  },
  {
   "cell_type": "markdown",
   "id": "ynVq7qVg5KzU",
   "metadata": {
    "id": "ynVq7qVg5KzU"
   },
   "source": [
    "When we ran this on Colab, we obtained a Tesla P100, which can be seen in the output above (assuming you are reading this without running it, or that you have been assigned the same GPU).\n",
    "\n",
    "Next let's try to set up a Bellman operator that runs on this GPU."
   ]
  },
  {
   "cell_type": "markdown",
   "id": "844da4c6",
   "metadata": {
    "id": "844da4c6"
   },
   "source": [
    "## Vectorization via NumPy\n",
    "\n",
    "In this section we switch to a NumPy implementation.  We use some NumPy [broadcasting](https://jakevdp.github.io/PythonDataScienceHandbook/02.05-computation-on-arrays-broadcasting.html) tricks to eliminate loops.\n",
    "\n",
    "The basic idea is to add dimensions to arrays so that they will be stretched along the new dimensions when placed in arithmetic operations with other arrays that have more elements along those dimensions.  This stretching is done by repeating values, which is what we use to replace loops.\n",
    "\n",
    "The next code cell reshapes all arrays to be three-dimensional."
   ]
  },
  {
   "cell_type": "code",
   "execution_count": 9,
   "id": "43fbb3d6",
   "metadata": {
    "id": "43fbb3d6"
   },
   "outputs": [],
   "source": [
    "P = np.reshape(P, (y_size, y_size, 1))\n",
    "a = np.reshape(a_grid, (a_size, 1, 1))\n",
    "y = np.reshape(y_grid, (1, y_size, 1))\n",
    "ap = np.reshape(ap_grid, (1, 1, ap_size))"
   ]
  },
  {
   "cell_type": "markdown",
   "id": "9a709eb2",
   "metadata": {
    "id": "9a709eb2"
   },
   "source": [
    "Now we can implement a vectorized version of the Bellman operator, which calculates the same values."
   ]
  },
  {
   "cell_type": "code",
   "execution_count": 10,
   "id": "59455d06",
   "metadata": {
    "id": "59455d06"
   },
   "outputs": [],
   "source": [
    "def T_vec(v):\n",
    "    vp = np.dot(v, P)\n",
    "    c = R * a + y - ap\n",
    "    m = np.where(c > 0, u(c) + β * vp, -np.inf)\n",
    "    return np.max(m, axis=2)"
   ]
  },
  {
   "cell_type": "markdown",
   "id": "1d0fe4bf",
   "metadata": {
    "id": "1d0fe4bf"
   },
   "source": [
    "Let's check the output and see how fast it runs."
   ]
  },
  {
   "cell_type": "code",
   "execution_count": 11,
   "id": "4f5b0e11",
   "metadata": {
    "colab": {
     "base_uri": "https://localhost:8080/"
    },
    "id": "4f5b0e11",
    "outputId": "28eae9e0-180f-476f-8f80-7f9336a06a76"
   },
   "outputs": [
    {
     "name": "stderr",
     "output_type": "stream",
     "text": [
      "/tmp/ipykernel_256246/4060190941.py:6: RuntimeWarning: invalid value encountered in power\n",
      "  return c**(1-γ) / (1-γ)\n"
     ]
    },
    {
     "name": "stdout",
     "output_type": "stream",
     "text": [
      "CPU times: user 1.72 s, sys: 240 ms, total: 1.96 s\n",
      "Wall time: 1.96 s\n"
     ]
    }
   ],
   "source": [
    "%time Tv_numpy = T_vec(vz)"
   ]
  },
  {
   "cell_type": "markdown",
   "id": "397ae8be",
   "metadata": {},
   "source": [
    "Let's make sure that the two versions produce the same numbers:"
   ]
  },
  {
   "cell_type": "code",
   "execution_count": 12,
   "id": "7ad6ee46",
   "metadata": {},
   "outputs": [
    {
     "data": {
      "text/plain": [
       "True"
      ]
     },
     "execution_count": 12,
     "metadata": {},
     "output_type": "execute_result"
    }
   ],
   "source": [
    "np.allclose(Tv_numba, Tv_numpy)"
   ]
  },
  {
   "cell_type": "markdown",
   "id": "c6e1efe0",
   "metadata": {
    "id": "c6e1efe0"
   },
   "source": [
    "The output is the same as above, but execution speed is up by one order of magnitude --- at least on this machine, at the time of writing.  \n",
    "\n",
    "Where does the speed gain come from, given that we had already compiled our loops in the previous version of $T$?\n",
    "\n",
    "The answer is that NumPy array operations use some degree of multithreading on the CPU with basic array operations.  So we are running operations at a similar speed but making better use of multi-core CPU platforms via parallelization."
   ]
  },
  {
   "cell_type": "markdown",
   "id": "8TH7cD0l4izg",
   "metadata": {
    "id": "8TH7cD0l4izg"
   },
   "source": [
    "## Switching to the GPU via JaX"
   ]
  },
  {
   "cell_type": "markdown",
   "id": "Be5AJYm942XE",
   "metadata": {
    "id": "Be5AJYm942XE"
   },
   "source": [
    "Next we look to switch to a GPU-based implementation.  First, let's check that Google Colab has assigned us a nice GPU."
   ]
  },
  {
   "cell_type": "code",
   "execution_count": 13,
   "id": "lHDzQN__3rMC",
   "metadata": {
    "colab": {
     "base_uri": "https://localhost:8080/"
    },
    "id": "lHDzQN__3rMC",
    "outputId": "b7fb05f5-907a-4342-82fd-a3384d237258"
   },
   "outputs": [
    {
     "name": "stdout",
     "output_type": "stream",
     "text": [
      "zsh:1: command not found: nvidia-smi\r\n"
     ]
    }
   ],
   "source": [
    "!nvidia-smi"
   ]
  },
  {
   "cell_type": "markdown",
   "id": "86087543",
   "metadata": {
    "id": "86087543"
   },
   "source": [
    "Now we are ready for our JAX implementation, which runs on the GPU when available.\n",
    "\n",
    "Fortunately, the JAX operations are essentially identical to the NumPy ones, after shifting our arrays to the GPU (the \"device\") and replacing `numpy` calls with `jax.numpy` calls (aliased as `jnp`)."
   ]
  },
  {
   "cell_type": "code",
   "execution_count": 14,
   "id": "1c13f56d",
   "metadata": {
    "id": "1c13f56d"
   },
   "outputs": [
    {
     "name": "stderr",
     "output_type": "stream",
     "text": [
      "WARNING:absl:No GPU/TPU found, falling back to CPU. (Set TF_CPP_MIN_LOG_LEVEL=0 and rerun for more info.)\n"
     ]
    }
   ],
   "source": [
    "# Shift all NumPy arrays onto the GPU\n",
    "P = jax.device_put(P)\n",
    "a = jax.device_put(a)\n",
    "y = jax.device_put(y)\n",
    "ap = jax.device_put(ap)\n",
    "vz = jax.device_put(vz)\n",
    "\n",
    "# Define the Bellman operator as in the NumPy version, but replacing np with jnp\n",
    "def T_jax(v):\n",
    "    vp = jnp.dot(v, P)\n",
    "    c = R * a + y - ap\n",
    "    m = jnp.where(c > 0, u(c) +   β * vp, -np.inf)\n",
    "    return jnp.max(m, axis=2)\n"
   ]
  },
  {
   "cell_type": "markdown",
   "id": "JzNNIIIu5xjV",
   "metadata": {
    "id": "JzNNIIIu5xjV"
   },
   "source": [
    "Let's look at the timing.  (We use `block_until_ready()` only to force evaluation at the time of function call, so we can do proper benchmarking.)"
   ]
  },
  {
   "cell_type": "code",
   "execution_count": 15,
   "id": "6cdba533",
   "metadata": {
    "colab": {
     "base_uri": "https://localhost:8080/"
    },
    "id": "6cdba533",
    "outputId": "033d9455-16b9-48ec-d668-fe2a255b81be"
   },
   "outputs": [
    {
     "name": "stdout",
     "output_type": "stream",
     "text": [
      "CPU times: user 1.94 s, sys: 601 ms, total: 2.54 s\n",
      "Wall time: 750 ms\n"
     ]
    }
   ],
   "source": [
    "%time Tv_jax = T_jax(vz).block_until_ready()"
   ]
  },
  {
   "cell_type": "markdown",
   "id": "4a9c44ab",
   "metadata": {
    "id": "4a9c44ab"
   },
   "source": [
    "We already have some speed gain from shifting to the GPU.  But we can do even better, using JAX's just-in-time compiler.  First we target `T_jax` for compilation."
   ]
  },
  {
   "cell_type": "code",
   "execution_count": 16,
   "id": "336a5d23",
   "metadata": {
    "id": "336a5d23"
   },
   "outputs": [],
   "source": [
    "T_jax_jit = jax.jit(T_jax)"
   ]
  },
  {
   "cell_type": "markdown",
   "id": "bdbacc5c",
   "metadata": {
    "id": "bdbacc5c"
   },
   "source": [
    "When we first run the function there is only moderate speed gain because the function needs to be compiled before it is run:"
   ]
  },
  {
   "cell_type": "code",
   "execution_count": 17,
   "id": "7b1c7538",
   "metadata": {
    "colab": {
     "base_uri": "https://localhost:8080/"
    },
    "id": "7b1c7538",
    "outputId": "3159126f-4a6c-4893-9324-ef5890ba7614"
   },
   "outputs": [
    {
     "name": "stdout",
     "output_type": "stream",
     "text": [
      "CPU times: user 2.07 s, sys: 115 ms, total: 2.18 s\n",
      "Wall time: 201 ms\n"
     ]
    },
    {
     "data": {
      "text/plain": [
       "DeviceArray([[-1.8662356 , -1.8277919 , -1.7901386 , ..., -0.24736291,\n",
       "              -0.24225995, -0.23726219],\n",
       "             [-1.8541179 , -1.8160865 , -1.7788315 , ..., -0.2469437 ,\n",
       "              -0.24185503, -0.23687112],\n",
       "             [-1.8421305 , -1.8045052 , -1.7676427 , ..., -0.24652565,\n",
       "              -0.24145125, -0.2364811 ],\n",
       "             ...,\n",
       "             [-0.15126798, -0.15067609, -0.15007985, ..., -0.07968265,\n",
       "              -0.07890309, -0.07812549],\n",
       "             [-0.15108322, -0.15049253, -0.14989749, ..., -0.07961915,\n",
       "              -0.07884061, -0.07806405],\n",
       "             [-0.15089881, -0.15030932, -0.14971548, ..., -0.07955572,\n",
       "              -0.07877821, -0.07800266]], dtype=float32)"
      ]
     },
     "execution_count": 17,
     "metadata": {},
     "output_type": "execute_result"
    }
   ],
   "source": [
    "%time T_jax_jit(vz).block_until_ready()"
   ]
  },
  {
   "cell_type": "markdown",
   "id": "aae0ffc2",
   "metadata": {
    "id": "aae0ffc2"
   },
   "source": [
    "But the next time we run it we get a large speed gain:"
   ]
  },
  {
   "cell_type": "code",
   "execution_count": 18,
   "id": "361234e8",
   "metadata": {
    "colab": {
     "base_uri": "https://localhost:8080/"
    },
    "id": "361234e8",
    "outputId": "e37f75d8-e34d-43a7-d633-0167f6fb2e13"
   },
   "outputs": [
    {
     "name": "stdout",
     "output_type": "stream",
     "text": [
      "CPU times: user 1.84 s, sys: 135 ms, total: 1.97 s\n",
      "Wall time: 147 ms\n"
     ]
    },
    {
     "data": {
      "text/plain": [
       "DeviceArray([[-1.8662356 , -1.8277919 , -1.7901386 , ..., -0.24736291,\n",
       "              -0.24225995, -0.23726219],\n",
       "             [-1.8541179 , -1.8160865 , -1.7788315 , ..., -0.2469437 ,\n",
       "              -0.24185503, -0.23687112],\n",
       "             [-1.8421305 , -1.8045052 , -1.7676427 , ..., -0.24652565,\n",
       "              -0.24145125, -0.2364811 ],\n",
       "             ...,\n",
       "             [-0.15126798, -0.15067609, -0.15007985, ..., -0.07968265,\n",
       "              -0.07890309, -0.07812549],\n",
       "             [-0.15108322, -0.15049253, -0.14989749, ..., -0.07961915,\n",
       "              -0.07884061, -0.07806405],\n",
       "             [-0.15089881, -0.15030932, -0.14971548, ..., -0.07955572,\n",
       "              -0.07877821, -0.07800266]], dtype=float32)"
      ]
     },
     "execution_count": 18,
     "metadata": {},
     "output_type": "execute_result"
    }
   ],
   "source": [
    "%time T_jax_jit(vz).block_until_ready()"
   ]
  },
  {
   "cell_type": "markdown",
   "id": "c2533099",
   "metadata": {
    "id": "c2533099"
   },
   "source": [
    "That's seriously fast.\n",
    "\n",
    "This new speed gain is possible because JAX's JIT compiler \"fuses\" the array operations inside `T_jax`, which essentially means that it views them as a whole and optimizes accordingly.  This allows generation of highly efficient code for the GPU."
   ]
  },
  {
   "cell_type": "markdown",
   "id": "8364f598",
   "metadata": {},
   "source": [
    "We should get something reasonably close to the Numba/NumPy output (although you might see some small deviations when JAX uses 32 bit floats)."
   ]
  },
  {
   "cell_type": "code",
   "execution_count": 19,
   "id": "770852c6",
   "metadata": {},
   "outputs": [
    {
     "data": {
      "text/plain": [
       "True"
      ]
     },
     "execution_count": 19,
     "metadata": {},
     "output_type": "execute_result"
    }
   ],
   "source": [
    "np.allclose(Tv_numpy, Tv_jax)"
   ]
  },
  {
   "cell_type": "markdown",
   "id": "a28df98d",
   "metadata": {},
   "source": [
    "## Iterating to Convergence"
   ]
  },
  {
   "cell_type": "markdown",
   "id": "cf524486",
   "metadata": {
    "id": "cf524486"
   },
   "source": [
    "To finish the exercise off, let's iterate until convergence and then plot the value function."
   ]
  },
  {
   "cell_type": "code",
   "execution_count": 20,
   "id": "1c7808e3",
   "metadata": {
    "id": "1c7808e3"
   },
   "outputs": [],
   "source": [
    "def vfi_iterator(v_init=vz, tol=1e-6, max_iter=50_000):\n",
    "    error = tol + 1\n",
    "    i = 0\n",
    "    v = v_init\n",
    "    while error > tol and i < max_iter:\n",
    "        new_v = T_jax_jit(v)\n",
    "        error = jnp.max(jnp.abs(new_v - v))\n",
    "        v = new_v\n",
    "\n",
    "        if i % 100 == 0:\n",
    "            print(f\"Iteration {i}\")\n",
    "        i += 1\n",
    "\n",
    "    if i == max_iter:\n",
    "        print(f\"Warning: iteration hit upper bound {max_iter}.\")\n",
    "    else:\n",
    "        print(f\"\\nConverged at iteration {i}.\")\n",
    "    return v"
   ]
  },
  {
   "cell_type": "code",
   "execution_count": 21,
   "id": "5ee0d51d",
   "metadata": {
    "colab": {
     "base_uri": "https://localhost:8080/"
    },
    "id": "5ee0d51d",
    "outputId": "13f30192-f0fe-4dda-ea17-a3f8cecb3d46"
   },
   "outputs": [
    {
     "name": "stdout",
     "output_type": "stream",
     "text": [
      "Iteration 0\n",
      "Iteration 100\n",
      "Iteration 200\n",
      "Iteration 300\n",
      "Iteration 400\n",
      "Iteration 500\n",
      "Iteration 600\n",
      "Iteration 700\n",
      "Iteration 800\n",
      "Iteration 900\n",
      "Iteration 1000\n",
      "Iteration 1100\n",
      "Iteration 1200\n",
      "Iteration 1300\n",
      "Iteration 1400\n",
      "Iteration 1500\n",
      "\n",
      "Converged at iteration 1501.\n"
     ]
    }
   ],
   "source": [
    "v = vfi_iterator()"
   ]
  },
  {
   "cell_type": "markdown",
   "id": "lN9phwnJ-ZPo",
   "metadata": {
    "id": "lN9phwnJ-ZPo"
   },
   "source": [
    "Here's a plot of the value function."
   ]
  },
  {
   "cell_type": "code",
   "execution_count": 22,
   "id": "4bbfd9f4",
   "metadata": {
    "id": "4bbfd9f4"
   },
   "outputs": [],
   "source": [
    "from mpl_toolkits.mplot3d.axes3d import Axes3D\n",
    "from matplotlib import cm"
   ]
  },
  {
   "cell_type": "code",
   "execution_count": 23,
   "id": "8ebe4c5b",
   "metadata": {
    "colab": {
     "base_uri": "https://localhost:8080/",
     "height": 357
    },
    "id": "8ebe4c5b",
    "outputId": "f0e02ea5-2dd7-408b-8ca7-2cc7886c1483"
   },
   "outputs": [
    {
     "data": {
      "image/png": "[encoded data removed]",
      "text/plain": [
       "<Figure size 720x432 with 1 Axes>"
      ]
     },
     "metadata": {
      "needs_background": "light"
     },
     "output_type": "display_data"
    }
   ],
   "source": [
    "\n",
    "a, y = np.meshgrid(a_grid, y_grid)\n",
    "\n",
    "fig = plt.figure(figsize=(10, 6))\n",
    "ax = fig.add_subplot(111, projection='3d')\n",
    "ax.plot_surface(a,\n",
    "                y,\n",
    "                v.T,\n",
    "                rstride=2, cstride=2,\n",
    "                cmap=cm.jet,\n",
    "                alpha=0.7,\n",
    "                linewidth=0.25)\n",
    "\n",
    "ax.view_init(15, 120)\n",
    "plt.show()"
   ]
  },
  {
   "cell_type": "code",
   "execution_count": null,
   "id": "2ff4a41c",
   "metadata": {
    "id": "2ff4a41c"
   },
   "outputs": [],
   "source": []
  }
 ],
 "metadata": {
  "accelerator": "GPU",
  "colab": {
   "name": "jax_dp.ipynb",
   "provenance": []
  },
  "kernelspec": {
   "display_name": "Python 3 (ipykernel)",
   "language": "python",
   "name": "python3"
  },
  "language_info": {
   "codemirror_mode": {
    "name": "ipython",
    "version": 3
   },
   "file_extension": ".py",
   "mimetype": "text/x-python",
   "name": "python",
   "nbconvert_exporter": "python",
   "pygments_lexer": "ipython3",
   "version": "3.9.12"
  }
 },
 "nbformat": 4,
 "nbformat_minor": 5
}
