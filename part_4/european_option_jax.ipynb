{
 "cells": [
  {
   "cell_type": "markdown",
   "id": "b93734d3",
   "metadata": {},
   "source": [
    "## Pricing a European Call Option (Numba vs JAX)"
   ]
  },
  {
   "cell_type": "markdown",
   "id": "ee528fd1",
   "metadata": {},
   "source": [
    "#### Written for the CBC QuantEcon Workshop (September 2022)\n",
    "\n",
    "#### Author: [John Stachurski](http://johnstachurski.net/)"
   ]
  },
  {
   "cell_type": "code",
   "execution_count": 8,
   "id": "cfdd9072",
   "metadata": {},
   "outputs": [],
   "source": [
    "import numpy as np\n",
    "import matplotlib.pyplot as plt"
   ]
  },
  {
   "cell_type": "markdown",
   "id": "aa8bbfa1",
   "metadata": {},
   "source": [
    "Recall that we want to compute\n",
    "\n",
    "\n",
    "$$ P = \\beta^n \\mathbb E \\max\\{ S_n - K, 0 \\} $$\n",
    "\n",
    "We suppose that"
   ]
  },
  {
   "cell_type": "code",
   "execution_count": 9,
   "id": "f6528adb",
   "metadata": {},
   "outputs": [],
   "source": [
    "n  = 20\n",
    "β = 0.99\n",
    "K = 100"
   ]
  },
  {
   "cell_type": "markdown",
   "id": "5741765b",
   "metadata": {},
   "source": [
    "The dynamics are\n",
    "\n",
    "$$ \\ln \\frac{S_{t+1}}{S_t} = \\mu + \\sigma_t \\xi_{t+1} $$\n",
    "\n",
    "where \n",
    "\n",
    "$$ \n",
    "    \\sigma_t = \\exp(h_t), \n",
    "    \\quad\n",
    "        h_{t+1} = \\rho h_t + \\nu \\eta_{t+1}\n",
    "$$\n",
    "\n",
    "Here $\\{\\xi_t\\}$ and $\\{\\eta_t\\}$ are IID and standard normal."
   ]
  },
  {
   "cell_type": "markdown",
   "id": "5058d5ca",
   "metadata": {},
   "source": [
    "With $s_t := \\ln S_t$, the price dynamics become\n",
    "\n",
    "$$ s_{t+1} = s_t + \\mu + \\exp(h_t) \\xi_{t+1} $$"
   ]
  },
  {
   "cell_type": "markdown",
   "id": "8aa8da35",
   "metadata": {},
   "source": [
    "We use the following defaults."
   ]
  },
  {
   "cell_type": "code",
   "execution_count": 10,
   "id": "e1247de4",
   "metadata": {},
   "outputs": [],
   "source": [
    "μ  = 0.0001\n",
    "ρ  = 0.1\n",
    "ν  = 0.001\n",
    "S0 = 10\n",
    "h0 = 0"
   ]
  },
  {
   "cell_type": "markdown",
   "id": "1e050d4a",
   "metadata": {},
   "source": [
    "(Here `S0` is $S_0$ and `h0` is $h_0$.)"
   ]
  },
  {
   "cell_type": "markdown",
   "id": "0f9a0b27",
   "metadata": {},
   "source": [
    "We used the following estimate of the price, computed via Monte Carlo and applying Numba and parallelization."
   ]
  },
  {
   "cell_type": "code",
   "execution_count": 15,
   "id": "546888a1",
   "metadata": {},
   "outputs": [],
   "source": [
    "from numba import njit, prange\n",
    "from numpy.random import randn"
   ]
  },
  {
   "cell_type": "code",
   "execution_count": 16,
   "id": "29c445a5",
   "metadata": {},
   "outputs": [],
   "source": [
    "M = 10_000_000"
   ]
  },
  {
   "cell_type": "code",
   "execution_count": 17,
   "id": "49ba9d36",
   "metadata": {},
   "outputs": [],
   "source": [
    "@njit(parallel=True)\n",
    "def compute_call_price_parallel(β=β,\n",
    "                                μ=μ,\n",
    "                                S0=S0,\n",
    "                                h0=h0,\n",
    "                                K=K,\n",
    "                                n=n,\n",
    "                                ρ=ρ,\n",
    "                                ν=ν,\n",
    "                                M=M):\n",
    "    current_sum = 0.0\n",
    "    # For each sample path\n",
    "    for m in prange(M):\n",
    "        s = np.log(S0)\n",
    "        h = h0\n",
    "        # Simulate forward in time\n",
    "        for t in range(n):\n",
    "            s = s + μ + np.exp(h) * randn()\n",
    "            h = ρ * h + ν * randn()\n",
    "        # And add the value max{S_n - K, 0} to current_sum\n",
    "        current_sum += np.maximum(np.exp(s) - K, 0)\n",
    "        \n",
    "    return β**n * current_sum / M"
   ]
  },
  {
   "cell_type": "code",
   "execution_count": 18,
   "id": "c1ddc360",
   "metadata": {},
   "outputs": [
    {
     "name": "stdout",
     "output_type": "stream",
     "text": [
      "CPU times: user 14.3 s, sys: 19.5 ms, total: 14.4 s\n",
      "Wall time: 2.33 s\n"
     ]
    },
    {
     "data": {
      "text/plain": [
       "167647.93969568016"
      ]
     },
     "execution_count": 18,
     "metadata": {},
     "output_type": "execute_result"
    }
   ],
   "source": [
    "%%time\n",
    "compute_call_price_parallel()"
   ]
  },
  {
   "cell_type": "code",
   "execution_count": 19,
   "id": "15c645cc",
   "metadata": {},
   "outputs": [
    {
     "name": "stdout",
     "output_type": "stream",
     "text": [
      "CPU times: user 13.8 s, sys: 11.7 ms, total: 13.8 s\n",
      "Wall time: 1.8 s\n"
     ]
    },
    {
     "data": {
      "text/plain": [
       "157306.5698800889"
      ]
     },
     "execution_count": 19,
     "metadata": {},
     "output_type": "execute_result"
    }
   ],
   "source": [
    "%%time\n",
    "compute_call_price_parallel()"
   ]
  },
  {
   "cell_type": "markdown",
   "id": "2c2444dd",
   "metadata": {},
   "source": [
    "### Exercise\n",
    "\n",
    "Try to shift the whole operation to the GPU using JAX and test your speed gain."
   ]
  },
  {
   "cell_type": "markdown",
   "id": "c24104d0",
   "metadata": {},
   "source": [
    "### Solution"
   ]
  },
  {
   "cell_type": "code",
   "execution_count": 20,
   "id": "8a51bfdc",
   "metadata": {},
   "outputs": [
    {
     "name": "stdout",
     "output_type": "stream",
     "text": [
      "Sat Sep 10 14:42:50 2022       \r\n",
      "+-----------------------------------------------------------------------------+\r\n",
      "| NVIDIA-SMI 515.65.01    Driver Version: 515.65.01    CUDA Version: 11.7     |\r\n",
      "|-------------------------------+----------------------+----------------------+\r\n",
      "| GPU  Name        Persistence-M| Bus-Id        Disp.A | Volatile Uncorr. ECC |\r\n",
      "| Fan  Temp  Perf  Pwr:Usage/Cap|         Memory-Usage | GPU-Util  Compute M. |\r\n",
      "|                               |                      |               MIG M. |\r\n",
      "|===============================+======================+======================|\r\n",
      "|   0  NVIDIA GeForce ...  On   | 00000000:3B:00.0 Off |                  N/A |\r\n",
      "| 30%   27C    P8    25W / 320W |      1MiB / 10240MiB |      0%      Default |\r\n",
      "|                               |                      |                  N/A |\r\n",
      "+-------------------------------+----------------------+----------------------+\r\n",
      "                                                                               \r\n",
      "+-----------------------------------------------------------------------------+\r\n",
      "| Processes:                                                                  |\r\n",
      "|  GPU   GI   CI        PID   Type   Process name                  GPU Memory |\r\n",
      "|        ID   ID                                                   Usage      |\r\n",
      "|=============================================================================|\r\n",
      "|  No running processes found                                                 |\r\n",
      "+-----------------------------------------------------------------------------+\r\n"
     ]
    }
   ],
   "source": [
    "!nvidia-smi"
   ]
  },
  {
   "cell_type": "code",
   "execution_count": 21,
   "id": "cb274020",
   "metadata": {},
   "outputs": [],
   "source": [
    "import jax\n",
    "import jax.numpy as jnp"
   ]
  },
  {
   "cell_type": "code",
   "execution_count": 26,
   "id": "17428b84",
   "metadata": {},
   "outputs": [],
   "source": [
    "@jax.jit\n",
    "def compute_call_price_jax(β=β,\n",
    "                           μ=μ,\n",
    "                           S0=S0,\n",
    "                           h0=h0,\n",
    "                           K=K,\n",
    "                           n=n,\n",
    "                           ρ=ρ,\n",
    "                           ν=ν,\n",
    "                           M=M,\n",
    "                           key=jax.random.PRNGKey(1)):\n",
    "\n",
    "    s = jnp.full(M, np.log(S0))\n",
    "    h = jnp.full(M, h0)\n",
    "    for t in range(n):\n",
    "        key, subkey = jax.random.split(key)\n",
    "        Z = jax.random.normal(subkey, (2, M))\n",
    "        s = s + μ + jnp.exp(h) * Z[0, :]\n",
    "        h = ρ * h + ν * Z[1, :]\n",
    "    expectation = jnp.mean(jnp.maximum(jnp.exp(s) - K, 0))\n",
    "        \n",
    "    return β**n * expectation"
   ]
  },
  {
   "cell_type": "code",
   "execution_count": 27,
   "id": "4009135c",
   "metadata": {},
   "outputs": [
    {
     "name": "stdout",
     "output_type": "stream",
     "text": [
      "CPU times: user 2.64 s, sys: 108 ms, total: 2.75 s\n",
      "Wall time: 4.42 s\n"
     ]
    },
    {
     "data": {
      "text/plain": [
       "DeviceArray(152444.25, dtype=float32)"
      ]
     },
     "execution_count": 27,
     "metadata": {},
     "output_type": "execute_result"
    }
   ],
   "source": [
    "%%time \n",
    "compute_call_price_jax()"
   ]
  },
  {
   "cell_type": "code",
   "execution_count": 30,
   "id": "377fa60d",
   "metadata": {},
   "outputs": [
    {
     "name": "stdout",
     "output_type": "stream",
     "text": [
      "CPU times: user 587 µs, sys: 10 µs, total: 597 µs\n",
      "Wall time: 398 µs\n"
     ]
    },
    {
     "data": {
      "text/plain": [
       "DeviceArray(152444.25, dtype=float32)"
      ]
     },
     "execution_count": 30,
     "metadata": {},
     "output_type": "execute_result"
    }
   ],
   "source": [
    "%%time \n",
    "compute_call_price_jax()"
   ]
  },
  {
   "cell_type": "code",
   "execution_count": null,
   "id": "bea3e17f",
   "metadata": {},
   "outputs": [],
   "source": []
  }
 ],
 "metadata": {
  "kernelspec": {
   "display_name": "Python 3 (ipykernel)",
   "language": "python",
   "name": "python3"
  },
  "language_info": {
   "codemirror_mode": {
    "name": "ipython",
    "version": 3
   },
   "file_extension": ".py",
   "mimetype": "text/x-python",
   "name": "python",
   "nbconvert_exporter": "python",
   "pygments_lexer": "ipython3",
   "version": "3.9.12"
  }
 },
 "nbformat": 4,
 "nbformat_minor": 5
}
