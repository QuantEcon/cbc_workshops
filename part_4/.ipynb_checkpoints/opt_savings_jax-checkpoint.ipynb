{
 "cells": [
  {
   "cell_type": "markdown",
   "id": "7a94b3ed",
   "metadata": {},
   "source": [
    "# Optimal savings with JAX\n",
    "\n",
    "#### Prepared for the CBC QuantEcon Workshop (September 2022)\n",
    "\n",
    "#### John Stachurski\n",
    "\n",
    "Re-implements the optimal savings problem using JAX."
   ]
  },
  {
   "cell_type": "code",
   "execution_count": 1,
   "id": "02c17227",
   "metadata": {},
   "outputs": [],
   "source": [
    "import numpy as np\n",
    "import quantecon as qe\n",
    "import jax\n",
    "import jax.numpy as jnp\n",
    "from collections import namedtuple"
   ]
  },
  {
   "cell_type": "code",
   "execution_count": 2,
   "id": "8527cb69",
   "metadata": {
    "lines_to_next_cell": 1
   },
   "outputs": [],
   "source": [
    "# Use 64 bit floats with JAX in order to match NumPy/Numba code\n",
    "jax.config.update(\"jax_enable_x64\", True)"
   ]
  },
  {
   "cell_type": "code",
   "execution_count": 3,
   "id": "9c9bff2a",
   "metadata": {},
   "outputs": [],
   "source": [
    "def successive_approx(T,                     # Operator (callable)\n",
    "                      x_0,                   # Initial condition\n",
    "                      tolerance=1e-6,        # Error tolerance\n",
    "                      max_iter=10_000,       # Max iteration bound\n",
    "                      print_step=25,         # Print at multiples\n",
    "                      verbose=False):        \n",
    "    x = x_0\n",
    "    error = tolerance + 1\n",
    "    k = 1\n",
    "    while error > tolerance and k <= max_iter:\n",
    "        x_new = T(x)\n",
    "        error = np.max(np.abs(x_new - x))\n",
    "        if verbose and k % print_step == 0:\n",
    "            print(f\"Completed iteration {k} with error {error}.\")\n",
    "        x = x_new\n",
    "        k += 1\n",
    "    if error > tolerance:\n",
    "        print(f\"Warning: Iteration hit upper bound {max_iter}.\")\n",
    "    elif verbose:\n",
    "        print(f\"Terminated successfully in {k} iterations.\")\n",
    "    return x"
   ]
  },
  {
   "cell_type": "markdown",
   "id": "254f80ea",
   "metadata": {},
   "source": [
    "-"
   ]
  },
  {
   "cell_type": "markdown",
   "id": "5c45966b",
   "metadata": {},
   "source": [
    "##  Primitives and Operators "
   ]
  },
  {
   "cell_type": "code",
   "execution_count": 4,
   "id": "815aec27",
   "metadata": {
    "lines_to_next_cell": 1
   },
   "outputs": [],
   "source": [
    "# A namedtuple definition for storing parameters and grids\n",
    "Model = namedtuple('Model', \n",
    "                    ('β', 'R', 'γ', 'w_grid', 'y_grid', 'Q'))"
   ]
  },
  {
   "cell_type": "code",
   "execution_count": 5,
   "id": "7c486dbb",
   "metadata": {},
   "outputs": [],
   "source": [
    "def create_consumption_model(R=1.01,                    # Gross interest rate\n",
    "                             β=0.98,                    # Discount factor\n",
    "                             γ=2.5,                     # CRRA parameter\n",
    "                             w_min=0.01,                # Min wealth\n",
    "                             w_max=5.0,                 # Max wealth\n",
    "                             w_size=150,                # Grid side\n",
    "                             ρ=0.9, ν=0.1, y_size=100): # Income parameters\n",
    "    \"\"\"\n",
    "    A function that takes in parameters and returns an instance of Model that\n",
    "    contains data for the optimal savings problem.\n",
    "    \"\"\"\n",
    "    w_grid = np.linspace(w_min, w_max, w_size)  \n",
    "    mc = qe.tauchen(ρ, ν, n=y_size)\n",
    "    y_grid, Q = np.exp(mc.state_values), mc.P\n",
    "    return Model(β=β, R=R, γ=γ, w_grid=w_grid, y_grid=y_grid, Q=Q)"
   ]
  },
  {
   "cell_type": "code",
   "execution_count": 6,
   "id": "ecf56e44",
   "metadata": {},
   "outputs": [],
   "source": [
    "def create_consumption_model_jax():\n",
    "    \"Build a JAX-compatible version of the consumption model.\"\n",
    "\n",
    "    model = create_consumption_model()\n",
    "    β, R, γ, w_grid, y_grid, Q = model\n",
    "\n",
    "    # Break up parameters into static and nonstatic components\n",
    "    constants = β, R, γ\n",
    "    sizes = len(w_grid), len(y_grid)\n",
    "    arrays = w_grid, y_grid, Q\n",
    "\n",
    "    # Shift arrays to the device (e.g., GPU)\n",
    "    arrays = tuple(map(jax.device_put, arrays))\n",
    "    return constants, sizes, arrays"
   ]
  },
  {
   "cell_type": "code",
   "execution_count": 7,
   "id": "20591dcf",
   "metadata": {},
   "outputs": [],
   "source": [
    "def B(v, constants, sizes, arrays):\n",
    "    \"\"\"\n",
    "    A vectorized version of the right-hand side of the Bellman equation \n",
    "    (before maximization), which is a 3D array representing\n",
    "\n",
    "        B(w, y, w′) = u(Rw + y - w′) + β Σ_y′ v(w′, y′) Q(y, y′)\n",
    "\n",
    "    for all (w, y, w′).\n",
    "    \"\"\"\n",
    "\n",
    "    # Unpack \n",
    "    β, R, γ = constants\n",
    "    w_size, y_size = sizes\n",
    "    w_grid, y_grid, Q = arrays\n",
    "\n",
    "    # Compute current rewards r(w, y, wp) as array r[i, j, ip]\n",
    "    w  = jnp.reshape(w_grid, (w_size, 1, 1))    # w[i]   ->  w[i, j, ip]\n",
    "    y  = jnp.reshape(y_grid, (1, y_size, 1))    # z[j]   ->  z[i, j, ip]\n",
    "    wp = jnp.reshape(w_grid, (1, 1, w_size))    # wp[ip] -> wp[i, j, ip]\n",
    "    c = R * w + y - wp\n",
    "\n",
    "    # Calculate continuation rewards at all combinations of (w, y, wp)\n",
    "    v = jnp.reshape(v, (1, 1, w_size, y_size))  # v[ip, jp] -> v[i, j, ip, jp]\n",
    "    Q = jnp.reshape(Q, (1, y_size, 1, y_size))  # Q[j, jp]  -> Q[i, j, ip, jp]\n",
    "    EV = jnp.sum(v * Q, axis=3)                 # sum over last index jp\n",
    "\n",
    "    # Compute the right-hand side of the Bellman equation\n",
    "    return jnp.where(c > 0, c**(1-γ)/(1-γ) + β * EV, -np.inf)"
   ]
  },
  {
   "cell_type": "code",
   "execution_count": 8,
   "id": "e4623029",
   "metadata": {},
   "outputs": [],
   "source": [
    "def compute_r_σ(σ, constants, sizes, arrays):\n",
    "    \"\"\"\n",
    "    Compute the array r_σ[i, j] = r[i, j, σ[i, j]], which gives current\n",
    "    rewards given policy σ.\n",
    "    \"\"\"\n",
    "\n",
    "    # Unpack model\n",
    "    β, R, γ = constants\n",
    "    w_size, y_size = sizes\n",
    "    w_grid, y_grid, Q = arrays\n",
    "\n",
    "    # Compute r_σ[i, j]\n",
    "    w = jnp.reshape(w_grid, (w_size, 1))\n",
    "    y = jnp.reshape(y_grid, (1, y_size))\n",
    "    wp = w_grid[σ]\n",
    "    c = R * w + y - wp\n",
    "    r_σ = c**(1-γ)/(1-γ)\n",
    "\n",
    "    return r_σ"
   ]
  },
  {
   "cell_type": "code",
   "execution_count": 9,
   "id": "61c20c07",
   "metadata": {},
   "outputs": [],
   "source": [
    "def T(v, constants, sizes, arrays):\n",
    "    \"The Bellman operator.\"\n",
    "    return jnp.max(B(v, constants, sizes, arrays), axis=2)"
   ]
  },
  {
   "cell_type": "code",
   "execution_count": 10,
   "id": "be2c9bc6",
   "metadata": {},
   "outputs": [],
   "source": [
    "def get_greedy(v, constants, sizes, arrays):\n",
    "    \"Computes a v-greedy policy, returned as a set of indices.\"\n",
    "    return jnp.argmax(B(v, constants, sizes, arrays), axis=2)"
   ]
  },
  {
   "cell_type": "code",
   "execution_count": 11,
   "id": "ab44db41",
   "metadata": {},
   "outputs": [],
   "source": [
    "def T_σ(v, σ, constants, sizes, arrays):\n",
    "    \"The σ-policy operator.\"\n",
    "\n",
    "    # Unpack model\n",
    "    β, R, γ = constants\n",
    "    w_size, y_size = sizes\n",
    "    w_grid, y_grid, Q = arrays\n",
    "\n",
    "    r_σ = compute_r_σ(σ, constants, sizes, arrays)\n",
    "\n",
    "    # Compute the array v[σ[i, j], jp]\n",
    "    yp_idx = jnp.arange(y_size)\n",
    "    yp_idx = jnp.reshape(yp_idx, (1, 1, y_size))\n",
    "    σ = jnp.reshape(σ, (w_size, y_size, 1))\n",
    "    V = v[σ, yp_idx]      \n",
    "\n",
    "    # Convert Q[j, jp] to Q[i, j, jp] \n",
    "    Q = jnp.reshape(Q, (1, y_size, y_size))\n",
    "\n",
    "    # Calculate the expected sum Σ_jp v[σ[i, j], jp] * Q[i, j, jp]\n",
    "    Ev = np.sum(V * Q, axis=2)\n",
    "\n",
    "    return r_σ + β * np.sum(V * Q, axis=2)"
   ]
  },
  {
   "cell_type": "code",
   "execution_count": 12,
   "id": "871f3a3a",
   "metadata": {},
   "outputs": [],
   "source": [
    "def R_σ(v, σ, constants, sizes, arrays):\n",
    "    \"\"\"\n",
    "    The value v_σ of a policy σ is defined as \n",
    "\n",
    "        v_σ = (I - β P_σ)^{-1} r_σ\n",
    "\n",
    "    Here we set up the linear map v -> R_σ v, where R_σ := I - β P_σ. \n",
    "\n",
    "    In the consumption problem, this map can be expressed as\n",
    "\n",
    "        (R_σ v)(w, y) = v(w, y) - β Σ_y′ v(σ(w, y), y′) Q(y, y′)\n",
    "\n",
    "    Defining the map as above works in a more intuitive multi-index setting\n",
    "    (e.g. working with v[i, j] rather than flattening v to a one-dimensional\n",
    "    array) and avoids instantiating the large matrix P_σ.\n",
    "\n",
    "    \"\"\"\n",
    "\n",
    "    β, R, γ = constants\n",
    "    w_size, y_size = sizes\n",
    "    w_grid, y_grid, Q = arrays\n",
    "\n",
    "    # Set up the array v[σ[i, j], jp]\n",
    "    zp_idx = jnp.arange(y_size)\n",
    "    zp_idx = jnp.reshape(zp_idx, (1, 1, y_size))\n",
    "    σ = jnp.reshape(σ, (w_size, y_size, 1))\n",
    "    V = v[σ, zp_idx]\n",
    "\n",
    "    # Expand Q[j, jp] to Q[i, j, jp]\n",
    "    Q = jnp.reshape(Q, (1, y_size, y_size))\n",
    "\n",
    "    # Compute and return v[i, j] - β Σ_jp v[σ[i, j], jp] * Q[j, jp]\n",
    "    return v - β * np.sum(V * Q, axis=2)"
   ]
  },
  {
   "cell_type": "code",
   "execution_count": 13,
   "id": "ecadb6f1",
   "metadata": {
    "lines_to_next_cell": 2
   },
   "outputs": [],
   "source": [
    "def get_value(σ, constants, sizes, arrays):\n",
    "    \"Get the value v_σ of policy σ by inverting the linear map R_σ.\"\n",
    "\n",
    "    # Unpack \n",
    "    β, R, γ = constants\n",
    "    w_size, y_size = sizes\n",
    "    w_grid, y_grid, Q = arrays\n",
    "\n",
    "    r_σ = compute_r_σ(σ, constants, sizes, arrays)\n",
    "\n",
    "    # Reduce R_σ to a function in v\n",
    "    partial_R_σ = lambda v: R_σ(v, σ, constants, sizes, arrays)\n",
    "\n",
    "    return jax.scipy.sparse.linalg.bicgstab(partial_R_σ, r_σ)[0]"
   ]
  },
  {
   "cell_type": "markdown",
   "id": "9cd4d6bf",
   "metadata": {
    "lines_to_next_cell": 2
   },
   "source": [
    "## Matrix versions"
   ]
  },
  {
   "cell_type": "code",
   "execution_count": 14,
   "id": "236460b3",
   "metadata": {},
   "outputs": [],
   "source": [
    "def compute_P_σ(σ, constants, sizes, arrays):\n",
    "    \"\"\"\n",
    "    Compute the transition probabilities across states as a multi-index array\n",
    "\n",
    "        P_σ[i, j, ip, jp] = (σ[i, j] == ip) * Q[j, jp]\n",
    "\n",
    "    \"\"\"\n",
    "\n",
    "    # Unpack model\n",
    "    β, R, γ = constants\n",
    "    w_size, y_size = sizes\n",
    "    w_grid, y_grid, Q = arrays\n",
    "\n",
    "    yp_idx = jnp.arange(w_size)\n",
    "    yp_idx = jnp.reshape(yp_idx, (1, 1, w_size, 1))\n",
    "    σ = jnp.reshape(σ, (w_size, y_size, 1, 1))\n",
    "    A = jnp.where(σ == yp_idx, 1, 0)\n",
    "    Q = jnp.reshape(Q, (1, y_size, 1, y_size))\n",
    "    P_σ = A * Q\n",
    "    return P_σ"
   ]
  },
  {
   "cell_type": "code",
   "execution_count": 15,
   "id": "c39e06ce",
   "metadata": {},
   "outputs": [],
   "source": [
    "def get_value_matrix_version(σ, constants, sizes, arrays):\n",
    "    \"\"\"\n",
    "    Get the value v_σ of policy σ via\n",
    "\n",
    "        v_σ = (I - β P_σ)^{-1} r_σ\n",
    "\n",
    "    In this version we flatten the multi-index [i, j] for the state (y, z) to\n",
    "    a single index m and compute the vector r_σ[m] and matrix P_σ[m, mp]\n",
    "    giving transition probabilities across the single-index state.  Then we\n",
    "    solve the above equation using matrix inversion.\n",
    "\n",
    "    \"\"\"\n",
    "\n",
    "    # Unpack \n",
    "    β, R, γ = constants\n",
    "    w_size, y_size = sizes\n",
    "    w_grid, y_grid, Q = arrays\n",
    "\n",
    "    # Obtain ordinary (multi-index) versions of r_σ and P_σ \n",
    "    r_σ = compute_r_σ(σ, constants, sizes, arrays)\n",
    "    P_σ = compute_P_σ(σ, constants, sizes, arrays)\n",
    "\n",
    "    # Reshape r_σ and P_σ for a single index state\n",
    "    n = w_size * y_size\n",
    "    P_σ = jnp.reshape(P_σ, (n, n))\n",
    "    r_σ = jnp.reshape(r_σ, n)\n",
    "\n",
    "    # Solve\n",
    "    v_σ = jnp.linalg.solve(np.identity(n) - β * P_σ, r_σ)\n",
    "\n",
    "    # Return as multi-index array\n",
    "    return jnp.reshape(v_σ, (w_size, y_size))"
   ]
  },
  {
   "cell_type": "code",
   "execution_count": 16,
   "id": "660eda78",
   "metadata": {},
   "outputs": [],
   "source": [
    "def T_σ_matrix_version(v, σ, constants, sizes, arrays):\n",
    "    \"The σ-policy operator, single index version.\"\n",
    "\n",
    "    # Unpack model\n",
    "    β, R, γ = constants\n",
    "    w_size, y_size = sizes\n",
    "    w_grid, y_grid, Q = arrays\n",
    "\n",
    "    # Obtain ordinary (multi-index) versions of r_σ and P_σ \n",
    "    r_σ = compute_r_σ(σ, constants, sizes, arrays)\n",
    "    P_σ = compute_P_σ(σ, constants, sizes, arrays)\n",
    "\n",
    "    # Reshape r_σ and P_σ for a single index state\n",
    "    n = w_size * y_size\n",
    "    P_σ = jnp.reshape(P_σ, (n, n))\n",
    "    r_σ = jnp.reshape(r_σ, n)\n",
    "    v = jnp.reshape(v, n)\n",
    "\n",
    "    # Iterate with T_σ using matrix routines\n",
    "    new_v = r_σ + β * P_σ @ v\n",
    "\n",
    "    # Return as multi-index array\n",
    "    return jnp.reshape(new_v, (w_size, y_size))"
   ]
  },
  {
   "cell_type": "markdown",
   "id": "2f82dac4",
   "metadata": {},
   "source": [
    "## JIT compiled versions"
   ]
  },
  {
   "cell_type": "code",
   "execution_count": 17,
   "id": "64e99f2e",
   "metadata": {},
   "outputs": [],
   "source": [
    "B = jax.jit(B, static_argnums=(2,))\n",
    "compute_r_σ = jax.jit(compute_r_σ, static_argnums=(2,))\n",
    "T = jax.jit(T, static_argnums=(2,))\n",
    "get_greedy = jax.jit(get_greedy, static_argnums=(2,))"
   ]
  },
  {
   "cell_type": "code",
   "execution_count": 18,
   "id": "dcc66213",
   "metadata": {},
   "outputs": [],
   "source": [
    "get_value = jax.jit(get_value, static_argnums=(2,))"
   ]
  },
  {
   "cell_type": "code",
   "execution_count": 19,
   "id": "7b2f0051",
   "metadata": {},
   "outputs": [],
   "source": [
    "T_σ = jax.jit(T_σ, static_argnums=(3,))\n",
    "R_σ = jax.jit(R_σ, static_argnums=(3,))"
   ]
  },
  {
   "cell_type": "code",
   "execution_count": 20,
   "id": "03bd9670",
   "metadata": {
    "lines_to_next_cell": 1
   },
   "outputs": [],
   "source": [
    "get_value_matrix_version = jax.jit(get_value_matrix_version, static_argnums=(2,))\n",
    "T_σ_matrix_version = jax.jit(T_σ_matrix_version, static_argnums=(3,))"
   ]
  },
  {
   "cell_type": "markdown",
   "id": "a5ca0e77",
   "metadata": {},
   "source": [
    "##  Solvers"
   ]
  },
  {
   "cell_type": "code",
   "execution_count": 21,
   "id": "08d41325",
   "metadata": {
    "lines_to_next_cell": 1
   },
   "outputs": [],
   "source": [
    "def value_iteration(model, tol=1e-5):\n",
    "    \"Implements VFI.\"\n",
    "\n",
    "    constants, sizes, arrays = model\n",
    "    _T = lambda v: T(v, constants, sizes, arrays)\n",
    "    vz = jnp.zeros(sizes)\n",
    "\n",
    "    v_star = successive_approx(_T, vz, tolerance=tol)\n",
    "    return get_greedy(v_star, constants, sizes, arrays)"
   ]
  },
  {
   "cell_type": "code",
   "execution_count": 22,
   "id": "d9093236",
   "metadata": {
    "lines_to_next_cell": 1
   },
   "outputs": [],
   "source": [
    "def policy_iteration(model, matrix_version=False):\n",
    "    \"Howard policy iteration routine.\"\n",
    "\n",
    "    constants, sizes, arrays = model\n",
    "    if matrix_version:\n",
    "        _get_value = get_value_matrix_version\n",
    "    else:\n",
    "        _get_value = get_value\n",
    "\n",
    "    vz = jnp.zeros(sizes)\n",
    "    σ = jnp.zeros(sizes, dtype=int)\n",
    "    i, error = 0, 1.0\n",
    "    while error > 0:\n",
    "        v_σ = _get_value(σ, constants, sizes, arrays)\n",
    "        σ_new = get_greedy(v_σ, constants, sizes, arrays)\n",
    "        error = jnp.max(np.abs(σ_new - σ))\n",
    "        σ = σ_new\n",
    "        i = i + 1\n",
    "        print(f\"Concluded loop {i} with error {error}.\")\n",
    "    return σ"
   ]
  },
  {
   "cell_type": "code",
   "execution_count": 23,
   "id": "2ea60a89",
   "metadata": {},
   "outputs": [],
   "source": [
    "def optimistic_policy_iteration(model, tol=1e-5, m=10, matrix_version=False):\n",
    "    \"Implements the OPI routine.\"\n",
    "    constants, sizes, arrays = model\n",
    "    if matrix_version:\n",
    "        _T_σ = T_σ_matrix_version\n",
    "    else:\n",
    "        _T_σ = T_σ\n",
    "\n",
    "    v = jnp.zeros(sizes)\n",
    "    error = tol + 1\n",
    "    while error > tol:\n",
    "        last_v = v\n",
    "        σ = get_greedy(v, constants, sizes, arrays)\n",
    "        for _ in range(m):\n",
    "            v = _T_σ(v, σ, constants, sizes, arrays)\n",
    "        error = jnp.max(np.abs(v - last_v))\n",
    "    return get_greedy(v, constants, sizes, arrays)"
   ]
  },
  {
   "cell_type": "markdown",
   "id": "ca8e8c67",
   "metadata": {},
   "source": [
    "## Tests"
   ]
  },
  {
   "cell_type": "code",
   "execution_count": 24,
   "id": "bfb1e48a",
   "metadata": {},
   "outputs": [],
   "source": [
    "model = create_consumption_model_jax()"
   ]
  },
  {
   "cell_type": "code",
   "execution_count": 28,
   "id": "542d2837",
   "metadata": {},
   "outputs": [
    {
     "name": "stdout",
     "output_type": "stream",
     "text": [
      "Starting HPI.\n",
      "Concluded loop 1 with error 77.\n",
      "Concluded loop 2 with error 55.\n",
      "Concluded loop 3 with error 28.\n",
      "Concluded loop 4 with error 17.\n",
      "Concluded loop 5 with error 7.\n",
      "Concluded loop 6 with error 3.\n",
      "Concluded loop 7 with error 1.\n",
      "Concluded loop 8 with error 1.\n",
      "Concluded loop 9 with error 0.\n",
      "TOC: Elapsed: 0:00:0.08\n",
      "[[  0   0   0 ...  20  21  22]\n",
      " [  0   0   0 ...  21  22  23]\n",
      " [  0   0   0 ...  22  23  24]\n",
      " ...\n",
      " [133 133 133 ... 149 149 149]\n",
      " [134 134 134 ... 149 149 149]\n",
      " [135 135 135 ... 149 149 149]]\n",
      "HPI completed in 0.08946490287780762 seconds.\n"
     ]
    }
   ],
   "source": [
    "print(\"Starting HPI.\")\n",
    "qe.tic()\n",
    "out = policy_iteration(model)\n",
    "elapsed = qe.toc()\n",
    "print(out)\n",
    "print(f\"HPI completed in {elapsed} seconds.\")"
   ]
  },
  {
   "cell_type": "code",
   "execution_count": 32,
   "id": "55e8e3f4",
   "metadata": {},
   "outputs": [
    {
     "name": "stdout",
     "output_type": "stream",
     "text": [
      "Starting VFI.\n",
      "TOC: Elapsed: 0:00:0.81\n",
      "[[  0   0   0 ...  20  21  22]\n",
      " [  0   0   0 ...  21  22  23]\n",
      " [  0   0   0 ...  22  23  24]\n",
      " ...\n",
      " [133 133 133 ... 149 149 149]\n",
      " [134 134 134 ... 149 149 149]\n",
      " [135 135 135 ... 149 149 149]]\n",
      "VFI completed in 0.8160495758056641 seconds.\n"
     ]
    }
   ],
   "source": [
    "print(\"Starting VFI.\")\n",
    "qe.tic()\n",
    "out = value_iteration(model)\n",
    "elapsed = qe.toc()\n",
    "print(out)\n",
    "print(f\"VFI completed in {elapsed} seconds.\")"
   ]
  },
  {
   "cell_type": "code",
   "execution_count": 35,
   "id": "a6287324",
   "metadata": {
    "lines_to_next_cell": 2
   },
   "outputs": [
    {
     "name": "stdout",
     "output_type": "stream",
     "text": [
      "Starting OPI.\n",
      "TOC: Elapsed: 0:00:0.14\n",
      "[[  0   0   0 ...  20  21  22]\n",
      " [  0   0   0 ...  21  22  23]\n",
      " [  0   0   0 ...  22  23  24]\n",
      " ...\n",
      " [133 133 133 ... 149 149 149]\n",
      " [134 134 134 ... 149 149 149]\n",
      " [135 135 135 ... 149 149 149]]\n",
      "OPI completed in 0.14250969886779785 seconds.\n"
     ]
    }
   ],
   "source": [
    "print(\"Starting OPI.\")\n",
    "qe.tic()\n",
    "out = optimistic_policy_iteration(model, m=100)\n",
    "elapsed = qe.toc()\n",
    "print(out)\n",
    "print(f\"OPI completed in {elapsed} seconds.\")"
   ]
  },
  {
   "cell_type": "code",
   "execution_count": null,
   "id": "b8175020",
   "metadata": {},
   "outputs": [],
   "source": []
  }
 ],
 "metadata": {
  "jupytext": {
   "cell_metadata_filter": "-all",
   "main_language": "python",
   "notebook_metadata_filter": "-all"
  },
  "kernelspec": {
   "display_name": "Python 3 (ipykernel)",
   "language": "python",
   "name": "python3"
  },
  "language_info": {
   "codemirror_mode": {
    "name": "ipython",
    "version": 3
   },
   "file_extension": ".py",
   "mimetype": "text/x-python",
   "name": "python",
   "nbconvert_exporter": "python",
   "pygments_lexer": "ipython3",
   "version": "3.9.12"
  }
 },
 "nbformat": 4,
 "nbformat_minor": 5
}
