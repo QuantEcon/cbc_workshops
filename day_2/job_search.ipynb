{
 "cells": [
  {
   "cell_type": "markdown",
   "id": "3c9e342a",
   "metadata": {},
   "source": [
    "# Job Search\n",
    "\n",
    "#### Prepared for the CBC QuantEcon Workshop (September 2022)\n",
    "\n",
    "#### John Stachurski\n",
    "\n",
    "We solve the job search problem with Bellman equation\n",
    "\n",
    "$$ \n",
    "    v(w) = \\max \n",
    "    \\left\\{ \n",
    "        \\frac{w}{1-\\beta},\n",
    "        c + \\beta \\sum_{w'} v(w') \\phi(w')\n",
    "    \\right\\}\n",
    "$$\n",
    "\n",
    "and Bellman operator\n",
    "\n",
    "$$ \n",
    "    (Tv)(w) = \\max \n",
    "    \\left\\{ \n",
    "        \\frac{w}{1-\\beta},\n",
    "        c + \\beta \\sum_{w'} v(w') \\phi(w')\n",
    "    \\right\\}\n",
    "$$\n",
    "\n",
    "We will make use of the following function, which implements successive approximation:"
   ]
  },
  {
   "cell_type": "code",
   "execution_count": 1,
   "id": "5cd102b7",
   "metadata": {},
   "outputs": [],
   "source": [
    "import numpy as np\n",
    "def successive_approx(T,                     # Operator (callable)\n",
    "                      x_0,                   # Initial condition\n",
    "                      tolerance=1e-6,        # Error tolerance\n",
    "                      max_iter=10_000,       # Max iteration bound\n",
    "                      print_step=25,         # Print at multiples\n",
    "                      verbose=False):        \n",
    "    x = x_0\n",
    "    error = tolerance + 1\n",
    "    k = 1\n",
    "    while error > tolerance and k <= max_iter:\n",
    "        x_new = T(x)\n",
    "        error = np.max(np.abs(x_new - x))\n",
    "        if verbose and k % print_step == 0:\n",
    "            print(f\"Completed iteration {k} with error {error}.\")\n",
    "        x = x_new\n",
    "        k += 1\n",
    "    if error > tolerance:\n",
    "        print(f\"Warning: Iteration hit upper bound {max_iter}.\")\n",
    "    elif verbose:\n",
    "        print(f\"Terminated successfully in {k} iterations.\")\n",
    "    return x\n",
    "\n"
   ]
  },
  {
   "cell_type": "markdown",
   "id": "6386161a",
   "metadata": {},
   "source": [
    "We also use these imports:"
   ]
  },
  {
   "cell_type": "code",
   "execution_count": 2,
   "id": "e62e9cab",
   "metadata": {
    "lines_to_next_cell": 1
   },
   "outputs": [],
   "source": [
    "from scipy.stats import betabinom\n",
    "from collections import namedtuple\n",
    "import matplotlib.pyplot as plt"
   ]
  },
  {
   "cell_type": "markdown",
   "id": "85152560",
   "metadata": {},
   "source": [
    "### Set Up\n",
    "\n",
    "We introduce a `namedtuple` that stores the data for solving the problem:"
   ]
  },
  {
   "cell_type": "code",
   "execution_count": 3,
   "id": "452a9f09",
   "metadata": {
    "lines_to_next_cell": 1
   },
   "outputs": [],
   "source": [
    "Model = namedtuple(\"Model\", (\"w_vals\", \"φ\", \"β\", \"c\")) "
   ]
  },
  {
   "cell_type": "markdown",
   "id": "152f9956",
   "metadata": {},
   "source": [
    "The next function generates an instance of the named tuple with default values."
   ]
  },
  {
   "cell_type": "code",
   "execution_count": 4,
   "id": "580a63cb",
   "metadata": {},
   "outputs": [],
   "source": [
    "def create_job_search_model(\n",
    "        n=50,        # wage grid size\n",
    "        w_min=10.0,  # lowest wage\n",
    "        w_max=60.0,  # highest wage\n",
    "        a=200,       # wage distribution parameter\n",
    "        b=100,       # wage distribution parameter\n",
    "        β=0.96,      # discount factor\n",
    "        c=10.0       # unemployment compensation\n",
    "    ):\n",
    "    w_vals = np.linspace(w_min, w_max, n+1)\n",
    "    φ = np.array([betabinom(n, a, b).pmf(k) for k in range(n+1)])\n",
    "    return Model(w_vals=w_vals, φ=φ, β=β, c=c)"
   ]
  },
  {
   "cell_type": "markdown",
   "id": "0e19e2a6",
   "metadata": {},
   "source": [
    "Here's an instance:"
   ]
  },
  {
   "cell_type": "code",
   "execution_count": 5,
   "id": "d30160cf",
   "metadata": {},
   "outputs": [],
   "source": [
    "model = create_job_search_model()"
   ]
  },
  {
   "cell_type": "markdown",
   "id": "30308fa4",
   "metadata": {},
   "source": [
    "We can access data by name:"
   ]
  },
  {
   "cell_type": "code",
   "execution_count": 6,
   "id": "95ee4b12",
   "metadata": {},
   "outputs": [
    {
     "data": {
      "text/plain": [
       "(10.0, 0.96)"
      ]
     },
     "execution_count": 6,
     "metadata": {},
     "output_type": "execute_result"
    }
   ],
   "source": [
    "model.c, model.β"
   ]
  },
  {
   "cell_type": "markdown",
   "id": "d1f4ad84",
   "metadata": {},
   "source": [
    "Or we can unpack all at once:"
   ]
  },
  {
   "cell_type": "code",
   "execution_count": 7,
   "id": "cec13a11",
   "metadata": {},
   "outputs": [],
   "source": [
    "w_vals, ϕ, β, c = model"
   ]
  },
  {
   "cell_type": "code",
   "execution_count": 8,
   "id": "d1913c9f",
   "metadata": {},
   "outputs": [
    {
     "data": {
      "text/plain": [
       "(10.0, 0.96)"
      ]
     },
     "execution_count": 8,
     "metadata": {},
     "output_type": "execute_result"
    }
   ],
   "source": [
    "c, β"
   ]
  },
  {
   "cell_type": "markdown",
   "id": "fff7456d",
   "metadata": {},
   "source": [
    "As an exercise, let's plot the default wage offer distribution."
   ]
  },
  {
   "cell_type": "code",
   "execution_count": 9,
   "id": "9c5b8885",
   "metadata": {},
   "outputs": [
    {
     "data": {
      "image/png": "[encoded data removed]",
      "text/plain": [
       "<Figure size 432x288 with 1 Axes>"
      ]
     },
     "metadata": {
      "needs_background": "light"
     },
     "output_type": "display_data"
    }
   ],
   "source": [
    "fig, ax = plt.subplots()\n",
    "ax.plot(w_vals, ϕ, '-o')\n",
    "ax.set_xlabel(\"wages\")\n",
    "plt.show()"
   ]
  },
  {
   "cell_type": "markdown",
   "id": "a60a3d30",
   "metadata": {},
   "source": [
    "## Value Function Iteration"
   ]
  },
  {
   "cell_type": "markdown",
   "id": "8db4f3e9",
   "metadata": {},
   "source": [
    "Let's solve the problem by VFI"
   ]
  },
  {
   "cell_type": "code",
   "execution_count": 10,
   "id": "b5b44fa8",
   "metadata": {},
   "outputs": [],
   "source": [
    "def T(v, model):\n",
    "    w_vals, ϕ, β, c = model\n",
    "    stopping_vals = w_vals / (1 - β)\n",
    "    continuation_val = c + β * v @ ϕ\n",
    "    return np.maximum(stopping_vals, continuation_val)\n",
    "\n",
    "def get_greedy(v, model):\n",
    "    w_vals, ϕ, β, c = model\n",
    "    stopping_vals = w_vals / (1 - β)\n",
    "    continuation_val = c + β * v @ ϕ\n",
    "    return np.where(stopping_vals > continuation_val, 1, 0)\n",
    "\n",
    "\n",
    "def vfi(model):\n",
    "    v_0 = np.zeros_like(model.w_vals)\n",
    "    _T = lambda v: T(v, model)\n",
    "    v = successive_approx(_T, v_0, verbose=True)\n",
    "    σ = get_greedy(v, model)\n",
    "    return v, σ"
   ]
  },
  {
   "cell_type": "code",
   "execution_count": 11,
   "id": "6479de2f",
   "metadata": {},
   "outputs": [
    {
     "name": "stdout",
     "output_type": "stream",
     "text": [
      "Completed iteration 25 with error 2.2046856429369655e-06.\n",
      "Terminated successfully in 28 iterations.\n"
     ]
    }
   ],
   "source": [
    "model = create_job_search_model()\n",
    "v_star, σ = vfi(model)"
   ]
  },
  {
   "cell_type": "code",
   "execution_count": 12,
   "id": "9f600d9a",
   "metadata": {},
   "outputs": [
    {
     "data": {
      "image/png": "[encoded data removed]",
      "text/plain": [
       "<Figure size 432x288 with 1 Axes>"
      ]
     },
     "metadata": {
      "needs_background": "light"
     },
     "output_type": "display_data"
    }
   ],
   "source": [
    "fig, ax = plt.subplots()\n",
    "w_vals, ϕ, β, c = model\n",
    "ax.plot(w_vals, σ)\n",
    "ax.set_xlabel(\"wages\")\n",
    "ax.set_yticks((0, 1))\n",
    "plt.show()"
   ]
  },
  {
   "cell_type": "markdown",
   "id": "3e09b3e4",
   "metadata": {},
   "source": [
    "## Exercise: Solve for the Continuation Value"
   ]
  },
  {
   "cell_type": "markdown",
   "id": "f3df0807",
   "metadata": {},
   "source": [
    "Recall that the fixed point of\n",
    "\n",
    "$$g(h) = c + \\beta \\sum_{w'} \\max\\{w'/(1-\\beta), h\\} \\phi(w')$$\n",
    "\n",
    "is the continuation value."
   ]
  },
  {
   "cell_type": "code",
   "execution_count": 13,
   "id": "59529049",
   "metadata": {
    "lines_to_next_cell": 1
   },
   "outputs": [],
   "source": [
    "def g(h, model):\n",
    "    w_vals, φ, β, c = model.w_vals, model.φ, model.β, model.c\n",
    "    return c + β * np.maximum(w_vals / (1 - β), h) @ φ"
   ]
  },
  {
   "cell_type": "markdown",
   "id": "97cb7c77",
   "metadata": {},
   "source": [
    "Task: Plot the fixed point $h^*$ of $g$ as a function of $\\beta$.  Use the values"
   ]
  },
  {
   "cell_type": "code",
   "execution_count": 19,
   "id": "52dc2d2b",
   "metadata": {},
   "outputs": [],
   "source": [
    "betas = np.linspace(0.9, 0.99, 20) "
   ]
  },
  {
   "cell_type": "markdown",
   "id": "1ba5a020",
   "metadata": {},
   "source": [
    "In addition, plot $w^*$, the reservation wage, as a function of $\\beta$."
   ]
  },
  {
   "cell_type": "code",
   "execution_count": 20,
   "id": "4c716ee9",
   "metadata": {},
   "outputs": [],
   "source": [
    "# Put your solution here"
   ]
  },
  {
   "cell_type": "code",
   "execution_count": 21,
   "id": "aca4b38f",
   "metadata": {},
   "outputs": [
    {
     "name": "stdout",
     "output_type": "stream",
     "text": [
      "Solution below\n",
      "Solution below\n",
      "Solution below\n",
      "Solution below\n",
      "Solution below\n",
      "Solution below\n",
      "Solution below\n",
      "Solution below\n",
      "Solution below\n",
      "Solution below\n",
      "Solution below\n",
      "Solution below\n"
     ]
    }
   ],
   "source": [
    "for _ in range(12):\n",
    "    print(\"Solution below\")"
   ]
  },
  {
   "cell_type": "code",
   "execution_count": 22,
   "id": "233d7e5f",
   "metadata": {},
   "outputs": [],
   "source": [
    "def compute_hstar(model, h_init=0.0):\n",
    "    h_star = successive_approx(lambda h: g(h, model), h_init)\n",
    "    return h_star"
   ]
  },
  {
   "cell_type": "code",
   "execution_count": 23,
   "id": "1eab19b7",
   "metadata": {},
   "outputs": [],
   "source": [
    "h_vals = np.empty_like(betas)\n",
    "for i, β in enumerate(betas):\n",
    "    model = create_job_search_model(β=β)\n",
    "    h = compute_hstar(model)\n",
    "    h_vals[i] = h"
   ]
  },
  {
   "cell_type": "code",
   "execution_count": 24,
   "id": "4328c35a",
   "metadata": {},
   "outputs": [
    {
     "data": {
      "image/png": "[encoded data removed]",
      "text/plain": [
       "<Figure size 432x288 with 1 Axes>"
      ]
     },
     "metadata": {
      "needs_background": "light"
     },
     "output_type": "display_data"
    }
   ],
   "source": [
    "fs = 16\n",
    "fig, ax = plt.subplots()\n",
    "ax.plot(betas, h_vals, lw=2.0, alpha=0.7, label=\"$h^*(\\\\beta)$\")\n",
    "ax.legend(frameon=False, fontsize=fs)\n",
    "ax.set_xlabel(\"$\\\\beta$\", fontsize=fs)\n",
    "ax.set_ylabel(\"continuation value\", fontsize=fs)\n",
    "plt.show()"
   ]
  },
  {
   "cell_type": "markdown",
   "id": "6ea93049",
   "metadata": {},
   "source": [
    "We can also plot the reservation wage values:"
   ]
  },
  {
   "cell_type": "code",
   "execution_count": 25,
   "id": "60136005",
   "metadata": {},
   "outputs": [
    {
     "data": {
      "image/png": "[encoded data removed]",
      "text/plain": [
       "<Figure size 432x288 with 1 Axes>"
      ]
     },
     "metadata": {
      "needs_background": "light"
     },
     "output_type": "display_data"
    }
   ],
   "source": [
    "w_star_vals = (1 - betas) * h_vals\n",
    "fig, ax = plt.subplots()\n",
    "ax.plot(betas, w_star_vals, lw=2.0, alpha=0.7, label=\"$w^*(\\\\beta)$\")\n",
    "ax.legend(frameon=False, fontsize=fs)\n",
    "ax.set_xlabel(\"$\\\\beta$\", fontsize=fs)\n",
    "ax.set_ylabel(\"reservation wage\", fontsize=fs)\n",
    "plt.show()"
   ]
  },
  {
   "cell_type": "code",
   "execution_count": null,
   "id": "809fc7d5",
   "metadata": {},
   "outputs": [],
   "source": []
  }
 ],
 "metadata": {
  "jupytext": {
   "cell_metadata_filter": "-all",
   "main_language": "python",
   "notebook_metadata_filter": "-all"
  },
  "kernelspec": {
   "display_name": "Python 3 (ipykernel)",
   "language": "python",
   "name": "python3"
  },
  "language_info": {
   "codemirror_mode": {
    "name": "ipython",
    "version": 3
   },
   "file_extension": ".py",
   "mimetype": "text/x-python",
   "name": "python",
   "nbconvert_exporter": "python",
   "pygments_lexer": "ipython3",
   "version": "3.9.12"
  }
 },
 "nbformat": 4,
 "nbformat_minor": 5
}
