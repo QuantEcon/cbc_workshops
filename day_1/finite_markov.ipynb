{
 "cells": [
  {
   "cell_type": "markdown",
   "id": "6780c058",
   "metadata": {},
   "source": [
    "# Finite Markov Chains\n",
    "\n",
    "### Prepared for the CBC Quantitative Economics Workshop (September 2022)\n",
    "\n",
    "#### John Stachurski\n",
    "\n",
    "This is a modified version of the QuantEon [lecture on finite state Markov chains](https://python.quantecon.org/finite_markov.html).\n",
    "\n",
    "Please uncomment the next line if the `quantecon` library is not installed."
   ]
  },
  {
   "cell_type": "code",
   "execution_count": 52,
   "id": "341237bf",
   "metadata": {
    "hide-output": false
   },
   "outputs": [],
   "source": [
    "#!pip install quantecon"
   ]
  },
  {
   "cell_type": "markdown",
   "id": "7496fbb5",
   "metadata": {},
   "source": [
    "We will use the following imports."
   ]
  },
  {
   "cell_type": "code",
   "execution_count": 53,
   "id": "75e78135",
   "metadata": {
    "hide-output": false
   },
   "outputs": [],
   "source": [
    "import matplotlib.pyplot as plt\n",
    "import numpy as np\n",
    "import quantecon as qe"
   ]
  },
  {
   "cell_type": "markdown",
   "id": "242e2a5d",
   "metadata": {},
   "source": [
    "## Definitions"
   ]
  },
  {
   "cell_type": "markdown",
   "id": "6328a878",
   "metadata": {},
   "source": [
    "### Stochastic Matrices\n",
    "\n",
    "\n",
    "<a id='index-2'></a>\n",
    "A **stochastic matrix** (or **Markov matrix**)  is an $ n \\times n $ square matrix $ P $\n",
    "such that\n",
    "\n",
    "1. each element of $ P $ is nonnegative, and  \n",
    "1. each row of $ P $ sums to one  \n",
    "\n",
    "\n",
    "Each row of $ P $ can be regarded as a probability mass function over $ n $ possible outcomes.\n",
    "\n",
    "It is too not difficult to checkthat if $ P $ is a stochastic matrix, then so is the $ k $-th power $ P^k $ for all $ k \\in \\mathbb N $."
   ]
  },
  {
   "cell_type": "markdown",
   "id": "ed02c313",
   "metadata": {},
   "source": [
    "### Markov Chains\n",
    "\n",
    "\n",
    "<a id='index-4'></a>\n",
    "There is a close connection between stochastic matrices and Markov chains.\n",
    "\n",
    "To begin, let $ S $ be a finite set with $ n $ elements $ \\{x_1, \\ldots, x_n\\} $.\n",
    "\n",
    "The set $ S $ is called the **state space** and $ x_1, \\ldots, x_n $ are the **state values**.\n",
    "\n",
    "A **Markov chain** $ \\{X_t\\} $ on $ S $ is a sequence of random variables on $ S $ that have the **Markov property**.\n",
    "\n",
    "This means that, for any date $ t $ and any state $ y \\in S $,\n",
    "\n",
    "\n",
    "<a id='equation-fin-markov-mp'></a>\n",
    "$$\n",
    "\\mathbb P \\{ X_{t+1} = y  \\,|\\, X_t \\}\n",
    "= \\mathbb P \\{ X_{t+1}  = y \\,|\\, X_t, X_{t-1}, \\ldots \\} \\tag{24.1}\n",
    "$$\n",
    "\n",
    "In other words, knowing the current state is enough to know probabilities for future states.\n",
    "\n",
    "In particular, the dynamics of a Markov chain are fully determined by the set of values\n",
    "\n",
    "\n",
    "$$\n",
    "P(x, y) := \\mathbb P \\{ X_{t+1} = y \\,|\\, X_t = x \\}\n",
    "\\qquad (x, y \\in S) \n",
    "$$\n",
    "\n",
    "By construction,\n",
    "\n",
    "- $ P(x, y) $ is the probability of going from $ x $ to $ y $ in one unit of time (one step)  \n",
    "- $ P(x, \\cdot) $ is the conditional distribution of $ X_{t+1} $ given $ X_t = x $  \n",
    "\n",
    "\n",
    "We can view $ P $ as a stochastic matrix where\n",
    "\n",
    "$$\n",
    "P_{ij} = P(x_i, x_j)\n",
    "\\qquad 1 \\leq i, j \\leq n\n",
    "$$\n",
    "\n",
    "\n"
   ]
  },
  {
   "cell_type": "markdown",
   "id": "f52cbf0d",
   "metadata": {},
   "source": [
    "### Multiple Step Transition Probabilities\n",
    "\n",
    "\n",
    "It is not hard to show that the probability of transitioning from $ x $ to $ y $ in\n",
    "$ m $ steps is $ P^m(x,y) $, the $ (x,y) $-th element of the\n",
    "$ m $-th power of $ P $.\n",
    "\n"
   ]
  },
  {
   "cell_type": "markdown",
   "id": "ab1a7d6f",
   "metadata": {},
   "source": [
    "### Example: Business Cycles\n",
    "\n",
    "From  US unemployment data, Hamilton [[Ham05](https://python.quantecon.org/zreferences.html#id164)] estimated the stochastic matrix\n",
    "\n",
    "$$\n",
    "P_H =\n",
    "\\left(\n",
    "  \\begin{array}{ccc}\n",
    "     0.971 & 0.029 & 0 \\\\\n",
    "     0.145 & 0.778 & 0.077 \\\\\n",
    "     0 & 0.508 & 0.492\n",
    "  \\end{array}\n",
    "\\right)\n",
    "$$\n",
    "\n",
    "where\n",
    "\n",
    "- the frequency is monthly  \n",
    "- the first state represents “normal growth”  \n",
    "- the second state represents “mild recession”  \n",
    "- the third state represents “severe recession”  \n",
    "\n",
    "\n",
    "For example, the matrix tells us that when the state is normal growth, the state will again be normal growth next month with probability 0.97.\n",
    "\n",
    "In general, large values on the main diagonal indicate persistence in the process $ \\{ X_t \\} $.\n",
    "\n",
    "This Markov process can also be represented as a directed graph, with edges labeled by transition probabilities\n",
    "\n",
    "![https://python.quantecon.org/_static/lecture_specific/finite_markov/hamilton_graph.png](https://python.quantecon.org/_static/lecture_specific/finite_markov/hamilton_graph.png)\n",
    "\n",
    "  \n",
    "Here “ng” is normal growth, “mr” is mild recession, etc."
   ]
  },
  {
   "cell_type": "markdown",
   "id": "1b1efd77",
   "metadata": {},
   "source": [
    "To create $P_H$ in memory we proceed as follows:"
   ]
  },
  {
   "cell_type": "code",
   "execution_count": 54,
   "id": "a64fed6c",
   "metadata": {},
   "outputs": [],
   "source": [
    "P_H = [\n",
    "    [0.971, 0.029, 0    ],\n",
    "    [0.145, 0.778, 0.077],\n",
    "    [0,     0.508, 0.492]\n",
    "]"
   ]
  },
  {
   "cell_type": "code",
   "execution_count": 55,
   "id": "b51b3207",
   "metadata": {},
   "outputs": [
    {
     "data": {
      "text/plain": [
       "list"
      ]
     },
     "execution_count": 55,
     "metadata": {},
     "output_type": "execute_result"
    }
   ],
   "source": [
    "type(P_H)"
   ]
  },
  {
   "cell_type": "code",
   "execution_count": 56,
   "id": "d753937a",
   "metadata": {},
   "outputs": [],
   "source": [
    "P_H = np.array(P_H)"
   ]
  },
  {
   "cell_type": "code",
   "execution_count": 57,
   "id": "e3fcf238",
   "metadata": {},
   "outputs": [
    {
     "data": {
      "text/plain": [
       "numpy.ndarray"
      ]
     },
     "execution_count": 57,
     "metadata": {},
     "output_type": "execute_result"
    }
   ],
   "source": [
    "type(P_H)"
   ]
  },
  {
   "cell_type": "code",
   "execution_count": 58,
   "id": "5956fb9f",
   "metadata": {},
   "outputs": [
    {
     "data": {
      "text/plain": [
       "0.971"
      ]
     },
     "execution_count": 58,
     "metadata": {},
     "output_type": "execute_result"
    }
   ],
   "source": [
    "P_H[0, 0]"
   ]
  },
  {
   "cell_type": "code",
   "execution_count": 59,
   "id": "e0c19a61",
   "metadata": {},
   "outputs": [
    {
     "data": {
      "text/plain": [
       "array([0.971, 0.029, 0.   ])"
      ]
     },
     "execution_count": 59,
     "metadata": {},
     "output_type": "execute_result"
    }
   ],
   "source": [
    "P_H[0, :]"
   ]
  },
  {
   "cell_type": "markdown",
   "id": "ac8c93ef",
   "metadata": {},
   "source": [
    "Now that $P_H$ is a NumPy array, we can compute powers by matrix multiplication:"
   ]
  },
  {
   "cell_type": "code",
   "execution_count": 60,
   "id": "731e69e4",
   "metadata": {},
   "outputs": [],
   "source": [
    "P2_H = P_H @ P_H   # Two step transition probabilities"
   ]
  },
  {
   "cell_type": "markdown",
   "id": "09ea2231",
   "metadata": {},
   "source": [
    "### Example: Approximation of AR(1) processes\n",
    "\n",
    "In numerical work, it is sometimes convenient to replace a continuous model with a discrete one.\n",
    "\n",
    "In particular, Markov chains are routinely generated as discrete approximations to AR(1) processes of the form\n",
    "\n",
    "$$\n",
    "     Y_{t+1} = \\rho Y_t + U_{t+1}\n",
    "$$\n",
    "\n",
    "Here $ (U_t) $ is assumed to be IID and $ N(0, \\sigma_u^2) $.    Also, $|\\rho| < 1$.\n",
    "\n",
    "Tauchen’s method is a common method for approximating this continuous state process with a finite state Markov chain.\n",
    "\n",
    "A routine for this already exists in [QuantEcon.py](http://quantecon.org/quantecon-py) \n"
   ]
  },
  {
   "cell_type": "code",
   "execution_count": 61,
   "id": "f4bcd239",
   "metadata": {},
   "outputs": [],
   "source": [
    "ρ, σ_u = 0.9, 0.1\n",
    "mc = qe.tauchen(ρ, σ_u, n=3)"
   ]
  },
  {
   "cell_type": "markdown",
   "id": "e9561260",
   "metadata": {},
   "source": [
    "We have created a `MarkovChain` object:"
   ]
  },
  {
   "cell_type": "code",
   "execution_count": 62,
   "id": "ba7ff96a",
   "metadata": {},
   "outputs": [
    {
     "data": {
      "text/plain": [
       "quantecon.markov.core.MarkovChain"
      ]
     },
     "execution_count": 62,
     "metadata": {},
     "output_type": "execute_result"
    }
   ],
   "source": [
    "type(mc)"
   ]
  },
  {
   "cell_type": "markdown",
   "id": "496cac3c",
   "metadata": {},
   "source": [
    "Here's the stochastic matrix:"
   ]
  },
  {
   "cell_type": "code",
   "execution_count": 63,
   "id": "570b211c",
   "metadata": {},
   "outputs": [
    {
     "name": "stdout",
     "output_type": "stream",
     "text": [
      "[[9.97047304e-01 2.95269577e-03 0.00000000e+00]\n",
      " [2.89531609e-04 9.99420937e-01 2.89531609e-04]\n",
      " [2.83186494e-22 2.95269577e-03 9.97047304e-01]]\n"
     ]
    }
   ],
   "source": [
    "print(mc.P)"
   ]
  },
  {
   "cell_type": "markdown",
   "id": "aef07c6c",
   "metadata": {},
   "source": [
    "And here's the state space"
   ]
  },
  {
   "cell_type": "code",
   "execution_count": 64,
   "id": "f60595a2",
   "metadata": {},
   "outputs": [
    {
     "data": {
      "text/plain": [
       "array([-0.6882472,  0.       ,  0.6882472])"
      ]
     },
     "execution_count": 64,
     "metadata": {},
     "output_type": "execute_result"
    }
   ],
   "source": [
    "mc.state_values"
   ]
  },
  {
   "cell_type": "markdown",
   "id": "d1876976",
   "metadata": {},
   "source": [
    "## Computing Expectations\n",
    "\n",
    "\n",
    "<a id='index-18'></a>\n",
    "We sometimes want to  compute mathematical  expectations of functions of $ X_t $ of the form\n",
    "\n",
    "<a id='equation-mc-cce'></a>\n",
    "$$\n",
    "\\mathbb E [ h(X_{t + k})  \\mid X_t = x] \\tag{24.10}\n",
    "$$\n",
    "\n",
    "where\n",
    "\n",
    "- $ \\{X_t\\} $ is a Markov chain generated by $ n \\times n $ stochastic matrix $ P $  \n",
    "- $ h $ is a given function, which, in terms of matrix\n",
    "  algebra, we’ll think of as the column vector  \n",
    "\n",
    "\n",
    "$$\n",
    "h\n",
    "= \\left(\n",
    "\\begin{array}{c}\n",
    "    h(x_1) \\\\\n",
    "    \\vdots \\\\\n",
    "    h(x_n)\n",
    "\\end{array}\n",
    "  \\right)\n",
    "$$\n",
    "\n",
    "\n",
    "\n",
    "For the conditional expectation [(24.10)](#equation-mc-cce), we need to sum over\n",
    "the conditional distribution of $ X_{t + k} $ given $ X_t = x $.\n",
    "\n",
    "We already know that this is $ P^k(x, \\cdot) $, so\n",
    "\n",
    "\n",
    "<a id='equation-mc-cce2'></a>\n",
    "$$\n",
    "\\mathbb E [ h(X_{t + k})  \\mid X_t = x]\n",
    "= \\sum_{y \\in S} P^k(x, y) h(y)\n",
    "= (P^k h)(x) \\tag{24.11}\n",
    "$$\n",
    "\n",
    "The vector $ P^k h $ stores the conditional expectation $ \\mathbb E [ h(X_{t + k})  \\mid X_t = x] $ over all $ x $."
   ]
  },
  {
   "cell_type": "markdown",
   "id": "3a2ee910",
   "metadata": {},
   "source": [
    "### Expectations of Geometric Sums\n",
    "\n",
    "Sometimes we want to compute the mathematical expectation of a geometric sum, such as\n",
    "\n",
    "$$ v(x) := \\mathbb{E} \\left[ \\sum_{t \\geq 0} \\beta^t h(X_t) \\,|\\, X_0 = x \\right] $$.\n",
    "\n",
    "In view of the preceding discussion, we have\n",
    "\n",
    "$$\n",
    "    v = h + \\beta P h + \\beta^2 P^2 h + \\cdots\n",
    "$$\n",
    "\n",
    "In calculating the right-hand side, we can use the Neumann series lemma, which tells us that\n",
    "\n",
    "$$\n",
    "    I + \\beta P + \\beta^2 P^2 + \\cdots = (I - \\beta P)^{-1} \n",
    "$$\n",
    "\n",
    "Hence\n",
    "\n",
    "$$ v = (I - \\beta P)^{-1} h $$"
   ]
  },
  {
   "cell_type": "markdown",
   "id": "ae7ad8b4",
   "metadata": {},
   "source": [
    "### Exercise\n",
    "\n",
    "Use Tauchen's approximation to produce a Markov chain with parameters "
   ]
  },
  {
   "cell_type": "code",
   "execution_count": 65,
   "id": "fc9a0e68",
   "metadata": {},
   "outputs": [],
   "source": [
    "ρ, σ_u, n = 0.9, 0.1, 100"
   ]
  },
  {
   "cell_type": "markdown",
   "id": "7715ee0a",
   "metadata": {},
   "source": [
    "Let $S$ be the associated state space and let $\\pi(x) = \\exp(x)$.  We consider elements of $S$ as states of the world and $\\pi(x)$ as the profit of a given firm in state $x$.\n",
    "\n",
    "Let $r=0.02$ be the interest rate.\n",
    "\n",
    "Compute the expected present value of the firm, which is defined as \n",
    "\n",
    "\n",
    "$$ v(x) := \\mathbb{E} \\left[ \\sum_{t \\geq 0} \\left(\\frac{1}{1+r}\\right)^t \\pi(X_t) \\,|\\, X_0 = x \\right] $$."
   ]
  },
  {
   "cell_type": "markdown",
   "id": "2c7ad3a4",
   "metadata": {},
   "source": [
    "Plot $v$ as a function of $x$."
   ]
  },
  {
   "cell_type": "markdown",
   "id": "68c0d71b",
   "metadata": {},
   "source": [
    "Hint: to solve a linear system of equations, use `np.linalg.solve`.\n",
    "    \n",
    "To get documentation on this function, try `np.linalg.solve?`"
   ]
  },
  {
   "cell_type": "markdown",
   "id": "f2587505",
   "metadata": {},
   "source": [
    "Here's a suggested starting point"
   ]
  },
  {
   "cell_type": "code",
   "execution_count": 66,
   "id": "9564097b",
   "metadata": {},
   "outputs": [],
   "source": [
    "r = 0.02\n",
    "mc = qe.tauchen(ρ, σ_u, n=n)\n",
    "P = mc.P\n",
    "S = mc.state_values\n",
    "β = 1/(1 + r)"
   ]
  },
  {
   "cell_type": "code",
   "execution_count": 67,
   "id": "67e53508",
   "metadata": {},
   "outputs": [],
   "source": [
    "# Put your code here"
   ]
  },
  {
   "cell_type": "code",
   "execution_count": 68,
   "id": "0dfc3340",
   "metadata": {},
   "outputs": [
    {
     "name": "stdout",
     "output_type": "stream",
     "text": [
      "solution below\n",
      "solution below\n",
      "solution below\n",
      "solution below\n",
      "solution below\n",
      "solution below\n",
      "solution below\n",
      "solution below\n",
      "solution below\n",
      "solution below\n"
     ]
    }
   ],
   "source": [
    "for _ in range(10):\n",
    "    print('solution below')"
   ]
  },
  {
   "cell_type": "markdown",
   "id": "d335ffd2",
   "metadata": {},
   "source": [
    "Applying the rules for computing geometric sums above, we proceed as follows:"
   ]
  },
  {
   "cell_type": "code",
   "execution_count": 69,
   "id": "6d2e141e",
   "metadata": {},
   "outputs": [],
   "source": [
    "π = np.exp(S)\n",
    "I = np.identity(n)\n",
    "v = np.linalg.solve(I - β * P, π)"
   ]
  },
  {
   "cell_type": "markdown",
   "id": "2639e411",
   "metadata": {},
   "source": [
    "Now let's plot:"
   ]
  },
  {
   "cell_type": "code",
   "execution_count": 70,
   "id": "0a012f2c",
   "metadata": {},
   "outputs": [
    {
     "data": {
      "image/png": "[encoded data removed]",
      "text/plain": [
       "<Figure size 432x288 with 1 Axes>"
      ]
     },
     "metadata": {
      "needs_background": "light"
     },
     "output_type": "display_data"
    }
   ],
   "source": [
    "fig, ax = plt.subplots()\n",
    "ax.plot(S, v, label='firm value')\n",
    "ax.set_xlabel('states')\n",
    "ax.legend()\n",
    "plt.show()"
   ]
  },
  {
   "cell_type": "markdown",
   "id": "a42affe6",
   "metadata": {},
   "source": [
    "## Stationary Distributions"
   ]
  },
  {
   "cell_type": "markdown",
   "id": "a1b994f8",
   "metadata": {},
   "source": [
    "Let $P$ be a stochastic matrix on finite set $S$.\n",
    "\n",
    "A distribution (i.e., probability mass function) $\\psi$ on the state space $S$ is called *stationary* or *invariant* for $P$ of $\\psi = \\psi P$, where $\\psi$ is treated as a row vector.\n",
    "\n",
    "The matrix $P$ is called *irreducible* if, for each $x,y \\in S$, there exists a nonnegative integer $k$ such that $P^k(x, y) > 0$.\n",
    "\n",
    "**Theorem.** If $P$ is irreducible then $P$ has exactly one stationary distribution $\\psi$.  Moreover, $\\psi$ is the unique dominant left eigenvector of $P$, normalized to sum to $1$.\n",
    "\n",
    "(If $P$ is stochastic, then, by the Perron-Frobenius theorem, the largest eigenvalue is $1$ and the dominant eigenvector is the eigenvector corresponding to $1$.)"
   ]
  },
  {
   "cell_type": "markdown",
   "id": "29b1b34d",
   "metadata": {},
   "source": [
    "We can compute stationary distributions using the routines in `qe.MarkovChain`.  For example,"
   ]
  },
  {
   "cell_type": "code",
   "execution_count": 71,
   "id": "3d1341b3",
   "metadata": {},
   "outputs": [],
   "source": [
    "mc = qe.MarkovChain(P_H)"
   ]
  },
  {
   "cell_type": "code",
   "execution_count": 72,
   "id": "81e721dc",
   "metadata": {},
   "outputs": [
    {
     "data": {
      "text/plain": [
       "True"
      ]
     },
     "execution_count": 72,
     "metadata": {},
     "output_type": "execute_result"
    }
   ],
   "source": [
    "mc.is_irreducible"
   ]
  },
  {
   "cell_type": "code",
   "execution_count": 73,
   "id": "01089809",
   "metadata": {},
   "outputs": [
    {
     "data": {
      "text/plain": [
       "array([0.8128 , 0.16256, 0.02464])"
      ]
     },
     "execution_count": 73,
     "metadata": {},
     "output_type": "execute_result"
    }
   ],
   "source": [
    "mc.stationary_distributions[0]"
   ]
  },
  {
   "cell_type": "markdown",
   "id": "f9ace17d",
   "metadata": {},
   "source": [
    "### Exercise\n",
    "\n",
    "Write a function to compute the stationary distribution of a stochastic matrix $P$ as the dominant eigenvector of $P$.\n",
    "\n",
    "Hints: \n",
    "\n",
    "* To compute the left eigenvectors of $P$, compute the (ordinary) right eigenvectors of $P^\\top$.\n",
    "* Try running `numpy.linalg.eig?`"
   ]
  },
  {
   "cell_type": "code",
   "execution_count": 74,
   "id": "2ab77c9a",
   "metadata": {},
   "outputs": [],
   "source": [
    "# Put your code here"
   ]
  },
  {
   "cell_type": "code",
   "execution_count": 75,
   "id": "82d996bd",
   "metadata": {},
   "outputs": [
    {
     "name": "stdout",
     "output_type": "stream",
     "text": [
      "solution below\n",
      "solution below\n",
      "solution below\n",
      "solution below\n",
      "solution below\n",
      "solution below\n",
      "solution below\n",
      "solution below\n",
      "solution below\n",
      "solution below\n",
      "solution below\n",
      "solution below\n"
     ]
    }
   ],
   "source": [
    "for _ in range(12):\n",
    "    print('solution below')"
   ]
  },
  {
   "cell_type": "code",
   "execution_count": 76,
   "id": "9e156d4f",
   "metadata": {},
   "outputs": [],
   "source": [
    "def compute_stationary(P):\n",
    "    # Compute the eigenvalues and left eigenvectors of P\n",
    "    eigvals, eigvecs = np.linalg.eig(P.T)\n",
    "    # Extract the eigenvector corresponding to the largest eigenvalue\n",
    "    i = np.argmax(np.abs(eigvals))\n",
    "    p = eigvecs[:, i]\n",
    "    # Drop any complex parts, which are trivial \n",
    "    p = np.real(p)\n",
    "    # Return the vector, normalized to sum to 1\n",
    "    return p / np.sum(p)"
   ]
  },
  {
   "cell_type": "markdown",
   "id": "de3c9031",
   "metadata": {},
   "source": [
    "Let's test that it works for the matrix $P_H$."
   ]
  },
  {
   "cell_type": "code",
   "execution_count": 77,
   "id": "a156bb0e",
   "metadata": {},
   "outputs": [
    {
     "data": {
      "text/plain": [
       "array([0.8128 , 0.16256, 0.02464])"
      ]
     },
     "execution_count": 77,
     "metadata": {},
     "output_type": "execute_result"
    }
   ],
   "source": [
    "compute_stationary(P_H)"
   ]
  },
  {
   "cell_type": "markdown",
   "id": "b4786112",
   "metadata": {},
   "source": [
    "### Exercise\n",
    "\n",
    "Another way to solve for the solution to $\\psi = \\psi P$, where $\\psi$ is a row vector, is to use matrix inversion.\n",
    "\n",
    "One issue here is that the zero vector is a solution.\n",
    "\n",
    "As a result, we solve instead for the solution to \n",
    "\n",
    "$$ (I - P^\\top + 1_{n \\times n}) \\psi^\\top = 1_{n \\times 1} $$\n",
    "\n",
    "where \n",
    "\n",
    "* $n$ is the size of the state space\n",
    "* $I$ is the $n \\times n$ identity\n",
    "* $1_{j \\times k}$ is a $j \\times k$ matrix of ones."
   ]
  },
  {
   "cell_type": "markdown",
   "id": "34a6c2df",
   "metadata": {},
   "source": [
    "Write a function to accomplish this task for any stochastic matrix $P$."
   ]
  },
  {
   "cell_type": "code",
   "execution_count": 78,
   "id": "e64526c0",
   "metadata": {},
   "outputs": [],
   "source": [
    "# Put your code here"
   ]
  },
  {
   "cell_type": "code",
   "execution_count": 79,
   "id": "7faef74f",
   "metadata": {},
   "outputs": [
    {
     "name": "stdout",
     "output_type": "stream",
     "text": [
      "solution below\n",
      "solution below\n",
      "solution below\n",
      "solution below\n",
      "solution below\n",
      "solution below\n",
      "solution below\n",
      "solution below\n",
      "solution below\n",
      "solution below\n",
      "solution below\n",
      "solution below\n"
     ]
    }
   ],
   "source": [
    "for _ in range(12):\n",
    "    print('solution below')"
   ]
  },
  {
   "cell_type": "code",
   "execution_count": 80,
   "id": "1f51f3d8",
   "metadata": {},
   "outputs": [],
   "source": [
    "def compute_stationary_2(P):\n",
    "    n = len(P)\n",
    "    I = np.identity(n)\n",
    "    O = np.ones((n, n))\n",
    "    A = I - P.T + O\n",
    "    return np.linalg.solve(A, np.ones(n))"
   ]
  },
  {
   "cell_type": "markdown",
   "id": "9b5514cb",
   "metadata": {},
   "source": [
    "Let's check that it works for $P_H$."
   ]
  },
  {
   "cell_type": "code",
   "execution_count": 81,
   "id": "98fe4db5",
   "metadata": {},
   "outputs": [
    {
     "data": {
      "text/plain": [
       "array([0.8128 , 0.16256, 0.02464])"
      ]
     },
     "execution_count": 81,
     "metadata": {},
     "output_type": "execute_result"
    }
   ],
   "source": [
    "compute_stationary_2(P_H)"
   ]
  },
  {
   "cell_type": "markdown",
   "id": "c385d28b",
   "metadata": {},
   "source": [
    "## Simulation\n",
    "\n",
    "\n",
    "<a id='index-5'></a>\n",
    "One natural way to answer questions about Markov chains is to simulate them.\n",
    "\n",
    "(To approximate the probability of event $ E $, we can simulate many times and count the fraction of times that $ E $ occurs).\n",
    "\n",
    "Nice functionality for simulating Markov chains exists in [QuantEcon.py](http://quantecon.org/quantecon-py).\n",
    "\n",
    "- Efficient, bundled with lots of other useful routines for handling Markov chains.  \n",
    "\n",
    "\n",
    "However, it’s also a good exercise to roll our own routines — let’s do that first and then come back to the methods in [QuantEcon.py](http://quantecon.org/quantecon-py).\n",
    "\n",
    "In these exercises, we’ll take the state space to be $ S = 0,\\ldots, n-1 $."
   ]
  },
  {
   "cell_type": "markdown",
   "id": "5a978f64",
   "metadata": {},
   "source": [
    "### Rolling Our Own\n",
    "\n",
    "To simulate a Markov chain, we need its stochastic matrix $ P $ and a marginal probability distribution $ \\psi $  from which to  draw a realization of $ X_0 $.\n",
    "\n",
    "The Markov chain is then constructed as discussed above.  To repeat:\n",
    "\n",
    "1. At time $ t=0 $, draw a realization of  $ X_0 $  from $ \\psi $.  \n",
    "1. At each subsequent time $ t $, draw a realization of the new state $ X_{t+1} $ from $ P(X_t, \\cdot) $.  \n",
    "\n",
    "\n",
    "To implement this simulation procedure, we need a method for generating draws from a discrete distribution.\n",
    "\n",
    "For this task, we’ll use `random.draw` from [QuantEcon](http://quantecon.org/quantecon-py), which works as follows:"
   ]
  },
  {
   "cell_type": "code",
   "execution_count": 82,
   "id": "a3d4dba9",
   "metadata": {
    "hide-output": false
   },
   "outputs": [
    {
     "data": {
      "text/plain": [
       "array([0, 0, 1, 1, 1])"
      ]
     },
     "execution_count": 82,
     "metadata": {},
     "output_type": "execute_result"
    }
   ],
   "source": [
    "ψ = (0.3, 0.7)           # probabilities over {0, 1}\n",
    "cdf = np.cumsum(ψ)       # convert into cummulative distribution\n",
    "qe.random.draw(cdf, 5)   # generate 5 independent draws from ψ"
   ]
  },
  {
   "cell_type": "markdown",
   "id": "3c655e29",
   "metadata": {},
   "source": [
    "We’ll write our code as a function that accepts the following three arguments\n",
    "\n",
    "- A stochastic matrix `P`  \n",
    "- An initial state `init`  \n",
    "- A positive integer `sample_size` representing the length of the time series the function should return  "
   ]
  },
  {
   "cell_type": "code",
   "execution_count": 83,
   "id": "2bf5aea5",
   "metadata": {
    "hide-output": false
   },
   "outputs": [],
   "source": [
    "def mc_sample_path(P, ψ_0=None, sample_size=1_000):\n",
    "\n",
    "    # set up\n",
    "    P = np.asarray(P)\n",
    "    X = np.empty(sample_size, dtype=int)\n",
    "\n",
    "    # Convert each row of P into a cdf\n",
    "    n = len(P)\n",
    "    P_cdf = np.cumsum(P, axis=1)\n",
    "\n",
    "    # draw initial state, defaulting to 0\n",
    "    if ψ_0 is not None:\n",
    "        X_0 = qe.random.draw(np.cumsum(ψ_0))\n",
    "    else:\n",
    "        X_0 = 0\n",
    "\n",
    "    # simulate\n",
    "    X[0] = X_0\n",
    "    for t in range(sample_size - 1):\n",
    "        X[t+1] = qe.random.draw(P_cdf[X[t]])\n",
    "\n",
    "    return X"
   ]
  },
  {
   "cell_type": "markdown",
   "id": "f96ce309",
   "metadata": {},
   "source": [
    "Let’s see how it works using the small matrix"
   ]
  },
  {
   "cell_type": "code",
   "execution_count": 84,
   "id": "599864c6",
   "metadata": {
    "hide-output": false
   },
   "outputs": [],
   "source": [
    "P = [[0.4, 0.6],\n",
    "     [0.2, 0.8]]"
   ]
  },
  {
   "cell_type": "markdown",
   "id": "07d06852",
   "metadata": {},
   "source": [
    "For a long series drawn from `P`, the fraction of the sample that takes value 0 will be about 0.25.\n",
    "\n",
    "Moreover, this is true, regardless of the initial distribution from which\n",
    "$ X_0 $ is drawn.\n",
    "\n",
    "The following code illustrates this"
   ]
  },
  {
   "cell_type": "code",
   "execution_count": 85,
   "id": "832c7cd6",
   "metadata": {
    "hide-output": false
   },
   "outputs": [
    {
     "data": {
      "text/plain": [
       "2.4889e-01"
      ]
     },
     "execution_count": 85,
     "metadata": {},
     "output_type": "execute_result"
    }
   ],
   "source": [
    "X = mc_sample_path(P, ψ_0=[0.1, 0.9], sample_size=100_000)\n",
    "np.mean(X == 0)"
   ]
  },
  {
   "cell_type": "markdown",
   "id": "6d80cfc2",
   "metadata": {},
   "source": [
    "You can try changing the initial distribution to confirm that the output is\n",
    "always close to 0.25, at least for the `P` matrix above."
   ]
  },
  {
   "cell_type": "markdown",
   "id": "1dea1299",
   "metadata": {},
   "source": [
    "### Using QuantEcon’s Routines\n",
    "\n",
    "As discussed above, [QuantEcon.py](http://quantecon.org/quantecon-py) has routines for handling Markov chains, including simulation.\n",
    "\n",
    "Here’s an illustration using the same P as the preceding example"
   ]
  },
  {
   "cell_type": "code",
   "execution_count": 86,
   "id": "69c9dc27",
   "metadata": {
    "hide-output": false
   },
   "outputs": [
    {
     "data": {
      "text/plain": [
       "0.249595"
      ]
     },
     "execution_count": 86,
     "metadata": {},
     "output_type": "execute_result"
    }
   ],
   "source": [
    "from quantecon import MarkovChain\n",
    "\n",
    "mc = qe.MarkovChain(P)\n",
    "X = mc.simulate(ts_length=1_000_000)\n",
    "np.mean(X == 0)"
   ]
  },
  {
   "cell_type": "markdown",
   "id": "fe493fc9",
   "metadata": {},
   "source": [
    "The [QuantEcon.py](http://quantecon.org/quantecon-py) routine is [JIT compiled](https://python-programming.quantecon.org/numba.html#numba-link) and much faster."
   ]
  },
  {
   "cell_type": "code",
   "execution_count": 87,
   "id": "44a6b767",
   "metadata": {
    "hide-output": false,
    "scrolled": true
   },
   "outputs": [
    {
     "name": "stdout",
     "output_type": "stream",
     "text": [
      "CPU times: user 520 ms, sys: 0 ns, total: 520 ms\n",
      "Wall time: 519 ms\n"
     ]
    },
    {
     "data": {
      "text/plain": [
       "array([0, 0, 1, ..., 1, 0, 1])"
      ]
     },
     "execution_count": 87,
     "metadata": {},
     "output_type": "execute_result"
    }
   ],
   "source": [
    "%time mc_sample_path(P, sample_size=1_000_000) # Our homemade code version"
   ]
  },
  {
   "cell_type": "code",
   "execution_count": 88,
   "id": "7eaa4abc",
   "metadata": {
    "hide-output": false
   },
   "outputs": [
    {
     "name": "stdout",
     "output_type": "stream",
     "text": [
      "CPU times: user 12 ms, sys: 3.22 ms, total: 15.2 ms\n",
      "Wall time: 14.7 ms\n"
     ]
    },
    {
     "data": {
      "text/plain": [
       "array([1, 0, 1, ..., 0, 1, 1])"
      ]
     },
     "execution_count": 88,
     "metadata": {},
     "output_type": "execute_result"
    }
   ],
   "source": [
    "%time mc.simulate(ts_length=1_000_000) # qe code version"
   ]
  },
  {
   "cell_type": "markdown",
   "id": "1495f9a3",
   "metadata": {},
   "source": [
    "### Exercise\n",
    "\n",
    "Let $P$ be a stochastic matrix on finite set $S$.\n",
    "\n",
    "**Theorem.** If $P$ is irreducible then $P$ is ergodic; that is, if $h \\colon S \\to \\mathbb R$, then\n",
    "\n",
    "$$ \n",
    "    \\mathbb P\n",
    "    \\left\\{\n",
    "    \\lim_{k \\to \\infty} \\frac{1}{k} \\sum_{t=0}^{k-1} h(X_t) = \\sum_y h(y) \\psi(y)\n",
    "    \\right\\} = 1\n",
    "$$\n",
    "\n",
    "whenever $\\{X_t\\}$ is a Markov chain generated by $P$.\n",
    "\n",
    "(Notice that the initial condition $X_0$ does not matter---the result is independent of the initial condition.)"
   ]
  },
  {
   "cell_type": "markdown",
   "id": "79ba39b6",
   "metadata": {},
   "source": [
    "Verify this claim when $P$ is a Tauchen approximation of an AR(1) process with $\\rho=0.9$, $\\sigma_u = 0.1$ and $n=100$.\n",
    "\n",
    "Set $h(x) = x^2$.\n",
    "\n",
    "(In this case, we are verifying the claim that the sample second moment equals the cross-sectional population second moment.)"
   ]
  },
  {
   "cell_type": "code",
   "execution_count": 106,
   "id": "6291a412",
   "metadata": {},
   "outputs": [],
   "source": [
    "# Put your code here"
   ]
  },
  {
   "cell_type": "code",
   "execution_count": 107,
   "id": "0a552f9b",
   "metadata": {},
   "outputs": [
    {
     "name": "stdout",
     "output_type": "stream",
     "text": [
      "solution below\n",
      "solution below\n",
      "solution below\n",
      "solution below\n",
      "solution below\n",
      "solution below\n",
      "solution below\n",
      "solution below\n",
      "solution below\n",
      "solution below\n",
      "solution below\n",
      "solution below\n"
     ]
    }
   ],
   "source": [
    "for _ in range(12):\n",
    "    print('solution below')"
   ]
  },
  {
   "cell_type": "code",
   "execution_count": 108,
   "id": "32078b50",
   "metadata": {},
   "outputs": [],
   "source": [
    "mc = qe.tauchen(0.9, 0.1, n=100)\n",
    "S = mc.state_values\n",
    "P = mc.P"
   ]
  },
  {
   "cell_type": "markdown",
   "id": "2ee1849e",
   "metadata": {},
   "source": [
    "Let's check irreducibility:"
   ]
  },
  {
   "cell_type": "code",
   "execution_count": 109,
   "id": "5625c953",
   "metadata": {},
   "outputs": [
    {
     "data": {
      "text/plain": [
       "True"
      ]
     },
     "execution_count": 109,
     "metadata": {},
     "output_type": "execute_result"
    }
   ],
   "source": [
    "mc.is_irreducible"
   ]
  },
  {
   "cell_type": "code",
   "execution_count": 111,
   "id": "29c264c4",
   "metadata": {},
   "outputs": [],
   "source": [
    "h = lambda x: x**2\n",
    "\n",
    "k = 10_000_000\n",
    "X = mc.simulate(k)"
   ]
  },
  {
   "cell_type": "markdown",
   "id": "e89c13c6",
   "metadata": {},
   "source": [
    "The population moment is"
   ]
  },
  {
   "cell_type": "code",
   "execution_count": 112,
   "id": "878dea51",
   "metadata": {},
   "outputs": [
    {
     "data": {
      "text/plain": [
       "0.05200420463243313"
      ]
     },
     "execution_count": 112,
     "metadata": {},
     "output_type": "execute_result"
    }
   ],
   "source": [
    "h(S) @ compute_stationary(P)"
   ]
  },
  {
   "cell_type": "markdown",
   "id": "70a992c9",
   "metadata": {},
   "source": [
    "The sample moment is"
   ]
  },
  {
   "cell_type": "code",
   "execution_count": 113,
   "id": "9dda71cb",
   "metadata": {},
   "outputs": [
    {
     "data": {
      "text/plain": [
       "0.0520018741288483"
      ]
     },
     "execution_count": 113,
     "metadata": {},
     "output_type": "execute_result"
    }
   ],
   "source": [
    "np.mean(h(X))"
   ]
  },
  {
   "cell_type": "markdown",
   "id": "0ad49762",
   "metadata": {},
   "source": [
    "As anticipated by the theorem, the two values are close."
   ]
  }
 ],
 "metadata": {
  "date": 1662435526.9416487,
  "filename": "finite_markov.md",
  "kernelspec": {
   "display_name": "Python 3 (ipykernel)",
   "language": "python",
   "name": "python3"
  },
  "language_info": {
   "codemirror_mode": {
    "name": "ipython",
    "version": 3
   },
   "file_extension": ".py",
   "mimetype": "text/x-python",
   "name": "python",
   "nbconvert_exporter": "python",
   "pygments_lexer": "ipython3",
   "version": "3.9.12"
  },
  "title": "Finite Markov Chains"
 },
 "nbformat": 4,
 "nbformat_minor": 5
}
