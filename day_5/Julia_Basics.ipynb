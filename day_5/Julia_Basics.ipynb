{
 "cells": [
  {
   "cell_type": "markdown",
   "metadata": {},
   "source": [
    "# Julia Basics\n",
    "\n",
    "## Quantecon Workshop at Chilean Central Bank - 2022\n"
   ]
  },
  {
   "cell_type": "markdown",
   "metadata": {},
   "source": [
    "### What is Julia\n",
    "\n",
    "- developped at MIT on top of opensource technologies\n",
    "    - linux / git / llvm\n",
    "- syntax inspired by Matlab but:\n",
    "    - more consistent\n",
    "    - lots of features from high level languages\n",
    "- everything is JIT-compiled\n",
    "    - interpreted vs compiled treadeoff\n",
    "    - -> very fast\n",
    "    - most of the base library is written in Julia\n",
    "- opensource/free + vibrant community\n"
   ]
  },
  {
   "cell_type": "markdown",
   "metadata": {},
   "source": [
    "Some useful links from QuantEcon:\n",
    "\n",
    "* [Julia cheatsheet](https://cheatsheets.quantecon.org/julia-cheatsheet.html)\n",
    "* [Julia-Matlab comparison](https://cheatsheets.quantecon.org/index.html)\n",
    "* [Julia essentials](https://lectures.quantecon.org/jl/julia_essentials.html)\n",
    "* [Vectors, arrays and matrices](https://lectures.quantecon.org/jl/julia_arrays.html)\n",
    "\n",
    "Excellent resources at: [julialang](https://julialang.org/learning/)\n",
    "- checkout JuliaAcademy, it's free\n",
    "- ongoing [MOOC](https://computationalthinking.mit.edu/Spring21/) at MIT"
   ]
  },
  {
   "cell_type": "markdown",
   "metadata": {},
   "source": [
    "### an example of what you shouldn't do in Matlab\n",
    "\n",
    "How I learnt: interpreted code is slow, so vectorize your code."
   ]
  },
  {
   "cell_type": "code",
   "execution_count": 3,
   "metadata": {},
   "outputs": [
    {
     "data": {
      "text/plain": [
       "stupid_loop (generic function with 1 method)"
      ]
     },
     "metadata": {},
     "output_type": "display_data"
    }
   ],
   "source": [
    "function stupid_loop(I,J,K)\n",
    "    t = 0.0\n",
    "    for i=1:I\n",
    "        for j=1:J\n",
    "            for k = 1:K\n",
    "                t += 1.0\n",
    "            end        \n",
    "        end\n",
    "    end\n",
    "    return t\n",
    "end\n"
   ]
  },
  {
   "cell_type": "code",
   "execution_count": 4,
   "metadata": {},
   "outputs": [
    {
     "name": "stdout",
     "output_type": "stream",
     "text": [
      "  0.161749 seconds (59.85 k allocations: 3.129 MiB, 56.31% compilation time)\n"
     ]
    },
    {
     "data": {
      "text/plain": [
       "10-element Vector{Float64}:\n",
       " 1.0e6\n",
       " 2.0e6\n",
       " 3.0e6\n",
       " 4.0e6\n",
       " 5.0e6\n",
       " 6.0e6\n",
       " 7.0e6\n",
       " 8.0e6\n",
       " 9.0e6\n",
       " 1.0e7"
      ]
     },
     "metadata": {},
     "output_type": "display_data"
    }
   ],
   "source": [
    "@time [ stupid_loop(1000,1000,i) for i =1:10]"
   ]
  },
  {
   "cell_type": "code",
   "execution_count": 5,
   "metadata": {},
   "outputs": [
    {
     "name": "stdout",
     "output_type": "stream",
     "text": [
      "  0.091901 seconds (41.99 k allocations: 2.170 MiB, 29.45% compilation time)\n"
     ]
    },
    {
     "data": {
      "text/plain": [
       "10-element Vector{Float64}:\n",
       " 1.0e6\n",
       " 2.0e6\n",
       " 3.0e6\n",
       " 4.0e6\n",
       " 5.0e6\n",
       " 6.0e6\n",
       " 7.0e6\n",
       " 8.0e6\n",
       " 9.0e6\n",
       " 1.0e7"
      ]
     },
     "metadata": {},
     "output_type": "display_data"
    }
   ],
   "source": [
    "@time [ stupid_loop(1000,1000,i) for i =1:10]"
   ]
  },
  {
   "cell_type": "markdown",
   "metadata": {},
   "source": [
    "Code is translated to LLVM code then to instructions for the processor. Note that processor instructions are shorter than LLVM code."
   ]
  },
  {
   "cell_type": "code",
   "execution_count": 6,
   "metadata": {},
   "outputs": [
    {
     "name": "stdout",
     "output_type": "stream",
     "text": [
      "\u001b[90m;  @ /home/pablo/Econforge/NoLib/notebooks/Julia_Basics.ipynb:1 within `stupid_loop`\u001b[39m\n",
      "\u001b[95mdefine\u001b[39m \u001b[36mdouble\u001b[39m \u001b[93m@julia_stupid_loop_1339\u001b[39m\u001b[33m(\u001b[39m\u001b[36mi64\u001b[39m \u001b[95msignext\u001b[39m \u001b[0m%0\u001b[0m, \u001b[36mi64\u001b[39m \u001b[95msignext\u001b[39m \u001b[0m%1\u001b[0m, \u001b[36mi64\u001b[39m \u001b[95msignext\u001b[39m \u001b[0m%2\u001b[33m)\u001b[39m \u001b[0m#0 \u001b[33m{\u001b[39m\n",
      "\u001b[91mtop:\u001b[39m\n",
      "\u001b[90m;  @ /home/pablo/Econforge/NoLib/notebooks/Julia_Basics.ipynb:3 within `stupid_loop`\u001b[39m\n",
      "\u001b[90m; ┌ @ range.jl:5 within `Colon`\u001b[39m\n",
      "\u001b[90m; │┌ @ range.jl:393 within `UnitRange`\u001b[39m\n",
      "\u001b[90m; ││┌ @ range.jl:400 within `unitrange_last`\u001b[39m\n",
      "     \u001b[0m%.inv \u001b[0m= \u001b[96m\u001b[1micmp\u001b[22m\u001b[39m \u001b[96m\u001b[1msgt\u001b[22m\u001b[39m \u001b[36mi64\u001b[39m \u001b[0m%0\u001b[0m, \u001b[33m0\u001b[39m\n",
      "     \u001b[0m%. \u001b[0m= \u001b[96m\u001b[1mselect\u001b[22m\u001b[39m \u001b[36mi1\u001b[39m \u001b[0m%.inv\u001b[0m, \u001b[36mi64\u001b[39m \u001b[0m%0\u001b[0m, \u001b[36mi64\u001b[39m \u001b[33m0\u001b[39m\n",
      "\u001b[90m; └└└\u001b[39m\n",
      "  \u001b[96m\u001b[1mbr\u001b[22m\u001b[39m \u001b[36mi1\u001b[39m \u001b[0m%.inv\u001b[0m, \u001b[36mlabel\u001b[39m \u001b[91m%L17.preheader\u001b[39m\u001b[0m, \u001b[36mlabel\u001b[39m \u001b[91m%L94\u001b[39m\n",
      "\n",
      "\u001b[91mL17.preheader:\u001b[39m                                    \u001b[90m; preds = %top\u001b[39m\n",
      "  \u001b[0m%.inv26 \u001b[0m= \u001b[96m\u001b[1micmp\u001b[22m\u001b[39m \u001b[96m\u001b[1msgt\u001b[22m\u001b[39m \u001b[36mi64\u001b[39m \u001b[0m%1\u001b[0m, \u001b[33m0\u001b[39m\n",
      "  \u001b[0m%.24 \u001b[0m= \u001b[96m\u001b[1mselect\u001b[22m\u001b[39m \u001b[36mi1\u001b[39m \u001b[0m%.inv26\u001b[0m, \u001b[36mi64\u001b[39m \u001b[0m%1\u001b[0m, \u001b[36mi64\u001b[39m \u001b[33m0\u001b[39m\n",
      "  \u001b[0m%.inv27 \u001b[0m= \u001b[96m\u001b[1micmp\u001b[22m\u001b[39m \u001b[96m\u001b[1msgt\u001b[22m\u001b[39m \u001b[36mi64\u001b[39m \u001b[0m%2\u001b[0m, \u001b[33m0\u001b[39m\n",
      "  \u001b[0m%.25 \u001b[0m= \u001b[96m\u001b[1mselect\u001b[22m\u001b[39m \u001b[36mi1\u001b[39m \u001b[0m%.inv27\u001b[0m, \u001b[36mi64\u001b[39m \u001b[0m%2\u001b[0m, \u001b[36mi64\u001b[39m \u001b[33m0\u001b[39m\n",
      "\u001b[90m;  @ /home/pablo/Econforge/NoLib/notebooks/Julia_Basics.ipynb:4 within `stupid_loop`\u001b[39m\n",
      "  \u001b[0m%3 \u001b[0m= \u001b[96m\u001b[1mselect\u001b[22m\u001b[39m \u001b[36mi1\u001b[39m \u001b[0m%.inv26\u001b[0m, \u001b[36mi1\u001b[39m \u001b[0m%.inv27\u001b[0m, \u001b[36mi1\u001b[39m \u001b[95mfalse\u001b[39m\n",
      "  \u001b[96m\u001b[1mbr\u001b[22m\u001b[39m \u001b[36mi1\u001b[39m \u001b[0m%3\u001b[0m, \u001b[36mlabel\u001b[39m \u001b[91m%L35.preheader.split.us.us.us\u001b[39m\u001b[0m, \u001b[36mlabel\u001b[39m \u001b[91m%L94\u001b[39m\n",
      "\n",
      "\u001b[91mL81.us.us:\u001b[39m                                        \u001b[90m; preds = %L68.us.us.us\u001b[39m\n",
      "\u001b[90m;  @ /home/pablo/Econforge/NoLib/notebooks/Julia_Basics.ipynb:9 within `stupid_loop`\u001b[39m\n",
      "\u001b[90m; ┌ @ range.jl:883 within `iterate`\u001b[39m\n",
      "\u001b[90m; │┌ @ promotion.jl:477 within `==`\u001b[39m\n",
      "    \u001b[0m%.not29.us.us \u001b[0m= \u001b[96m\u001b[1micmp\u001b[22m\u001b[39m \u001b[96m\u001b[1meq\u001b[22m\u001b[39m \u001b[36mi64\u001b[39m \u001b[0m%value_phi3.us.us\u001b[0m, \u001b[0m%.\n",
      "\u001b[90m; │└\u001b[39m\n",
      "   \u001b[0m%4 \u001b[0m= \u001b[96m\u001b[1madd\u001b[22m\u001b[39m \u001b[95mnuw\u001b[39m \u001b[36mi64\u001b[39m \u001b[0m%value_phi3.us.us\u001b[0m, \u001b[33m1\u001b[39m\n",
      "\u001b[90m; └\u001b[39m\n",
      "  \u001b[96m\u001b[1mbr\u001b[22m\u001b[39m \u001b[36mi1\u001b[39m \u001b[0m%.not29.us.us\u001b[0m, \u001b[36mlabel\u001b[39m \u001b[91m%L94\u001b[39m\u001b[0m, \u001b[36mlabel\u001b[39m \u001b[91m%L35.preheader.split.us.us.us\u001b[39m\n",
      "\n",
      "\u001b[91mL35.preheader.split.us.us.us:\u001b[39m                     \u001b[90m; preds = %L81.us.us, %L17.preheader\u001b[39m\n",
      "  \u001b[0m%value_phi3.us.us \u001b[0m= \u001b[96m\u001b[1mphi\u001b[22m\u001b[39m \u001b[36mi64\u001b[39m \u001b[33m[\u001b[39m \u001b[0m%4\u001b[0m, \u001b[91m%L81.us.us\u001b[39m \u001b[33m]\u001b[39m\u001b[0m, \u001b[33m[\u001b[39m \u001b[33m1\u001b[39m\u001b[0m, \u001b[91m%L17.preheader\u001b[39m \u001b[33m]\u001b[39m\n",
      "  \u001b[0m%value_phi4.us.us \u001b[0m= \u001b[96m\u001b[1mphi\u001b[22m\u001b[39m \u001b[36mdouble\u001b[39m \u001b[33m[\u001b[39m \u001b[0m%6\u001b[0m, \u001b[91m%L81.us.us\u001b[39m \u001b[33m]\u001b[39m\u001b[0m, \u001b[33m[\u001b[39m \u001b[33m0.000000e+00\u001b[39m\u001b[0m, \u001b[91m%L17.preheader\u001b[39m \u001b[33m]\u001b[39m\n",
      "\u001b[90m;  @ /home/pablo/Econforge/NoLib/notebooks/Julia_Basics.ipynb:5 within `stupid_loop`\u001b[39m\n",
      "  \u001b[96m\u001b[1mbr\u001b[22m\u001b[39m \u001b[36mlabel\u001b[39m \u001b[91m%L53.preheader.us.us.us\u001b[39m\n",
      "\n",
      "\u001b[91mL53.preheader.us.us.us:\u001b[39m                           \u001b[90m; preds = %L68.us.us.us, %L35.preheader.split.us.us.us\u001b[39m\n",
      "  \u001b[0m%value_phi8.us.us.us \u001b[0m= \u001b[96m\u001b[1mphi\u001b[22m\u001b[39m \u001b[36mdouble\u001b[39m \u001b[33m[\u001b[39m \u001b[0m%6\u001b[0m, \u001b[91m%L68.us.us.us\u001b[39m \u001b[33m]\u001b[39m\u001b[0m, \u001b[33m[\u001b[39m \u001b[0m%value_phi4.us.us\u001b[0m, \u001b[91m%L35.preheader.split.us.us.us\u001b[39m \u001b[33m]\u001b[39m\n",
      "  \u001b[0m%value_phi9.us.us.us \u001b[0m= \u001b[96m\u001b[1mphi\u001b[22m\u001b[39m \u001b[36mi64\u001b[39m \u001b[33m[\u001b[39m \u001b[0m%5\u001b[0m, \u001b[91m%L68.us.us.us\u001b[39m \u001b[33m]\u001b[39m\u001b[0m, \u001b[33m[\u001b[39m \u001b[33m1\u001b[39m\u001b[0m, \u001b[91m%L35.preheader.split.us.us.us\u001b[39m \u001b[33m]\u001b[39m\n",
      "\u001b[90m;  @ /home/pablo/Econforge/NoLib/notebooks/Julia_Basics.ipynb:7 within `stupid_loop`\u001b[39m\n",
      "  \u001b[96m\u001b[1mbr\u001b[22m\u001b[39m \u001b[36mlabel\u001b[39m \u001b[91m%L53.us.us.us\u001b[39m\n",
      "\n",
      "\u001b[91mL68.us.us.us:\u001b[39m                                     \u001b[90m; preds = %L53.us.us.us\u001b[39m\n",
      "\u001b[90m;  @ /home/pablo/Econforge/NoLib/notebooks/Julia_Basics.ipynb:8 within `stupid_loop`\u001b[39m\n",
      "\u001b[90m; ┌ @ range.jl:883 within `iterate`\u001b[39m\n",
      "\u001b[90m; │┌ @ promotion.jl:477 within `==`\u001b[39m\n",
      "    \u001b[0m%.not28.us.us.us \u001b[0m= \u001b[96m\u001b[1micmp\u001b[22m\u001b[39m \u001b[96m\u001b[1meq\u001b[22m\u001b[39m \u001b[36mi64\u001b[39m \u001b[0m%value_phi9.us.us.us\u001b[0m, \u001b[0m%.24\n",
      "\u001b[90m; │└\u001b[39m\n",
      "   \u001b[0m%5 \u001b[0m= \u001b[96m\u001b[1madd\u001b[22m\u001b[39m \u001b[95mnuw\u001b[39m \u001b[36mi64\u001b[39m \u001b[0m%value_phi9.us.us.us\u001b[0m, \u001b[33m1\u001b[39m\n",
      "\u001b[90m; └\u001b[39m\n",
      "  \u001b[96m\u001b[1mbr\u001b[22m\u001b[39m \u001b[36mi1\u001b[39m \u001b[0m%.not28.us.us.us\u001b[0m, \u001b[36mlabel\u001b[39m \u001b[91m%L81.us.us\u001b[39m\u001b[0m, \u001b[36mlabel\u001b[39m \u001b[91m%L53.preheader.us.us.us\u001b[39m\n",
      "\n",
      "\u001b[91mL53.us.us.us:\u001b[39m                                     \u001b[90m; preds = %L53.us.us.us, %L53.preheader.us.us.us\u001b[39m\n",
      "  \u001b[0m%value_phi13.us.us.us \u001b[0m= \u001b[96m\u001b[1mphi\u001b[22m\u001b[39m \u001b[36mdouble\u001b[39m \u001b[33m[\u001b[39m \u001b[0m%6\u001b[0m, \u001b[91m%L53.us.us.us\u001b[39m \u001b[33m]\u001b[39m\u001b[0m, \u001b[33m[\u001b[39m \u001b[0m%value_phi8.us.us.us\u001b[0m, \u001b[91m%L53.preheader.us.us.us\u001b[39m \u001b[33m]\u001b[39m\n",
      "  \u001b[0m%value_phi14.us.us.us \u001b[0m= \u001b[96m\u001b[1mphi\u001b[22m\u001b[39m \u001b[36mi64\u001b[39m \u001b[33m[\u001b[39m \u001b[0m%7\u001b[0m, \u001b[91m%L53.us.us.us\u001b[39m \u001b[33m]\u001b[39m\u001b[0m, \u001b[33m[\u001b[39m \u001b[33m1\u001b[39m\u001b[0m, \u001b[91m%L53.preheader.us.us.us\u001b[39m \u001b[33m]\u001b[39m\n",
      "\u001b[90m;  @ /home/pablo/Econforge/NoLib/notebooks/Julia_Basics.ipynb:6 within `stupid_loop`\u001b[39m\n",
      "\u001b[90m; ┌ @ float.jl:383 within `+`\u001b[39m\n",
      "   \u001b[0m%6 \u001b[0m= \u001b[96m\u001b[1mfadd\u001b[22m\u001b[39m \u001b[36mdouble\u001b[39m \u001b[0m%value_phi13.us.us.us\u001b[0m, \u001b[33m1.000000e+00\u001b[39m\n",
      "\u001b[90m; └\u001b[39m\n",
      "\u001b[90m;  @ /home/pablo/Econforge/NoLib/notebooks/Julia_Basics.ipynb:7 within `stupid_loop`\u001b[39m\n",
      "\u001b[90m; ┌ @ range.jl:883 within `iterate`\u001b[39m\n",
      "\u001b[90m; │┌ @ promotion.jl:477 within `==`\u001b[39m\n",
      "    \u001b[0m%.not.us.us.us \u001b[0m= \u001b[96m\u001b[1micmp\u001b[22m\u001b[39m \u001b[96m\u001b[1meq\u001b[22m\u001b[39m \u001b[36mi64\u001b[39m \u001b[0m%value_phi14.us.us.us\u001b[0m, \u001b[0m%.25\n",
      "\u001b[90m; │└\u001b[39m\n",
      "   \u001b[0m%7 \u001b[0m= \u001b[96m\u001b[1madd\u001b[22m\u001b[39m \u001b[95mnuw\u001b[39m \u001b[36mi64\u001b[39m \u001b[0m%value_phi14.us.us.us\u001b[0m, \u001b[33m1\u001b[39m\n",
      "\u001b[90m; └\u001b[39m\n",
      "  \u001b[96m\u001b[1mbr\u001b[22m\u001b[39m \u001b[36mi1\u001b[39m \u001b[0m%.not.us.us.us\u001b[0m, \u001b[36mlabel\u001b[39m \u001b[91m%L68.us.us.us\u001b[39m\u001b[0m, \u001b[36mlabel\u001b[39m \u001b[91m%L53.us.us.us\u001b[39m\n",
      "\n",
      "\u001b[91mL94:\u001b[39m                                              \u001b[90m; preds = %L81.us.us, %L17.preheader, %top\u001b[39m\n",
      "  \u001b[0m%value_phi23 \u001b[0m= \u001b[96m\u001b[1mphi\u001b[22m\u001b[39m \u001b[36mdouble\u001b[39m \u001b[33m[\u001b[39m \u001b[33m0.000000e+00\u001b[39m\u001b[0m, \u001b[91m%top\u001b[39m \u001b[33m]\u001b[39m\u001b[0m, \u001b[33m[\u001b[39m \u001b[0m%6\u001b[0m, \u001b[91m%L81.us.us\u001b[39m \u001b[33m]\u001b[39m\u001b[0m, \u001b[33m[\u001b[39m \u001b[33m0.000000e+00\u001b[39m\u001b[0m, \u001b[91m%L17.preheader\u001b[39m \u001b[33m]\u001b[39m\n",
      "\u001b[90m;  @ /home/pablo/Econforge/NoLib/notebooks/Julia_Basics.ipynb:10 within `stupid_loop`\u001b[39m\n",
      "  \u001b[96m\u001b[1mret\u001b[22m\u001b[39m \u001b[36mdouble\u001b[39m \u001b[0m%value_phi23\n",
      "\u001b[33m}\u001b[39m\n"
     ]
    }
   ],
   "source": [
    "@code_llvm stupid_loop(10,10000000000,100000000000000)"
   ]
  },
  {
   "cell_type": "code",
   "execution_count": 8,
   "metadata": {},
   "outputs": [
    {
     "name": "stdout",
     "output_type": "stream",
     "text": [
      "\t\u001b[0m.text\n",
      "\t\u001b[0m.file\t\u001b[0m\"stupid_loop\"\n",
      "\t\u001b[0m.section\t\u001b[0m.rodata.cst8\u001b[0m,\u001b[0m\"aM\"\u001b[0m,\u001b[0m@progbits\u001b[0m,\u001b[33m8\u001b[39m\n",
      "\t\u001b[0m.p2align\t\u001b[33m3\u001b[39m                               \u001b[90m# -- Begin function julia_stupid_loop_1741\u001b[39m\n",
      "\u001b[91m.LCPI0_0:\u001b[39m\n",
      "\t\u001b[0m.quad\t\u001b[33m0x3ff0000000000000\u001b[39m              \u001b[90m# double 1\u001b[39m\n",
      "\t\u001b[0m.text\n",
      "\t\u001b[0m.globl\t\u001b[0mjulia_stupid_loop_1741\n",
      "\t\u001b[0m.p2align\t\u001b[33m4\u001b[39m\u001b[0m, \u001b[33m0x90\u001b[39m\n",
      "\t\u001b[0m.type\t\u001b[0mjulia_stupid_loop_1741\u001b[0m,\u001b[0m@function\n",
      "\u001b[91mjulia_stupid_loop_1741:\u001b[39m                 \u001b[90m# @julia_stupid_loop_1741\u001b[39m\n",
      "\u001b[90m; ┌ @ /home/pablo/Econforge/NoLib/notebooks/Julia_Basics.ipynb:1 within `stupid_loop`\u001b[39m\n",
      "\t\u001b[0m.cfi_startproc\n",
      "\u001b[90m# %bb.0:                                # %top\u001b[39m\n",
      "\t\u001b[96m\u001b[1mvxorpd\u001b[22m\u001b[39m\t\u001b[0m%xmm0\u001b[0m, \u001b[0m%xmm0\u001b[0m, \u001b[0m%xmm0\n",
      "\u001b[90m; │ @ /home/pablo/Econforge/NoLib/notebooks/Julia_Basics.ipynb:3 within `stupid_loop`\u001b[39m\n",
      "\u001b[90m; │┌ @ range.jl:5 within `Colon`\u001b[39m\n",
      "\u001b[90m; ││┌ @ range.jl:393 within `UnitRange`\u001b[39m\n",
      "\u001b[90m; │││┌ @ range.jl:400 within `unitrange_last`\u001b[39m\n",
      "\t\u001b[96m\u001b[1mtestq\u001b[22m\u001b[39m\t\u001b[0m%rdi\u001b[0m, \u001b[0m%rdi\n",
      "\u001b[90m; │└└└\u001b[39m\n",
      "\t\u001b[96m\u001b[1mjle\u001b[22m\u001b[39m\t\u001b[0m.LBB0_9\n",
      "\u001b[90m# %bb.1:                                # %L17.preheader\u001b[39m\n",
      "\t\u001b[96m\u001b[1mtestq\u001b[22m\u001b[39m\t\u001b[0m%rsi\u001b[0m, \u001b[0m%rsi\n",
      "\u001b[90m; │ @ /home/pablo/Econforge/NoLib/notebooks/Julia_Basics.ipynb:4 within `stupid_loop`\u001b[39m\n",
      "\t\u001b[96m\u001b[1mjle\u001b[22m\u001b[39m\t\u001b[0m.LBB0_9\n",
      "\u001b[90m# %bb.2:                                # %L17.preheader\u001b[39m\n",
      "\t\u001b[96m\u001b[1mtestq\u001b[22m\u001b[39m\t\u001b[0m%rdx\u001b[0m, \u001b[0m%rdx\n",
      "\t\u001b[96m\u001b[1mjle\u001b[22m\u001b[39m\t\u001b[0m.LBB0_9\n",
      "\u001b[90m# %bb.3:                                # %L35.preheader.split.us.us.us.preheader\u001b[39m\n",
      "\t\u001b[96m\u001b[1mmovq\u001b[22m\u001b[39m\t\u001b[0m%rdi\u001b[0m, \u001b[0m%rax\n",
      "\t\u001b[96m\u001b[1msarq\u001b[22m\u001b[39m\t\u001b[33m$63\u001b[39m\u001b[0m, \u001b[0m%rax\n",
      "\t\u001b[96m\u001b[1mandnq\u001b[22m\u001b[39m\t\u001b[0m%rdi\u001b[0m, \u001b[0m%rax\u001b[0m, \u001b[0m%r8\n",
      "\t\u001b[96m\u001b[1mmovq\u001b[22m\u001b[39m\t\u001b[0m%rsi\u001b[0m, \u001b[0m%rax\n",
      "\t\u001b[96m\u001b[1msarq\u001b[22m\u001b[39m\t\u001b[33m$63\u001b[39m\u001b[0m, \u001b[0m%rax\n",
      "\t\u001b[96m\u001b[1mandnq\u001b[22m\u001b[39m\t\u001b[0m%rsi\u001b[0m, \u001b[0m%rax\u001b[0m, \u001b[0m%rcx\n",
      "\t\u001b[96m\u001b[1mmovq\u001b[22m\u001b[39m\t\u001b[0m%rdx\u001b[0m, \u001b[0m%rax\n",
      "\t\u001b[96m\u001b[1msarq\u001b[22m\u001b[39m\t\u001b[33m$63\u001b[39m\u001b[0m, \u001b[0m%rax\n",
      "\t\u001b[96m\u001b[1mandnq\u001b[22m\u001b[39m\t\u001b[0m%rdx\u001b[0m, \u001b[0m%rax\u001b[0m, \u001b[0m%rax\n",
      "\t\u001b[96m\u001b[1mvxorpd\u001b[22m\u001b[39m\t\u001b[0m%xmm0\u001b[0m, \u001b[0m%xmm0\u001b[0m, \u001b[0m%xmm0\n",
      "\t\u001b[96m\u001b[1mmovl\u001b[22m\u001b[39m\t\u001b[33m$1\u001b[39m\u001b[0m, \u001b[0m%esi\n",
      "\t\u001b[96m\u001b[1mmovabsq\u001b[22m\u001b[39m\t\u001b[93m$.LCPI0_0\u001b[39m\u001b[0m, \u001b[0m%rdx\n",
      "\t\u001b[96m\u001b[1mvmovsd\u001b[22m\u001b[39m\t\u001b[33m(\u001b[39m\u001b[0m%rdx\u001b[33m)\u001b[39m\u001b[0m, \u001b[0m%xmm1                   \u001b[90m# xmm1 = mem[0],zero\u001b[39m\n",
      "\t\u001b[0m.p2align\t\u001b[33m4\u001b[39m\u001b[0m, \u001b[33m0x90\u001b[39m\n",
      "\u001b[91m.LBB0_5:\u001b[39m                                \u001b[90m# %L35.preheader.split.us.us.us\u001b[39m\n",
      "                                        \u001b[90m# =>This Loop Header: Depth=1\u001b[39m\n",
      "                                        \u001b[90m#     Child Loop BB0_6 Depth 2\u001b[39m\n",
      "                                        \u001b[90m#       Child Loop BB0_7 Depth 3\u001b[39m\n",
      "\t\u001b[96m\u001b[1mmovl\u001b[22m\u001b[39m\t\u001b[33m$1\u001b[39m\u001b[0m, \u001b[0m%edi\n",
      "\t\u001b[0m.p2align\t\u001b[33m4\u001b[39m\u001b[0m, \u001b[33m0x90\u001b[39m\n",
      "\u001b[91m.LBB0_6:\u001b[39m                                \u001b[90m# %L53.preheader.us.us.us\u001b[39m\n",
      "                                        \u001b[90m#   Parent Loop BB0_5 Depth=1\u001b[39m\n",
      "                                        \u001b[90m# =>  This Loop Header: Depth=2\u001b[39m\n",
      "                                        \u001b[90m#       Child Loop BB0_7 Depth 3\u001b[39m\n",
      "\t\u001b[96m\u001b[1mmovq\u001b[22m\u001b[39m\t\u001b[0m%rax\u001b[0m, \u001b[0m%rdx\n",
      "\t\u001b[0m.p2align\t\u001b[33m4\u001b[39m\u001b[0m, \u001b[33m0x90\u001b[39m\n",
      "\u001b[91m.LBB0_7:\u001b[39m                                \u001b[90m# %L53.us.us.us\u001b[39m\n",
      "                                        \u001b[90m#   Parent Loop BB0_5 Depth=1\u001b[39m\n",
      "                                        \u001b[90m#     Parent Loop BB0_6 Depth=2\u001b[39m\n",
      "                                        \u001b[90m# =>    This Inner Loop Header: Depth=3\u001b[39m\n",
      "\u001b[90m; │ @ /home/pablo/Econforge/NoLib/notebooks/Julia_Basics.ipynb:6 within `stupid_loop`\u001b[39m\n",
      "\u001b[90m; │┌ @ float.jl:383 within `+`\u001b[39m\n",
      "\t\u001b[96m\u001b[1mvaddsd\u001b[22m\u001b[39m\t\u001b[0m%xmm1\u001b[0m, \u001b[0m%xmm0\u001b[0m, \u001b[0m%xmm0\n",
      "\u001b[90m; │└\u001b[39m\n",
      "\u001b[90m; │ @ /home/pablo/Econforge/NoLib/notebooks/Julia_Basics.ipynb:7 within `stupid_loop`\u001b[39m\n",
      "\u001b[90m; │┌ @ range.jl:883 within `iterate`\u001b[39m\n",
      "\u001b[90m; ││┌ @ promotion.jl:477 within `==`\u001b[39m\n",
      "\t\u001b[96m\u001b[1mdecq\u001b[22m\u001b[39m\t\u001b[0m%rdx\n",
      "\u001b[90m; │└└\u001b[39m\n",
      "\t\u001b[96m\u001b[1mjne\u001b[22m\u001b[39m\t\u001b[0m.LBB0_7\n",
      "\u001b[90m# %bb.8:                                # %L68.us.us.us\u001b[39m\n",
      "                                        \u001b[90m#   in Loop: Header=BB0_6 Depth=2\u001b[39m\n",
      "\u001b[90m; │ @ /home/pablo/Econforge/NoLib/notebooks/Julia_Basics.ipynb:8 within `stupid_loop`\u001b[39m\n",
      "\u001b[90m; │┌ @ range.jl:883 within `iterate`\u001b[39m\n",
      "\t\u001b[96m\u001b[1mleaq\u001b[22m\u001b[39m\t\u001b[33m1\u001b[39m\u001b[33m(\u001b[39m\u001b[0m%rdi\u001b[33m)\u001b[39m\u001b[0m, \u001b[0m%rdx\n",
      "\u001b[90m; ││┌ @ promotion.jl:477 within `==`\u001b[39m\n",
      "\t\u001b[96m\u001b[1mcmpq\u001b[22m\u001b[39m\t\u001b[0m%rcx\u001b[0m, \u001b[0m%rdi\n",
      "\t\u001b[96m\u001b[1mmovq\u001b[22m\u001b[39m\t\u001b[0m%rdx\u001b[0m, \u001b[0m%rdi\n",
      "\u001b[90m; │└└\u001b[39m\n",
      "\t\u001b[96m\u001b[1mjne\u001b[22m\u001b[39m\t\u001b[0m.LBB0_6\n",
      "\u001b[90m# %bb.4:                                # %L81.us.us\u001b[39m\n",
      "                                        \u001b[90m#   in Loop: Header=BB0_5 Depth=1\u001b[39m\n",
      "\u001b[90m; │ @ /home/pablo/Econforge/NoLib/notebooks/Julia_Basics.ipynb:9 within `stupid_loop`\u001b[39m\n",
      "\u001b[90m; │┌ @ range.jl:883 within `iterate`\u001b[39m\n",
      "\t\u001b[96m\u001b[1mleaq\u001b[22m\u001b[39m\t\u001b[33m1\u001b[39m\u001b[33m(\u001b[39m\u001b[0m%rsi\u001b[33m)\u001b[39m\u001b[0m, \u001b[0m%rdx\n",
      "\u001b[90m; ││┌ @ promotion.jl:477 within `==`\u001b[39m\n",
      "\t\u001b[96m\u001b[1mcmpq\u001b[22m\u001b[39m\t\u001b[0m%r8\u001b[0m, \u001b[0m%rsi\n",
      "\t\u001b[96m\u001b[1mmovq\u001b[22m\u001b[39m\t\u001b[0m%rdx\u001b[0m, \u001b[0m%rsi\n",
      "\u001b[90m; │└└\u001b[39m\n",
      "\t\u001b[96m\u001b[1mjne\u001b[22m\u001b[39m\t\u001b[0m.LBB0_5\n",
      "\u001b[91m.LBB0_9:\u001b[39m                                \u001b[90m# %L94\u001b[39m\n",
      "\u001b[90m; │ @ /home/pablo/Econforge/NoLib/notebooks/Julia_Basics.ipynb:10 within `stupid_loop`\u001b[39m\n",
      "\t\u001b[96m\u001b[1mretq\u001b[22m\u001b[39m\n",
      "\u001b[91m.Lfunc_end0:\u001b[39m\n",
      "\t\u001b[0m.size\t\u001b[0mjulia_stupid_loop_1741\u001b[0m, \u001b[0m.Lfunc_end0-julia_stupid_loop_1741\n",
      "\t\u001b[0m.cfi_endproc\n",
      "\u001b[90m; └\u001b[39m\n",
      "                                        \u001b[90m# -- End function\u001b[39m\n",
      "\t\u001b[0m.section\t\u001b[0m\".note.GNU-stack\"\u001b[0m,\u001b[0m\"\"\u001b[0m,\u001b[0m@progbits\n"
     ]
    }
   ],
   "source": [
    "@code_native stupid_loop(10,10,10)"
   ]
  },
  {
   "cell_type": "markdown",
   "metadata": {},
   "source": [
    "### Syntax Review"
   ]
  },
  {
   "cell_type": "markdown",
   "metadata": {},
   "source": [
    "#### Variable assignment\n",
    "\n",
    "Assignement operator is = (equality is ==, identity is ===)"
   ]
  },
  {
   "cell_type": "code",
   "execution_count": null,
   "metadata": {},
   "outputs": [],
   "source": [
    "# Assign the value 10 to the variable x\n",
    "x = 10"
   ]
  },
  {
   "cell_type": "code",
   "execution_count": null,
   "metadata": {},
   "outputs": [],
   "source": [
    "2 == 3"
   ]
  },
  {
   "cell_type": "code",
   "execution_count": 9,
   "metadata": {},
   "outputs": [
    {
     "data": {
      "text/plain": [
       "4"
      ]
     },
     "metadata": {},
     "output_type": "display_data"
    }
   ],
   "source": [
    "# Variable names can have Unicode characters\n",
    "# To get ϵ in the REPL, type \\epsilon<TAB>\n",
    "ϵ = 1e-4"
   ]
  },
  {
   "cell_type": "markdown",
   "metadata": {},
   "source": [
    "Default semantic is pass-by-reference:"
   ]
  },
  {
   "cell_type": "code",
   "execution_count": 14,
   "metadata": {},
   "outputs": [
    {
     "data": {
      "text/plain": [
       "4-element Vector{Int64}:\n",
       " 10\n",
       "  2\n",
       "  3\n",
       "  4"
      ]
     },
     "metadata": {},
     "output_type": "display_data"
    }
   ],
   "source": [
    "a = [1,2,3,4]\n",
    "b = a\n",
    "a[1] = 10\n",
    "b"
   ]
  },
  {
   "cell_type": "markdown",
   "metadata": {},
   "source": [
    "To work on a copy: `copy` or `deepcopy`"
   ]
  },
  {
   "cell_type": "code",
   "execution_count": 17,
   "metadata": {},
   "outputs": [
    {
     "data": {
      "text/plain": [
       "4-element Vector{Int64}:\n",
       " 1\n",
       " 2\n",
       " 3\n",
       " 4"
      ]
     },
     "metadata": {},
     "output_type": "display_data"
    }
   ],
   "source": [
    "a = [1,2,3,4]\n",
    "b = copy(a)\n",
    "a[1]=10\n",
    "b"
   ]
  },
  {
   "cell_type": "code",
   "execution_count": 18,
   "metadata": {},
   "outputs": [
    {
     "data": {
      "text/plain": [
       "4-element BitVector:\n",
       " 0\n",
       " 1\n",
       " 1\n",
       " 1"
      ]
     },
     "metadata": {},
     "output_type": "display_data"
    }
   ],
   "source": [
    "a .== b"
   ]
  },
  {
   "cell_type": "code",
   "execution_count": null,
   "metadata": {},
   "outputs": [],
   "source": [
    "a === b"
   ]
  },
  {
   "cell_type": "markdown",
   "metadata": {},
   "source": [
    "#### Basic types"
   ]
  },
  {
   "cell_type": "code",
   "execution_count": 20,
   "metadata": {},
   "outputs": [
    {
     "ename": "ErrorException",
     "evalue": "syntax: invalid identifier name \"?\"",
     "output_type": "error",
     "traceback": [
      "syntax: invalid identifier name \"?\"\n",
      "\n",
      "Stacktrace:\n",
      " [1] top-level scope\n",
      "   @ ~/Econforge/NoLib/notebooks/Julia_Basics.ipynb:2"
     ]
    }
   ],
   "source": [
    "# for any object `typeof` returns the type\n",
    "?typeof"
   ]
  },
  {
   "cell_type": "code",
   "execution_count": 19,
   "metadata": {},
   "outputs": [
    {
     "data": {
      "text/plain": [
       "Vector{Int64}\u001b[90m (alias for \u001b[39m\u001b[90mArray{Int64, 1}\u001b[39m\u001b[90m)\u001b[39m"
      ]
     },
     "metadata": {},
     "output_type": "display_data"
    }
   ],
   "source": [
    "typeof(a)"
   ]
  },
  {
   "cell_type": "markdown",
   "metadata": {},
   "source": [
    "#### Numbers"
   ]
  },
  {
   "cell_type": "code",
   "execution_count": 21,
   "metadata": {},
   "outputs": [
    {
     "data": {
      "text/plain": [
       "4"
      ]
     },
     "metadata": {},
     "output_type": "display_data"
    }
   ],
   "source": [
    "y = 2 + 2"
   ]
  },
  {
   "cell_type": "code",
   "execution_count": 23,
   "metadata": {},
   "outputs": [
    {
     "data": {
      "text/plain": [
       "1000.0"
      ]
     },
     "metadata": {},
     "output_type": "display_data"
    }
   ],
   "source": [
    "a_i = 1000\n",
    "a_f = 1000.0"
   ]
  },
  {
   "cell_type": "code",
   "execution_count": null,
   "metadata": {},
   "outputs": [],
   "source": [
    "-y"
   ]
  },
  {
   "cell_type": "code",
   "execution_count": null,
   "metadata": {},
   "outputs": [],
   "source": [
    "0.34*23"
   ]
  },
  {
   "cell_type": "code",
   "execution_count": 22,
   "metadata": {},
   "outputs": [
    {
     "data": {
      "text/plain": [
       "0.75"
      ]
     },
     "metadata": {},
     "output_type": "display_data"
    }
   ],
   "source": [
    "3/4"
   ]
  },
  {
   "cell_type": "code",
   "execution_count": null,
   "metadata": {},
   "outputs": [],
   "source": [
    "# Scalar multiplication doesn't require *\n",
    "3(4 - 2)"
   ]
  },
  {
   "cell_type": "code",
   "execution_count": null,
   "metadata": {},
   "outputs": [],
   "source": [
    "x = 4\n",
    "2x"
   ]
  },
  {
   "cell_type": "code",
   "execution_count": null,
   "metadata": {},
   "outputs": [],
   "source": [
    "typeof(x)"
   ]
  },
  {
   "cell_type": "code",
   "execution_count": null,
   "metadata": {},
   "outputs": [],
   "source": [
    "sizeof(a)"
   ]
  },
  {
   "cell_type": "markdown",
   "metadata": {},
   "source": [
    "#### Booleans"
   ]
  },
  {
   "cell_type": "code",
   "execution_count": 29,
   "metadata": {},
   "outputs": [
    {
     "data": {
      "text/plain": [
       "false"
      ]
     },
     "metadata": {},
     "output_type": "display_data"
    }
   ],
   "source": [
    "false"
   ]
  },
  {
   "cell_type": "markdown",
   "metadata": {},
   "source": [
    "Equality"
   ]
  },
  {
   "cell_type": "code",
   "execution_count": 30,
   "metadata": {},
   "outputs": [
    {
     "data": {
      "text/plain": [
       "false"
      ]
     },
     "metadata": {},
     "output_type": "display_data"
    }
   ],
   "source": [
    "0 == 1"
   ]
  },
  {
   "cell_type": "code",
   "execution_count": null,
   "metadata": {},
   "outputs": [],
   "source": [
    "2 != 3"
   ]
  },
  {
   "cell_type": "code",
   "execution_count": null,
   "metadata": {},
   "outputs": [],
   "source": [
    "3 <= 4"
   ]
  },
  {
   "cell_type": "markdown",
   "metadata": {},
   "source": [
    "Identity"
   ]
  },
  {
   "cell_type": "code",
   "execution_count": null,
   "metadata": {},
   "outputs": [],
   "source": [
    "a = [34, 35]\n",
    "b = [34, 35]\n",
    "c = a"
   ]
  },
  {
   "cell_type": "code",
   "execution_count": null,
   "metadata": {},
   "outputs": [],
   "source": [
    "c === a"
   ]
  },
  {
   "cell_type": "code",
   "execution_count": null,
   "metadata": {},
   "outputs": [],
   "source": [
    "b === a"
   ]
  },
  {
   "cell_type": "markdown",
   "metadata": {},
   "source": [
    "Boolean operator"
   ]
  },
  {
   "cell_type": "code",
   "execution_count": null,
   "metadata": {},
   "outputs": [],
   "source": [
    "true && false"
   ]
  },
  {
   "cell_type": "code",
   "execution_count": null,
   "metadata": {},
   "outputs": [],
   "source": [
    "true || false"
   ]
  },
  {
   "cell_type": "code",
   "execution_count": null,
   "metadata": {},
   "outputs": [],
   "source": [
    "!true"
   ]
  },
  {
   "cell_type": "markdown",
   "metadata": {},
   "source": [
    "#### Strings"
   ]
  },
  {
   "cell_type": "code",
   "execution_count": 31,
   "metadata": {},
   "outputs": [
    {
     "data": {
      "text/plain": [
       "\"This is a string 🦈\""
      ]
     },
     "metadata": {},
     "output_type": "display_data"
    }
   ],
   "source": [
    "# Strings are written using double quotes\n",
    "str = \"This is a string 🦈\""
   ]
  },
  {
   "cell_type": "code",
   "execution_count": null,
   "metadata": {},
   "outputs": [],
   "source": [
    "ch = 'k' # this is a character"
   ]
  },
  {
   "cell_type": "code",
   "execution_count": null,
   "metadata": {},
   "outputs": [],
   "source": [
    "# Strings can also contain Unicode characters\n",
    "fancy_str = \"α is a string\""
   ]
  },
  {
   "cell_type": "code",
   "execution_count": 32,
   "metadata": {},
   "outputs": [
    {
     "data": {
      "text/plain": [
       "\"2 + 2 = 4\""
      ]
     },
     "metadata": {},
     "output_type": "display_data"
    }
   ],
   "source": [
    "# String interpolation using $\n",
    "# The expression in parentheses is evaluated and the result is \n",
    "# inserted into the string\n",
    "a = 2+2\n",
    "\"2 + 2 = $(a)\""
   ]
  },
  {
   "cell_type": "code",
   "execution_count": null,
   "metadata": {},
   "outputs": [],
   "source": [
    "println(\"It took me $(a) iterations\")"
   ]
  },
  {
   "cell_type": "code",
   "execution_count": null,
   "metadata": {},
   "outputs": [],
   "source": [
    "# String concatenation using *\n",
    "\"hello\" * \"world\""
   ]
  },
  {
   "cell_type": "code",
   "execution_count": null,
   "metadata": {},
   "outputs": [],
   "source": [
    "println(\"hello \", \"world\")"
   ]
  },
  {
   "cell_type": "markdown",
   "metadata": {},
   "source": [
    "#### Arrays"
   ]
  },
  {
   "cell_type": "markdown",
   "metadata": {},
   "source": [
    "Julia has one-dimensional homogenous arrays. They are also called Vector."
   ]
  },
  {
   "cell_type": "code",
   "execution_count": null,
   "metadata": {},
   "outputs": [
    {
     "data": {
      "text/plain": [
       "2-element Vector{Float64}:\n",
       " 1.0\n",
       " 4.0"
      ]
     },
     "metadata": {},
     "output_type": "display_data"
    }
   ],
   "source": [
    "A = [1, 4]"
   ]
  },
  {
   "cell_type": "markdown",
   "metadata": {},
   "source": [
    "All elements have the same type (and are coerced is needed):"
   ]
  },
  {
   "cell_type": "code",
   "execution_count": 10,
   "metadata": {},
   "outputs": [
    {
     "data": {
      "text/plain": [
       "2-element Vector{Float64}:\n",
       " 1.0\n",
       " 1.4"
      ]
     },
     "metadata": {},
     "output_type": "display_data"
    }
   ],
   "source": [
    "A = [1, 1.4]"
   ]
  },
  {
   "cell_type": "code",
   "execution_count": 38,
   "metadata": {},
   "outputs": [
    {
     "data": {
      "text/plain": [
       "Float64"
      ]
     },
     "metadata": {},
     "output_type": "display_data"
    }
   ],
   "source": [
    "eltype(A)"
   ]
  },
  {
   "cell_type": "code",
   "execution_count": 39,
   "metadata": {},
   "outputs": [
    {
     "data": {
      "text/plain": [
       "Vector{Float64}\u001b[90m (alias for \u001b[39m\u001b[90mArray{Float64, 1}\u001b[39m\u001b[90m)\u001b[39m"
      ]
     },
     "metadata": {},
     "output_type": "display_data"
    }
   ],
   "source": [
    "typeof(A) "
   ]
  },
  {
   "cell_type": "code",
   "execution_count": 41,
   "metadata": {},
   "outputs": [
    {
     "data": {
      "text/plain": [
       "2-element Vector{Float64}:\n",
       " 1.0\n",
       " 4.0"
      ]
     },
     "metadata": {},
     "output_type": "display_data"
    }
   ],
   "source": [
    "A''"
   ]
  },
  {
   "cell_type": "markdown",
   "metadata": {},
   "source": [
    "To get the size of an array:"
   ]
  },
  {
   "cell_type": "code",
   "execution_count": 42,
   "metadata": {},
   "outputs": [
    {
     "data": {
      "text/plain": [
       "(2,)"
      ]
     },
     "metadata": {},
     "output_type": "display_data"
    }
   ],
   "source": [
    "size(A)"
   ]
  },
  {
   "cell_type": "markdown",
   "metadata": {},
   "source": [
    "Arrays are *mutable*"
   ]
  },
  {
   "cell_type": "code",
   "execution_count": 43,
   "metadata": {},
   "outputs": [
    {
     "data": {
      "text/plain": [
       "10"
      ]
     },
     "metadata": {},
     "output_type": "display_data"
    }
   ],
   "source": [
    "A[1] = 10"
   ]
  },
  {
   "cell_type": "code",
   "execution_count": 21,
   "metadata": {},
   "outputs": [
    {
     "data": {
      "text/plain": [
       "2-element Array{Float64,1}:\n",
       " 10.0\n",
       "  1.4"
      ]
     },
     "execution_count": 21,
     "metadata": {},
     "output_type": "execute_result"
    }
   ],
   "source": [
    "A"
   ]
  },
  {
   "cell_type": "markdown",
   "metadata": {},
   "source": [
    "Julia has one-based indexing: you refer to the first element as 1 ($\\neq$ zero-based indexing in C or Python)"
   ]
  },
  {
   "cell_type": "code",
   "execution_count": 22,
   "metadata": {},
   "outputs": [
    {
     "data": {
      "text/plain": [
       "1.4"
      ]
     },
     "execution_count": 22,
     "metadata": {},
     "output_type": "execute_result"
    }
   ],
   "source": [
    "A[2]"
   ]
  },
  {
   "cell_type": "markdown",
   "metadata": {},
   "source": [
    "Arrays are mutable and their size can be changed too:"
   ]
  },
  {
   "cell_type": "code",
   "execution_count": 44,
   "metadata": {},
   "outputs": [
    {
     "data": {
      "text/plain": [
       "3-element Vector{Float64}:\n",
       " 10.0\n",
       "  4.0\n",
       " 29.0"
      ]
     },
     "metadata": {},
     "output_type": "display_data"
    }
   ],
   "source": [
    "push!(A, 29)"
   ]
  },
  {
   "cell_type": "code",
   "execution_count": 27,
   "metadata": {},
   "outputs": [
    {
     "data": {
      "text/plain": [
       "3-element Array{Float64,1}:\n",
       " 10.0\n",
       "  1.4\n",
       " 29.0"
      ]
     },
     "execution_count": 27,
     "metadata": {},
     "output_type": "execute_result"
    }
   ],
   "source": [
    "A"
   ]
  },
  {
   "cell_type": "markdown",
   "metadata": {},
   "source": [
    "Two comments:\n",
    "- the `push!` operation is *fast*\n",
    "- `!` is a julia convention to express the fact that `push!` mutates its first argument"
   ]
  },
  {
   "cell_type": "markdown",
   "metadata": {},
   "source": [
    "#### tuples"
   ]
  },
  {
   "cell_type": "code",
   "execution_count": 32,
   "metadata": {},
   "outputs": [
    {
     "data": {
      "text/plain": [
       "(3,)"
      ]
     },
     "execution_count": 32,
     "metadata": {},
     "output_type": "execute_result"
    }
   ],
   "source": [
    "size(A)  # is a tupled"
   ]
  },
  {
   "cell_type": "code",
   "execution_count": 47,
   "metadata": {},
   "outputs": [
    {
     "data": {
      "text/plain": [
       "(1, 2, 3, 4)"
      ]
     },
     "metadata": {},
     "output_type": "display_data"
    }
   ],
   "source": [
    "# you can create tuples with (,,,)\n",
    "t = (1,2,3,4)\n"
   ]
  },
  {
   "cell_type": "markdown",
   "metadata": {},
   "source": [
    "tuples differ from arrays in two ways:\n",
    "- they are immutable\n",
    "- they can contain non-homogenous objects"
   ]
  },
  {
   "cell_type": "code",
   "execution_count": 48,
   "metadata": {},
   "outputs": [
    {
     "data": {
      "text/plain": [
       "1"
      ]
     },
     "metadata": {},
     "output_type": "display_data"
    }
   ],
   "source": [
    "t[1]"
   ]
  },
  {
   "cell_type": "code",
   "execution_count": 49,
   "metadata": {},
   "outputs": [
    {
     "ename": "MethodError",
     "evalue": "MethodError: no method matching setindex!(::NTuple{4, Int64}, ::Int64, ::Int64)",
     "output_type": "error",
     "traceback": [
      "MethodError: no method matching setindex!(::NTuple{4, Int64}, ::Int64, ::Int64)\n",
      "\n",
      "Stacktrace:\n",
      " [1] top-level scope\n",
      "   @ ~/Econforge/NoLib/notebooks/Julia_Basics.ipynb:1"
     ]
    }
   ],
   "source": [
    "t[1] = 2"
   ]
  },
  {
   "cell_type": "code",
   "execution_count": 51,
   "metadata": {},
   "outputs": [
    {
     "data": {
      "text/plain": [
       "(1, \"1\", [1])"
      ]
     },
     "metadata": {},
     "output_type": "display_data"
    }
   ],
   "source": [
    "tt = (1, \"1\", [1])"
   ]
  },
  {
   "cell_type": "code",
   "execution_count": 52,
   "metadata": {},
   "outputs": [
    {
     "data": {
      "text/plain": [
       "Tuple{Int64, String, Vector{Int64}}"
      ]
     },
     "metadata": {},
     "output_type": "display_data"
    }
   ],
   "source": [
    "typeof(tt)"
   ]
  },
  {
   "cell_type": "markdown",
   "metadata": {},
   "source": [
    "#### Named tuples\n",
    "\n",
    "Named tuples are tuple with field names. Note that the semi-colon separates positional arguments from keyword arguments."
   ]
  },
  {
   "cell_type": "code",
   "execution_count": null,
   "metadata": {},
   "outputs": [
    {
     "data": {
      "text/plain": [
       "0×0×0×0×0×0 Array{Float64, 6}"
      ]
     },
     "metadata": {},
     "output_type": "display_data"
    }
   ],
   "source": [
    "t = (;a=0.2, b=0.1)"
   ]
  },
  {
   "cell_type": "code",
   "execution_count": null,
   "metadata": {},
   "outputs": [],
   "source": [
    "t"
   ]
  },
  {
   "cell_type": "markdown",
   "metadata": {},
   "source": [
    "#### Array operations\n",
    "\n",
    "##### Other ways to construct arrays:"
   ]
  },
  {
   "cell_type": "code",
   "execution_count": 73,
   "metadata": {},
   "outputs": [
    {
     "data": {
      "text/plain": [
       "2×3 Matrix{Float64}:\n",
       " 0.0  23.2  0.0\n",
       " 0.0   0.0  0.0"
      ]
     },
     "metadata": {},
     "output_type": "display_data"
    }
   ],
   "source": [
    "# zero array\n",
    "t = zeros(2,3)\n",
    "t[1,2] = 23.2\n",
    "t"
   ]
  },
  {
   "cell_type": "code",
   "execution_count": 75,
   "metadata": {},
   "outputs": [
    {
     "data": {
      "text/plain": [
       "3×3 Matrix{Float64}:\n",
       " 0.570885  0.8465    0.752361\n",
       " 0.770423  0.882113  0.0953965\n",
       " 0.228185  0.95713   0.133111"
      ]
     },
     "metadata": {},
     "output_type": "display_data"
    }
   ],
   "source": [
    "# random array (uniform distribution)\n",
    "t= rand(3,3)\n",
    "t"
   ]
  },
  {
   "cell_type": "code",
   "execution_count": 14,
   "metadata": {},
   "outputs": [
    {
     "data": {
      "text/plain": [
       "3×3 Matrix{Float64}:\n",
       " -0.377592  -1.1838    -3.03421\n",
       "  0.222662   0.67289   -0.951637\n",
       "  1.71749   -0.474052   1.13057"
      ]
     },
     "metadata": {},
     "output_type": "display_data"
    }
   ],
   "source": [
    "# random array (normal distribution)\n",
    "t= randn(3,3)\n",
    "t"
   ]
  },
  {
   "cell_type": "markdown",
   "metadata": {},
   "source": [
    "Vectorized operations take a ., even comparisons (pointwise operations)"
   ]
  },
  {
   "cell_type": "code",
   "execution_count": 78,
   "metadata": {},
   "outputs": [
    {
     "data": {
      "text/plain": [
       "2×2 Matrix{Int64}:\n",
       " 1  2\n",
       " 3  4"
      ]
     },
     "metadata": {},
     "output_type": "display_data"
    }
   ],
   "source": [
    "B = [1 2 ; 3 4]"
   ]
  },
  {
   "cell_type": "code",
   "execution_count": 79,
   "metadata": {},
   "outputs": [
    {
     "data": {
      "text/plain": [
       "2×2 Matrix{Int64}:\n",
       " 1   4\n",
       " 9  16"
      ]
     },
     "metadata": {},
     "output_type": "display_data"
    }
   ],
   "source": [
    "B .* B"
   ]
  },
  {
   "cell_type": "code",
   "execution_count": null,
   "metadata": {},
   "outputs": [],
   "source": [
    "Remark: the convention that `.` denotes vectorized operations extends to all functions."
   ]
  },
  {
   "cell_type": "code",
   "execution_count": 80,
   "metadata": {},
   "outputs": [
    {
     "data": {
      "text/plain": [
       "f (generic function with 1 method)"
      ]
     },
     "metadata": {},
     "output_type": "display_data"
    }
   ],
   "source": [
    "f(x) = x^2+1"
   ]
  },
  {
   "cell_type": "code",
   "execution_count": 82,
   "metadata": {},
   "outputs": [
    {
     "data": {
      "text/plain": [
       "1850.0"
      ]
     },
     "metadata": {},
     "output_type": "display_data"
    }
   ],
   "source": [
    "f(43.0)"
   ]
  },
  {
   "cell_type": "code",
   "execution_count": 83,
   "metadata": {},
   "outputs": [
    {
     "data": {
      "text/plain": [
       "2×2 Matrix{Int64}:\n",
       "  2   5\n",
       " 10  17"
      ]
     },
     "metadata": {},
     "output_type": "display_data"
    }
   ],
   "source": [
    "f.(B)"
   ]
  },
  {
   "cell_type": "markdown",
   "metadata": {},
   "source": [
    "Elements are always accessed with square brackets:"
   ]
  },
  {
   "cell_type": "code",
   "execution_count": 85,
   "metadata": {},
   "outputs": [
    {
     "data": {
      "text/plain": [
       "2×3 Matrix{Int64}:\n",
       " 1  2  3\n",
       " 4  5  6"
      ]
     },
     "metadata": {},
     "output_type": "display_data"
    }
   ],
   "source": [
    "B = [1 2 3; 4 5 6]"
   ]
  },
  {
   "cell_type": "code",
   "execution_count": null,
   "metadata": {},
   "outputs": [],
   "source": [
    "You get element $B_{ij}$ with `B[i,j]`"
   ]
  },
  {
   "cell_type": "code",
   "execution_count": 86,
   "metadata": {},
   "outputs": [
    {
     "data": {
      "text/plain": [
       "5"
      ]
     },
     "metadata": {},
     "output_type": "display_data"
    }
   ],
   "source": [
    "B[2,3]"
   ]
  },
  {
   "cell_type": "markdown",
   "metadata": {},
   "source": [
    "Linear indexing is also allowed"
   ]
  },
  {
   "cell_type": "code",
   "execution_count": null,
   "metadata": {},
   "outputs": [],
   "source": [
    "B[4]"
   ]
  },
  {
   "cell_type": "markdown",
   "metadata": {},
   "source": [
    "You select a whole row/column with `:`"
   ]
  },
  {
   "cell_type": "code",
   "execution_count": 87,
   "metadata": {},
   "outputs": [
    {
     "data": {
      "text/plain": [
       "2×3 Matrix{Int64}:\n",
       " 1  2  3\n",
       " 4  5  6"
      ]
     },
     "metadata": {},
     "output_type": "display_data"
    }
   ],
   "source": [
    "B"
   ]
  },
  {
   "cell_type": "code",
   "execution_count": 88,
   "metadata": {},
   "outputs": [
    {
     "data": {
      "text/plain": [
       "2-element Vector{Int64}:\n",
       " 1\n",
       " 4"
      ]
     },
     "metadata": {},
     "output_type": "display_data"
    }
   ],
   "source": [
    "B[:,1]"
   ]
  },
  {
   "cell_type": "code",
   "execution_count": 89,
   "metadata": {},
   "outputs": [
    {
     "data": {
      "text/plain": [
       "3-element Vector{Int64}:\n",
       " 1\n",
       " 2\n",
       " 3"
      ]
     },
     "metadata": {},
     "output_type": "display_data"
    }
   ],
   "source": [
    "B[1,:]"
   ]
  },
  {
   "cell_type": "code",
   "execution_count": 90,
   "metadata": {},
   "outputs": [
    {
     "data": {
      "text/plain": [
       "2×2 Matrix{Int64}:\n",
       " 1  2\n",
       " 4  5"
      ]
     },
     "metadata": {},
     "output_type": "display_data"
    }
   ],
   "source": [
    "B[:,1:2]"
   ]
  },
  {
   "cell_type": "code",
   "execution_count": 91,
   "metadata": {},
   "outputs": [
    {
     "data": {
      "text/plain": [
       "2×2 Matrix{Int64}:\n",
       " 1  2\n",
       " 4  5"
      ]
     },
     "metadata": {},
     "output_type": "display_data"
    }
   ],
   "source": [
    "B[:,1:end-1]"
   ]
  },
  {
   "cell_type": "markdown",
   "metadata": {},
   "source": [
    "#### Control flow"
   ]
  },
  {
   "cell_type": "markdown",
   "metadata": {},
   "source": [
    "Conditions"
   ]
  },
  {
   "cell_type": "code",
   "execution_count": 66,
   "metadata": {},
   "outputs": [
    {
     "name": "stdout",
     "output_type": "stream",
     "text": [
      "x is zero\n"
     ]
    }
   ],
   "source": [
    "x = 0\n",
    "if x<0\n",
    "    # block\n",
    "    println(\"x is negative\")\n",
    "elseif (x > 0) # optional and unlimited\n",
    "    println(\"x is positive\")\n",
    "else         # optional\n",
    "    println(\"x is zero\")\n",
    "end"
   ]
  },
  {
   "cell_type": "markdown",
   "metadata": {},
   "source": [
    "While"
   ]
  },
  {
   "cell_type": "code",
   "execution_count": 67,
   "metadata": {},
   "outputs": [
    {
     "name": "stdout",
     "output_type": "stream",
     "text": [
      "3\n",
      "2\n",
      "1\n"
     ]
    }
   ],
   "source": [
    "i = 3\n",
    "while i > 0\n",
    "    println(i)\n",
    "    i -= 1 # decrement\n",
    "end"
   ]
  },
  {
   "cell_type": "markdown",
   "metadata": {},
   "source": [
    "For loops: one can iterate over any iterable object:\n",
    "- range   `i1:i2`, `range(0,1; length=100)`\n",
    "- vector\n",
    "- tuple\n",
    "- iterator ..."
   ]
  },
  {
   "cell_type": "code",
   "execution_count": 92,
   "metadata": {},
   "outputs": [
    {
     "name": "stdout",
     "output_type": "stream",
     "text": [
      "1\n",
      "2\n",
      "3\n"
     ]
    }
   ],
   "source": [
    "# Iterate through ranges of numbers\n",
    "for i ∈ (1:3)\n",
    "    println(i)\n",
    "end"
   ]
  },
  {
   "cell_type": "code",
   "execution_count": 93,
   "metadata": {},
   "outputs": [
    {
     "name": "stdout",
     "output_type": "stream",
     "text": [
      "Boston\n",
      "New York\n",
      "Philadelphia\n"
     ]
    }
   ],
   "source": [
    "# Iterate through arrays\n",
    "cities = [\"Boston\", \"New York\", \"Philadelphia\"]\n",
    "for city in cities\n",
    "    println(city)\n",
    "end"
   ]
  },
  {
   "cell_type": "code",
   "execution_count": 74,
   "metadata": {},
   "outputs": [
    {
     "data": {
      "text/plain": [
       "3-element Array{String,1}:\n",
       " \"Boston\"\n",
       " \"New York\"\n",
       " \"Philadelphia\""
      ]
     },
     "execution_count": 74,
     "metadata": {},
     "output_type": "execute_result"
    }
   ],
   "source": [
    "cities"
   ]
  },
  {
   "cell_type": "code",
   "execution_count": 95,
   "metadata": {},
   "outputs": [
    {
     "data": {
      "text/plain": [
       "3-element Vector{String}:\n",
       " \"Massachussets\"\n",
       " \"New York\"\n",
       " \"Pennsylvania\""
      ]
     },
     "metadata": {},
     "output_type": "display_data"
    }
   ],
   "source": [
    "states = [\"Massachussets\", \"New York\", \"Pennsylvania\"]"
   ]
  },
  {
   "cell_type": "code",
   "execution_count": 96,
   "metadata": {},
   "outputs": [
    {
     "data": {
      "text/plain": [
       "zip([\"Boston\", \"New York\", \"Philadelphia\"], [\"Massachussets\", \"New York\", \"Pennsylvania\"])"
      ]
     },
     "metadata": {},
     "output_type": "display_data"
    }
   ],
   "source": [
    "two_by_two_iterable = zip(cities, states)"
   ]
  },
  {
   "cell_type": "code",
   "execution_count": 97,
   "metadata": {},
   "outputs": [
    {
     "data": {
      "text/plain": [
       "3-element Vector{Tuple{String, String}}:\n",
       " (\"Boston\", \"Massachussets\")\n",
       " (\"New York\", \"New York\")\n",
       " (\"Philadelphia\", \"Pennsylvania\")"
      ]
     },
     "metadata": {},
     "output_type": "display_data"
    }
   ],
   "source": [
    "collect(two_by_two_iterable)"
   ]
  },
  {
   "cell_type": "code",
   "execution_count": 98,
   "metadata": {},
   "outputs": [
    {
     "name": "stdout",
     "output_type": "stream",
     "text": [
      "(\"Boston\", \"Massachussets\")\n",
      "(\"New York\", \"New York\")\n",
      "(\"Philadelphia\", \"Pennsylvania\")\n"
     ]
    }
   ],
   "source": [
    "# Iterate through arrays of tuples using zip\n",
    "for kw in zip(cities, states)\n",
    "    println(kw)\n",
    "end"
   ]
  },
  {
   "cell_type": "code",
   "execution_count": 79,
   "metadata": {},
   "outputs": [
    {
     "name": "stdout",
     "output_type": "stream",
     "text": [
      "Boston, Massachussets\n",
      "New York, New York\n",
      "Philadelphia, Pennsylvania\n"
     ]
    }
   ],
   "source": [
    "# Iterate through arrays of tuples using zip\n",
    "for (city, state) in zip(cities, states)\n",
    "    println(\"$city, $state\")\n",
    "end"
   ]
  },
  {
   "cell_type": "code",
   "execution_count": 81,
   "metadata": {},
   "outputs": [
    {
     "name": "stdout",
     "output_type": "stream",
     "text": [
      "City 1 is Boston\n",
      "City 2 is New York\n",
      "City 3 is Philadelphia\n"
     ]
    }
   ],
   "source": [
    "# Iterate through arrays and their indices using enumerate\n",
    "for (i, city) in enumerate(cities)\n",
    "    println(\"City $i is $city\")\n",
    "end"
   ]
  },
  {
   "cell_type": "markdown",
   "metadata": {},
   "source": [
    "#### Array comprehensions\n",
    "\n",
    "The list comprehension syntax creates arrays (with homogenous types)."
   ]
  },
  {
   "cell_type": "code",
   "execution_count": null,
   "metadata": {},
   "outputs": [
    {
     "data": {
      "text/plain": [
       "10-element Vector{Int64}:\n",
       "   1\n",
       "   4\n",
       "   9\n",
       "  16\n",
       "  25\n",
       "  36\n",
       "  49\n",
       "  64\n",
       "  81\n",
       " 100"
      ]
     },
     "metadata": {},
     "output_type": "display_data"
    }
   ],
   "source": [
    "[i^2 for i  ∈ 1:10] # collect with comprehension syntax"
   ]
  },
  {
   "cell_type": "code",
   "execution_count": 101,
   "metadata": {},
   "outputs": [
    {
     "data": {
      "text/plain": [
       "10-element Vector{Int64}:\n",
       "  1\n",
       "  2\n",
       "  3\n",
       "  4\n",
       "  5\n",
       "  6\n",
       "  7\n",
       "  8\n",
       "  9\n",
       " 10"
      ]
     },
     "metadata": {},
     "output_type": "display_data"
    }
   ],
   "source": [
    "[1:10 ...]  # unpack operator"
   ]
  },
  {
   "cell_type": "code",
   "execution_count": 85,
   "metadata": {},
   "outputs": [
    {
     "data": {
      "text/plain": [
       "5-element Array{Int64,1}:\n",
       "   4\n",
       "  16\n",
       "  36\n",
       "  64\n",
       " 100"
      ]
     },
     "execution_count": 85,
     "metadata": {},
     "output_type": "execute_result"
    }
   ],
   "source": [
    "[i^2 for i=1:10 if mod(i,2)==0]"
   ]
  },
  {
   "cell_type": "code",
   "execution_count": null,
   "metadata": {},
   "outputs": [],
   "source": [
    "Logic extends to several dimensions to create vectors."
   ]
  },
  {
   "cell_type": "code",
   "execution_count": null,
   "metadata": {},
   "outputs": [],
   "source": [
    "[i+j for i=1:10, j=1:10]"
   ]
  },
  {
   "cell_type": "markdown",
   "metadata": {},
   "source": [
    "#### Iterators\n",
    "\n",
    "Like in python, an \"iterator\" can be created with round brackets and can be composed with other iterators."
   ]
  },
  {
   "cell_type": "code",
   "execution_count": null,
   "metadata": {},
   "outputs": [
    {
     "data": {
      "text/plain": [
       "Base.Generator{Base.Iterators.Filter{var\"#20#22\", UnitRange{Int64}}, var\"#19#21\"}(var\"#19#21\"(), Base.Iterators.Filter{var\"#20#22\", UnitRange{Int64}}(var\"#20#22\"(), 1:10))"
      ]
     },
     "metadata": {},
     "output_type": "display_data"
    }
   ],
   "source": [
    "iterator = ( i^2 for i=1:10 if mod(i,2)==0 )"
   ]
  },
  {
   "cell_type": "markdown",
   "metadata": {},
   "source": [
    "Generators are not supported (yet). Or are they?"
   ]
  },
  {
   "cell_type": "markdown",
   "metadata": {},
   "source": [
    "### Data Types and multiple dispatch"
   ]
  },
  {
   "cell_type": "markdown",
   "metadata": {},
   "source": [
    "#### Composite types\n",
    "\n",
    "A **composite type** is a collection of named fields that can be treated as a single value. They bear a passing resemblance to MATLAB structs.\n",
    "\n",
    "All fields must be declared ahead of time. The double colon, `::`, constrains a field to contain values of a certain type. This is optional for any field."
   ]
  },
  {
   "cell_type": "code",
   "execution_count": 103,
   "metadata": {},
   "outputs": [],
   "source": [
    "# Type definition with 4 fields\n",
    "struct ParameterFree\n",
    "    value  \n",
    "    transformation  \n",
    "    tex_label\n",
    "    description \n",
    "end"
   ]
  },
  {
   "cell_type": "code",
   "execution_count": 104,
   "metadata": {},
   "outputs": [
    {
     "data": {
      "text/plain": [
       "ParameterFree(\"1\", var\"#23#24\"(), \"\\\\sqrt{1+x^2}\", (\"a\", 1))"
      ]
     },
     "metadata": {},
     "output_type": "display_data"
    }
   ],
   "source": [
    "pf = ParameterFree(\"1\", x->x^2, \"\\\\sqrt{1+x^2}\", (\"a\",1))"
   ]
  },
  {
   "cell_type": "code",
   "execution_count": 106,
   "metadata": {},
   "outputs": [
    {
     "data": {
      "text/plain": [
       "\"1\""
      ]
     },
     "metadata": {},
     "output_type": "display_data"
    }
   ],
   "source": [
    "pf.value"
   ]
  },
  {
   "cell_type": "markdown",
   "metadata": {},
   "source": [
    "Two reasons to create structures:\n",
    "- syntactic shortcut (you access the fields with .)\n",
    "- specify the types of the fields"
   ]
  },
  {
   "cell_type": "code",
   "execution_count": 115,
   "metadata": {},
   "outputs": [
    {
     "ename": "ErrorException",
     "evalue": "invalid redefinition of constant Parameter",
     "output_type": "error",
     "traceback": [
      "invalid redefinition of constant Parameter\n",
      "\n",
      "Stacktrace:\n",
      " [1] top-level scope\n",
      "   @ ~/Econforge/NoLib/notebooks/Julia_Basics.ipynb:2"
     ]
    }
   ],
   "source": [
    "# Type definition\n",
    "struct Parameter\n",
    "    value ::Float64\n",
    "    transformation ::Function # Function is a type!\n",
    "    tex_label::String\n",
    "    description::String\n",
    "    stddev:: Float64\n",
    "end"
   ]
  },
  {
   "cell_type": "code",
   "execution_count": 111,
   "metadata": {},
   "outputs": [
    {
     "ename": "MethodError",
     "evalue": "MethodError: Cannot `convert` an object of type String to an object of type Float64\nClosest candidates are:\n  convert(::Type{T}, !Matched::T) where T<:Number at number.jl:6\n  convert(::Type{T}, !Matched::Number) where T<:Number at number.jl:7\n  convert(::Type{T}, !Matched::Base.TwicePrecision) where T<:Number at twiceprecision.jl:273\n  ...",
     "output_type": "error",
     "traceback": [
      "MethodError: Cannot `convert` an object of type String to an object of type Float64\n",
      "Closest candidates are:\n",
      "  convert(::Type{T}, !Matched::T) where T<:Number at number.jl:6\n",
      "  convert(::Type{T}, !Matched::Number) where T<:Number at number.jl:7\n",
      "  convert(::Type{T}, !Matched::Base.TwicePrecision) where T<:Number at twiceprecision.jl:273\n",
      "  ...\n",
      "\n",
      "Stacktrace:\n",
      " [1] Parameter(value::String, transformation::Function, tex_label::String, description::String)\n",
      "   @ Main ~/Econforge/NoLib/notebooks/Julia_Basics.ipynb:3\n",
      " [2] top-level scope\n",
      "   @ ~/Econforge/NoLib/notebooks/Julia_Basics.ipynb:1"
     ]
    }
   ],
   "source": [
    "p = Parameter(\"1\", x->x^2, \"\\\\sqrt{1+x^2}\", \"Crucial Parameter\")"
   ]
  },
  {
   "cell_type": "code",
   "execution_count": 112,
   "metadata": {},
   "outputs": [
    {
     "data": {
      "text/plain": [
       "Parameter(0.43, var\"#31#32\"(), \"\\\\sqrt{1+x^2}\", \"This is a description\")"
      ]
     },
     "metadata": {},
     "output_type": "display_data"
    }
   ],
   "source": [
    "p = Parameter(0.43, x->x^2, \"\\\\sqrt{1+x^2}\", \"This is a description\")"
   ]
  },
  {
   "cell_type": "code",
   "execution_count": 113,
   "metadata": {},
   "outputs": [
    {
     "data": {
      "text/plain": [
       "0.43"
      ]
     },
     "metadata": {},
     "output_type": "display_data"
    }
   ],
   "source": [
    "p.value"
   ]
  },
  {
   "cell_type": "markdown",
   "metadata": {},
   "source": [
    "When a type with $n$ fields is defined, a constructor (function that creates an instance of that type) that takes $n$ ordered arguments is automatically created. Additional constructors can be defined for convenience."
   ]
  },
  {
   "cell_type": "code",
   "execution_count": 104,
   "metadata": {},
   "outputs": [
    {
     "data": {
      "text/plain": [
       "Parameter(0.9, identity, \"\\\\beta\", \"Discount rate\")"
      ]
     },
     "execution_count": 104,
     "metadata": {},
     "output_type": "execute_result"
    }
   ],
   "source": [
    "# Creating an instance of the Parameter type using the default\n",
    "# constructor\n",
    "β = Parameter(0.9, identity, \"\\\\beta\", \"Discount rate\")"
   ]
  },
  {
   "cell_type": "code",
   "execution_count": 125,
   "metadata": {},
   "outputs": [
    {
     "data": {
      "text/plain": [
       "Parameter"
      ]
     },
     "metadata": {},
     "output_type": "display_data"
    }
   ],
   "source": [
    "function Parameter(value)\n",
    "    return Parameter(value, x->x, \"x\", \"Anonymous\")\n",
    "end"
   ]
  },
  {
   "cell_type": "code",
   "execution_count": 126,
   "metadata": {},
   "outputs": [
    {
     "data": {
      "text/plain": [
       "Parameter(0.4, var\"#33#34\"(), \"x\", \"Anonymous\")"
      ]
     },
     "metadata": {},
     "output_type": "display_data"
    }
   ],
   "source": [
    "Parameter(0.4)"
   ]
  },
  {
   "cell_type": "code",
   "execution_count": 127,
   "metadata": {},
   "outputs": [
    {
     "data": {
      "text/plain": [
       "Parameter"
      ]
     },
     "metadata": {},
     "output_type": "display_data"
    }
   ],
   "source": [
    "Parameter(value, transformation, tex) = Parameter(value, transformation, tex, \"no description\")"
   ]
  },
  {
   "cell_type": "code",
   "execution_count": 128,
   "metadata": {},
   "outputs": [
    {
     "data": {
      "text/html": [
       "# 4 methods for type constructor:<ul><li> Parameter(value::<b>Float64</b>, transformation::<b>Function</b>, tex_label::<b>String</b>, description::<b>String</b>) in Main at <a href=\"https://github.com/albop/NoLib/tree/bf6fd8cb8b177a390c4384ce001223876ec8548b//notebooks/Julia_Basics.ipynb#L3\" target=\"_blank\">/home/pablo/Econforge/NoLib/notebooks/Julia_Basics.ipynb:3</a></li> <li> Parameter(value) in Main at <a href=\"https://github.com/albop/NoLib/tree/bf6fd8cb8b177a390c4384ce001223876ec8548b//notebooks/Julia_Basics.ipynb#L1\" target=\"_blank\">/home/pablo/Econforge/NoLib/notebooks/Julia_Basics.ipynb:1</a></li> <li> Parameter(value, transformation, tex) in Main at <a href=\"https://github.com/albop/NoLib/tree/bf6fd8cb8b177a390c4384ce001223876ec8548b//notebooks/Julia_Basics.ipynb#L1\" target=\"_blank\">/home/pablo/Econforge/NoLib/notebooks/Julia_Basics.ipynb:1</a></li> <li> Parameter(value, transformation, tex_label, description) in Main at <a href=\"https://github.com/albop/NoLib/tree/bf6fd8cb8b177a390c4384ce001223876ec8548b//notebooks/Julia_Basics.ipynb#L3\" target=\"_blank\">/home/pablo/Econforge/NoLib/notebooks/Julia_Basics.ipynb:3</a></li> </ul>"
      ],
      "text/plain": [
       "# 4 methods for type constructor:\n",
       "[1] Parameter(value::Float64, transformation::Function, tex_label::String, description::String) in Main at /home/pablo/Econforge/NoLib/notebooks/Julia_Basics.ipynb:3\n",
       "[2] Parameter(value) in Main at /home/pablo/Econforge/NoLib/notebooks/Julia_Basics.ipynb:1\n",
       "[3] Parameter(value, transformation, tex) in Main at /home/pablo/Econforge/NoLib/notebooks/Julia_Basics.ipynb:1\n",
       "[4] Parameter(value, transformation, tex_label, description) in Main at /home/pablo/Econforge/NoLib/notebooks/Julia_Basics.ipynb:3"
      ]
     },
     "metadata": {},
     "output_type": "display_data"
    }
   ],
   "source": [
    "methods( Parameter )"
   ]
  },
  {
   "cell_type": "code",
   "execution_count": 110,
   "metadata": {},
   "outputs": [
    {
     "data": {
      "text/plain": [
       "Parameter(0.5, identity, \"\\alpha\", \"No description available\")"
      ]
     },
     "execution_count": 110,
     "metadata": {},
     "output_type": "execute_result"
    }
   ],
   "source": [
    "# Alternative constructors end with an appeal to the default\n",
    "# constructor\n",
    "function Parameter(value::Float64, tex_label::String)\n",
    "    transformation = identity\n",
    "    description = \"No description available\"\n",
    "    return Parameter(value, transformation, tex_label, description)\n",
    "end\n",
    "\n",
    "α = Parameter(0.5, \"\\alpha\")"
   ]
  },
  {
   "cell_type": "markdown",
   "metadata": {},
   "source": [
    "Now the function `Parameter` has two different `methods` with different signatures:"
   ]
  },
  {
   "cell_type": "code",
   "execution_count": 9,
   "metadata": {},
   "outputs": [
    {
     "data": {
      "text/html": [
       "# 4 methods for type constructor:<ul><li> Parameter(value::<b>Float64</b>, transformation::<b>Function</b>, tex_label::<b>String</b>, description::<b>String</b>) in Main at In[1]:3</li> <li> Parameter(value::<b>Float64</b>, tex_label::<b>String</b>) in Main at In[8]:4</li> <li> Parameter(value, transformation, tex) in Main at In[5]:1</li> <li> Parameter(value, transformation, tex_label, description) in Main at In[1]:3</li> </ul>"
      ],
      "text/plain": [
       "# 4 methods for type constructor:\n",
       "[1] Parameter(value::Float64, transformation::Function, tex_label::String, description::String) in Main at In[1]:3\n",
       "[2] Parameter(value::Float64, tex_label::String) in Main at In[8]:4\n",
       "[3] Parameter(value, transformation, tex) in Main at In[5]:1\n",
       "[4] Parameter(value, transformation, tex_label, description) in Main at In[1]:3"
      ]
     },
     "execution_count": 9,
     "metadata": {},
     "output_type": "execute_result"
    }
   ],
   "source": [
    "methods(Parameter)"
   ]
  },
  {
   "cell_type": "markdown",
   "metadata": {},
   "source": [
    "We have seen that a function can have several implementations, called methods, for different number of arguments, \n",
    "or for different types of arguments."
   ]
  },
  {
   "cell_type": "code",
   "execution_count": 129,
   "metadata": {},
   "outputs": [
    {
     "data": {
      "text/plain": [
       "fun (generic function with 1 method)"
      ]
     },
     "metadata": {},
     "output_type": "display_data"
    }
   ],
   "source": [
    "fun(x::Int64, y::Int64) = x^3 + y"
   ]
  },
  {
   "cell_type": "code",
   "execution_count": 132,
   "metadata": {},
   "outputs": [
    {
     "data": {
      "text/plain": [
       "fun (generic function with 2 methods)"
      ]
     },
     "metadata": {},
     "output_type": "display_data"
    }
   ],
   "source": [
    "fun(x::Float64, y::Int64) = x/2 + y"
   ]
  },
  {
   "cell_type": "code",
   "execution_count": 130,
   "metadata": {},
   "outputs": [
    {
     "data": {
      "text/plain": [
       "10"
      ]
     },
     "metadata": {},
     "output_type": "display_data"
    }
   ],
   "source": [
    "fun(2, 2)"
   ]
  },
  {
   "cell_type": "code",
   "execution_count": 117,
   "metadata": {},
   "outputs": [
    {
     "data": {
      "text/plain": [
       "3.0"
      ]
     },
     "execution_count": 117,
     "metadata": {},
     "output_type": "execute_result"
    }
   ],
   "source": [
    "fun(2.0, 2)"
   ]
  },
  {
   "cell_type": "code",
   "execution_count": null,
   "metadata": {},
   "outputs": [],
   "source": [
    "α.tex_label"
   ]
  },
  {
   "cell_type": "code",
   "execution_count": 118,
   "metadata": {},
   "outputs": [
    {
     "data": {
      "text/plain": [
       "0.5"
      ]
     },
     "execution_count": 118,
     "metadata": {},
     "output_type": "execute_result"
    }
   ],
   "source": [
    "# Access a particular field using .\n",
    "α.value"
   ]
  },
  {
   "cell_type": "code",
   "execution_count": null,
   "metadata": {},
   "outputs": [],
   "source": [
    "# Fields are modifiable and can be assigned to, like \n",
    "# ordinary variables\n",
    "α.value = 0.75"
   ]
  },
  {
   "cell_type": "markdown",
   "metadata": {},
   "source": [
    "### Mutable vs non mutable types\n"
   ]
  },
  {
   "cell_type": "markdown",
   "metadata": {},
   "source": [
    "by default structures in Julia are non-mutable"
   ]
  },
  {
   "cell_type": "code",
   "execution_count": 123,
   "metadata": {},
   "outputs": [
    {
     "ename": "LoadError",
     "evalue": "\u001b[91msetfield! immutable struct of type Parameter cannot be changed\u001b[39m",
     "output_type": "error",
     "traceback": [
      "\u001b[91msetfield! immutable struct of type Parameter cannot be changed\u001b[39m",
      "",
      "Stacktrace:",
      " [1] setproperty!(::Parameter, ::Symbol, ::Float64) at ./Base.jl:34",
      " [2] top-level scope at In[123]:1",
      " [3] include_string(::Function, ::Module, ::String, ::String) at ./loading.jl:1091"
     ]
    }
   ],
   "source": [
    "p.value = 3.0"
   ]
  },
  {
   "cell_type": "code",
   "execution_count": 124,
   "metadata": {},
   "outputs": [],
   "source": [
    "mutable struct Params\n",
    "    x:: Float64\n",
    "    y:: Float64\n",
    "end"
   ]
  },
  {
   "cell_type": "code",
   "execution_count": 125,
   "metadata": {},
   "outputs": [
    {
     "data": {
      "text/plain": [
       "Params(0.4, 0.2)"
      ]
     },
     "execution_count": 125,
     "metadata": {},
     "output_type": "execute_result"
    }
   ],
   "source": [
    "pos = Params(0.4, 0.2)"
   ]
  },
  {
   "cell_type": "code",
   "execution_count": 126,
   "metadata": {},
   "outputs": [
    {
     "data": {
      "text/plain": [
       "0.5"
      ]
     },
     "execution_count": 126,
     "metadata": {},
     "output_type": "execute_result"
    }
   ],
   "source": [
    "pos.x = 0.5"
   ]
  },
  {
   "cell_type": "markdown",
   "metadata": {},
   "source": [
    "### Parameterized Types\n",
    "\n",
    "**Parameterized types** are data types that are defined to handle values identically regardless of the type of those values.\n",
    "\n",
    "Arrays are a familiar example. An `Array{T,1}` is a one-dimensional array filled with objects of any type `T` (e.g. `Float64`, `String`)."
   ]
  },
  {
   "cell_type": "code",
   "execution_count": 133,
   "metadata": {},
   "outputs": [
    {
     "data": {
      "text/plain": [
       "2-element Vector{Int64}:\n",
       " 45\n",
       " 76"
      ]
     },
     "metadata": {},
     "output_type": "display_data"
    }
   ],
   "source": [
    "[45,76]"
   ]
  },
  {
   "cell_type": "code",
   "execution_count": 134,
   "metadata": {},
   "outputs": [
    {
     "data": {
      "text/plain": [
       "2-element Vector{Float64}:\n",
       " 45.0\n",
       " 76.0"
      ]
     },
     "metadata": {},
     "output_type": "display_data"
    }
   ],
   "source": [
    "[45,76.0]"
   ]
  },
  {
   "cell_type": "code",
   "execution_count": 135,
   "metadata": {},
   "outputs": [],
   "source": [
    "# Defining a parametric point\n",
    "struct Duple{T} # T is a parameter to the type Duple\n",
    "    x::T\n",
    "    y::T\n",
    "end"
   ]
  },
  {
   "cell_type": "code",
   "execution_count": 136,
   "metadata": {},
   "outputs": [
    {
     "data": {
      "text/plain": [
       "Duple{Int64}(3, 3)"
      ]
     },
     "metadata": {},
     "output_type": "display_data"
    }
   ],
   "source": [
    "Duple(3, 3)"
   ]
  },
  {
   "cell_type": "code",
   "execution_count": 137,
   "metadata": {},
   "outputs": [
    {
     "data": {
      "text/plain": [
       "Duple{Float64}(3.0, -1.0)"
      ]
     },
     "metadata": {},
     "output_type": "display_data"
    }
   ],
   "source": [
    "Duple(3.0, -1.0)"
   ]
  },
  {
   "cell_type": "code",
   "execution_count": 138,
   "metadata": {},
   "outputs": [
    {
     "ename": "MethodError",
     "evalue": "MethodError: no method matching Duple(::Float64, ::Int64)\nClosest candidates are:\n  Duple(::T, !Matched::T) where T at ~/Econforge/NoLib/notebooks/Julia_Basics.ipynb:3",
     "output_type": "error",
     "traceback": [
      "MethodError: no method matching Duple(::Float64, ::Int64)\n",
      "Closest candidates are:\n",
      "  Duple(::T, !Matched::T) where T at ~/Econforge/NoLib/notebooks/Julia_Basics.ipynb:3\n",
      "\n",
      "Stacktrace:\n",
      " [1] top-level scope\n",
      "   @ ~/Econforge/NoLib/notebooks/Julia_Basics.ipynb:1"
     ]
    }
   ],
   "source": [
    "Duple(3.0, -1)"
   ]
  },
  {
   "cell_type": "code",
   "execution_count": 29,
   "metadata": {},
   "outputs": [],
   "source": [
    "struct Truple{T}\n",
    "    x::Duple{T}\n",
    "    z::T\n",
    "end"
   ]
  },
  {
   "cell_type": "markdown",
   "metadata": {},
   "source": [
    "This single declaration defines an unlimited number of new types: `Duple{String}`, `Duple{Float64}`, etc. are all immediately usable."
   ]
  },
  {
   "cell_type": "code",
   "execution_count": 30,
   "metadata": {},
   "outputs": [
    {
     "data": {
      "text/plain": [
       "8"
      ]
     },
     "execution_count": 30,
     "metadata": {},
     "output_type": "execute_result"
    }
   ],
   "source": [
    "sizeof(3.0)"
   ]
  },
  {
   "cell_type": "code",
   "execution_count": 31,
   "metadata": {},
   "outputs": [
    {
     "data": {
      "text/plain": [
       "16"
      ]
     },
     "execution_count": 31,
     "metadata": {},
     "output_type": "execute_result"
    }
   ],
   "source": [
    "sizeof( Duple(3.0, -15.0) )"
   ]
  },
  {
   "cell_type": "code",
   "execution_count": null,
   "metadata": {},
   "outputs": [],
   "source": [
    "# What happens here?\n",
    "Duple(1.5, 3)"
   ]
  },
  {
   "cell_type": "code",
   "execution_count": 35,
   "metadata": {},
   "outputs": [],
   "source": [
    "struct Truple3{T,S}\n",
    "    x::Tuple{T,S}\n",
    "    z::S\n",
    "end"
   ]
  },
  {
   "cell_type": "markdown",
   "metadata": {},
   "source": [
    "We can also restrict the type parameter `T`:"
   ]
  },
  {
   "cell_type": "code",
   "execution_count": 37,
   "metadata": {},
   "outputs": [
    {
     "data": {
      "text/plain": [
       "false"
      ]
     },
     "execution_count": 37,
     "metadata": {},
     "output_type": "execute_result"
    }
   ],
   "source": [
    "typeof(\"S\") <: Number"
   ]
  },
  {
   "cell_type": "code",
   "execution_count": 38,
   "metadata": {},
   "outputs": [
    {
     "data": {
      "text/plain": [
       "true"
      ]
     },
     "execution_count": 38,
     "metadata": {},
     "output_type": "execute_result"
    }
   ],
   "source": [
    "typeof(4) <: Number"
   ]
  },
  {
   "cell_type": "code",
   "execution_count": 40,
   "metadata": {},
   "outputs": [],
   "source": [
    "# T can be any subtype of Number, but nothing else\n",
    "struct PlanarCoordinate{T<:Number}\n",
    "    x::T\n",
    "    y::T\n",
    "end"
   ]
  },
  {
   "cell_type": "code",
   "execution_count": 41,
   "metadata": {},
   "outputs": [
    {
     "ename": "MethodError",
     "evalue": "MethodError: no method matching PlanarCoordinate(::String, ::String)",
     "output_type": "error",
     "traceback": [
      "MethodError: no method matching PlanarCoordinate(::String, ::String)",
      "",
      "Stacktrace:",
      " [1] top-level scope at In[41]:1"
     ]
    }
   ],
   "source": [
    "PlanarCoordinate(\"4th Ave\", \"14th St\")"
   ]
  },
  {
   "cell_type": "code",
   "execution_count": 42,
   "metadata": {},
   "outputs": [
    {
     "data": {
      "text/plain": [
       "PlanarCoordinate{Rational{Int64}}(2//3, 8//9)"
      ]
     },
     "execution_count": 42,
     "metadata": {},
     "output_type": "execute_result"
    }
   ],
   "source": [
    "PlanarCoordinate(2//3, 8//9)"
   ]
  },
  {
   "cell_type": "markdown",
   "metadata": {},
   "source": [
    "Arrays are an exemple of mutable, parameterized types"
   ]
  },
  {
   "cell_type": "markdown",
   "metadata": {},
   "source": [
    "### Why Use Types?"
   ]
  },
  {
   "cell_type": "markdown",
   "metadata": {},
   "source": [
    "You can write all your code without thinking about types at all. If you do this, however, you’ll be missing out on some of the biggest benefits of using Julia.\n",
    "\n",
    "If you understand types, you can:\n",
    "\n",
    "- Write faster code\n",
    "- Write expressive, clear, and well-structured programs (keep this in mind when we talk about functions)\n",
    "- Reason more clearly about how your code works\n",
    "\n",
    "Even if you only use built-in functions and types, your code still takes advantage of Julia’s type system. That’s why it’s important to understand what types are and how to use them."
   ]
  },
  {
   "cell_type": "code",
   "execution_count": 139,
   "metadata": {},
   "outputs": [
    {
     "data": {
      "text/plain": [
       "-25554.110202663698"
      ]
     },
     "metadata": {},
     "output_type": "display_data"
    }
   ],
   "source": [
    "# Example: writing type-stable functions\n",
    "function sumofsins_unstable(n::Integer)  \n",
    "    sum = 0:: Integer\n",
    "    for i in 1:n  \n",
    "        sum += sin(3.4)  \n",
    "    end  \n",
    "    return sum \n",
    "end  \n",
    "\n",
    "function sumofsins_stable(n::Integer)  \n",
    "    sum = 0.0 :: Float64\n",
    "    for i in 1:n  \n",
    "        sum += sin(3.4)  \n",
    "    end  \n",
    "    return sum \n",
    "end\n",
    "\n",
    "# Compile and run\n",
    "sumofsins_unstable(Int(1e5))\n",
    "sumofsins_stable(Int(1e5))"
   ]
  },
  {
   "cell_type": "code",
   "execution_count": 140,
   "metadata": {},
   "outputs": [
    {
     "name": "stdout",
     "output_type": "stream",
     "text": [
      "  0.000239 seconds\n"
     ]
    },
    {
     "data": {
      "text/plain": [
       "-25554.110202663698"
      ]
     },
     "metadata": {},
     "output_type": "display_data"
    }
   ],
   "source": [
    "@time sumofsins_unstable(Int(1e5))"
   ]
  },
  {
   "cell_type": "code",
   "execution_count": 141,
   "metadata": {},
   "outputs": [
    {
     "name": "stdout",
     "output_type": "stream",
     "text": [
      "  0.000147 seconds\n"
     ]
    },
    {
     "data": {
      "text/plain": [
       "-25554.110202663698"
      ]
     },
     "metadata": {},
     "output_type": "display_data"
    }
   ],
   "source": [
    "@time sumofsins_stable(Int(1e5))"
   ]
  },
  {
   "cell_type": "code",
   "execution_count": null,
   "metadata": {},
   "outputs": [],
   "source": []
  },
  {
   "cell_type": "markdown",
   "metadata": {},
   "source": [
    "In `sumofsins_stable`, the compiler is guaranteed that `sum` is of type `Float64` throughout; therefore, it saves time and memory. On the other hand, in `sumofsins_unstable`, the compiler must check the type of `sum` at each iteration of the loop. Let's look at the LLVM [intermediate representation](http://www.johnmyleswhite.com/notebook/2013/12/06/writing-type-stable-code-in-julia/)."
   ]
  },
  {
   "cell_type": "code",
   "execution_count": 143,
   "metadata": {},
   "outputs": [
    {
     "name": "stdout",
     "output_type": "stream",
     "text": [
      "MethodInstance for sumofsins_stable(::Int64)\n",
      "  from sumofsins_stable(n::Integer) in Main at /home/pablo/Econforge/NoLib/notebooks/Julia_Basics.ipynb:10\n",
      "Arguments\n",
      "  #self#\u001b[36m::Core.Const(sumofsins_stable)\u001b[39m\n",
      "  n\u001b[36m::Int64\u001b[39m\n",
      "Locals\n",
      "  @_3\u001b[33m\u001b[1m::Union{Nothing, Tuple{Int64, Int64}}\u001b[22m\u001b[39m\n",
      "  sum\u001b[36m::Float64\u001b[39m\n",
      "  i\u001b[36m::Int64\u001b[39m\n",
      "Body\u001b[36m::Float64\u001b[39m\n",
      "\u001b[90m1 ─\u001b[39m       (sum = Core.typeassert(0.0, Main.Float64))\n",
      "\u001b[90m│  \u001b[39m %2  = (1:n)\u001b[36m::Core.PartialStruct(UnitRange{Int64}, Any[Core.Const(1), Int64])\u001b[39m\n",
      "\u001b[90m│  \u001b[39m       (@_3 = Base.iterate(%2))\n",
      "\u001b[90m│  \u001b[39m %4  = (@_3 === nothing)\u001b[36m::Bool\u001b[39m\n",
      "\u001b[90m│  \u001b[39m %5  = Base.not_int(%4)\u001b[36m::Bool\u001b[39m\n",
      "\u001b[90m└──\u001b[39m       goto #4 if not %5\n",
      "\u001b[90m2 ┄\u001b[39m %7  = @_3\u001b[36m::Tuple{Int64, Int64}\u001b[39m\n",
      "\u001b[90m│  \u001b[39m       (i = Core.getfield(%7, 1))\n",
      "\u001b[90m│  \u001b[39m %9  = Core.getfield(%7, 2)\u001b[36m::Int64\u001b[39m\n",
      "\u001b[90m│  \u001b[39m %10 = sum\u001b[36m::Float64\u001b[39m\n",
      "\u001b[90m│  \u001b[39m %11 = Main.sin(3.4)\u001b[36m::Core.Const(-0.2555411020268312)\u001b[39m\n",
      "\u001b[90m│  \u001b[39m       (sum = %10 + %11)\n",
      "\u001b[90m│  \u001b[39m       (@_3 = Base.iterate(%2, %9))\n",
      "\u001b[90m│  \u001b[39m %14 = (@_3 === nothing)\u001b[36m::Bool\u001b[39m\n",
      "\u001b[90m│  \u001b[39m %15 = Base.not_int(%14)\u001b[36m::Bool\u001b[39m\n",
      "\u001b[90m└──\u001b[39m       goto #4 if not %15\n",
      "\u001b[90m3 ─\u001b[39m       goto #2\n",
      "\u001b[90m4 ┄\u001b[39m       return sum\n",
      "\n"
     ]
    }
   ],
   "source": [
    "@code_warntype sumofsins_stable(Int(1e5))"
   ]
  },
  {
   "cell_type": "markdown",
   "metadata": {},
   "source": [
    "### Multiple Dispatch"
   ]
  },
  {
   "cell_type": "markdown",
   "metadata": {},
   "source": [
    "So far we have defined functions over argument lists of any type. Methods allow us to define functions “piecewise”. For any set of input arguments, we can define a **method**, a definition of one possible behavior for a function."
   ]
  },
  {
   "cell_type": "code",
   "execution_count": 51,
   "metadata": {},
   "outputs": [
    {
     "data": {
      "text/plain": [
       "print_type (generic function with 1 method)"
      ]
     },
     "execution_count": 51,
     "metadata": {},
     "output_type": "execute_result"
    }
   ],
   "source": [
    "# Define one method of the function print_type\n",
    "function print_type(x::Number)\n",
    "    println(\"$x is a number\")\n",
    "end"
   ]
  },
  {
   "cell_type": "code",
   "execution_count": 53,
   "metadata": {},
   "outputs": [
    {
     "data": {
      "text/plain": [
       "print_type (generic function with 2 methods)"
      ]
     },
     "execution_count": 53,
     "metadata": {},
     "output_type": "execute_result"
    }
   ],
   "source": [
    "# Define another method\n",
    "function print_type(x::String)\n",
    "    println(\"$x is a string\")\n",
    "end"
   ]
  },
  {
   "cell_type": "code",
   "execution_count": 54,
   "metadata": {},
   "outputs": [
    {
     "data": {
      "text/plain": [
       "print_type (generic function with 3 methods)"
      ]
     },
     "execution_count": 54,
     "metadata": {},
     "output_type": "execute_result"
    }
   ],
   "source": [
    "# Define yet another method\n",
    "function print_type(x::Number, y::Number)\n",
    "    println(\"$x and $y are both numbers\")\n",
    "end"
   ]
  },
  {
   "cell_type": "code",
   "execution_count": 55,
   "metadata": {},
   "outputs": [
    {
     "data": {
      "text/html": [
       "# 3 methods for generic function <b>print_type</b>:<ul><li> print_type(x::<b>String</b>) in Main at In[53]:3</li> <li> print_type(x::<b>Number</b>) in Main at In[51]:3</li> <li> print_type(x::<b>Number</b>, y::<b>Number</b>) in Main at In[54]:3</li> </ul>"
      ],
      "text/plain": [
       "# 3 methods for generic function \"print_type\":\n",
       "[1] print_type(x::String) in Main at In[53]:3\n",
       "[2] print_type(x::Number) in Main at In[51]:3\n",
       "[3] print_type(x::Number, y::Number) in Main at In[54]:3"
      ]
     },
     "execution_count": 55,
     "metadata": {},
     "output_type": "execute_result"
    }
   ],
   "source": [
    "# See all methods for a given function\n",
    "methods(print_type)"
   ]
  },
  {
   "cell_type": "markdown",
   "metadata": {},
   "source": [
    "Julia uses **multiple dispatch** to decide which **method** of a **function** to execute when a function is applied. In particular, Julia compares the types of _all_ arguments to the signatures of the function’s methods in order to choose the applicable one, not just the first (hence \"multiple\")."
   ]
  },
  {
   "cell_type": "code",
   "execution_count": 56,
   "metadata": {},
   "outputs": [
    {
     "name": "stdout",
     "output_type": "stream",
     "text": [
      "5 is a number\n"
     ]
    }
   ],
   "source": [
    "print_type(5)"
   ]
  },
  {
   "cell_type": "code",
   "execution_count": 57,
   "metadata": {},
   "outputs": [
    {
     "name": "stdout",
     "output_type": "stream",
     "text": [
      "foo is a string\n"
     ]
    }
   ],
   "source": [
    "print_type(\"foo\")"
   ]
  },
  {
   "cell_type": "code",
   "execution_count": 58,
   "metadata": {},
   "outputs": [
    {
     "ename": "MethodError",
     "evalue": "MethodError: no method matching print_type(::Array{Int64,1})\nClosest candidates are:\n  print_type(!Matched::String) at In[53]:3\n  print_type(!Matched::Number) at In[51]:3\n  print_type(!Matched::Number, !Matched::Number) at In[54]:3",
     "output_type": "error",
     "traceback": [
      "MethodError: no method matching print_type(::Array{Int64,1})\nClosest candidates are:\n  print_type(!Matched::String) at In[53]:3\n  print_type(!Matched::Number) at In[51]:3\n  print_type(!Matched::Number, !Matched::Number) at In[54]:3",
      "",
      "Stacktrace:",
      " [1] top-level scope at In[58]:1"
     ]
    }
   ],
   "source": [
    "print_type([1, 2, 3])"
   ]
  },
  {
   "cell_type": "markdown",
   "metadata": {},
   "source": [
    "#### Other types of functions\n",
    "\n",
    "Julia supports a short function definition for one-liners"
   ]
  },
  {
   "cell_type": "code",
   "execution_count": 153,
   "metadata": {},
   "outputs": [
    {
     "data": {
      "text/plain": [
       "f (generic function with 3 methods)"
      ]
     },
     "metadata": {},
     "output_type": "display_data"
    }
   ],
   "source": [
    "f(x) = x^3"
   ]
  },
  {
   "cell_type": "code",
   "execution_count": 154,
   "metadata": {},
   "outputs": [
    {
     "data": {
      "text/plain": [
       "9.0"
      ]
     },
     "metadata": {},
     "output_type": "display_data"
    }
   ],
   "source": [
    "f(3.0)"
   ]
  },
  {
   "cell_type": "code",
   "execution_count": 146,
   "metadata": {},
   "outputs": [
    {
     "data": {
      "text/plain": [
       "f (generic function with 3 methods)"
      ]
     },
     "metadata": {},
     "output_type": "display_data"
    }
   ],
   "source": [
    "f(x::Float64) = x^2.0\n",
    "f(x::Int64) = x^3"
   ]
  },
  {
   "cell_type": "code",
   "execution_count": 155,
   "metadata": {},
   "outputs": [
    {
     "data": {
      "text/html": [
       "# 3 methods for generic function <b>f</b>:<ul><li> f(x::<b>Float64</b>) in Main at <a href=\"https://github.com/albop/NoLib/tree/bf6fd8cb8b177a390c4384ce001223876ec8548b//notebooks/Julia_Basics.ipynb#L1\" target=\"_blank\">/home/pablo/Econforge/NoLib/notebooks/Julia_Basics.ipynb:1</a></li> <li> f(x::<b>Int64</b>) in Main at <a href=\"https://github.com/albop/NoLib/tree/bf6fd8cb8b177a390c4384ce001223876ec8548b//notebooks/Julia_Basics.ipynb#L2\" target=\"_blank\">/home/pablo/Econforge/NoLib/notebooks/Julia_Basics.ipynb:2</a></li> <li> f(x) in Main at <a href=\"https://github.com/albop/NoLib/tree/bf6fd8cb8b177a390c4384ce001223876ec8548b//notebooks/Julia_Basics.ipynb#L1\" target=\"_blank\">/home/pablo/Econforge/NoLib/notebooks/Julia_Basics.ipynb:1</a></li> </ul>"
      ],
      "text/plain": [
       "# 3 methods for generic function \"f\":\n",
       "[1] f(x::Float64) in Main at /home/pablo/Econforge/NoLib/notebooks/Julia_Basics.ipynb:1\n",
       "[2] f(x::Int64) in Main at /home/pablo/Econforge/NoLib/notebooks/Julia_Basics.ipynb:2\n",
       "[3] f(x) in Main at /home/pablo/Econforge/NoLib/notebooks/Julia_Basics.ipynb:1"
      ]
     },
     "metadata": {},
     "output_type": "display_data"
    }
   ],
   "source": [
    "methods(f)"
   ]
  },
  {
   "cell_type": "markdown",
   "metadata": {},
   "source": [
    "As well as a special syntax for anonymous functions"
   ]
  },
  {
   "cell_type": "code",
   "execution_count": 156,
   "metadata": {},
   "outputs": [
    {
     "data": {
      "text/plain": [
       "#35 (generic function with 1 method)"
      ]
     },
     "metadata": {},
     "output_type": "display_data"
    }
   ],
   "source": [
    "u -> u^2"
   ]
  },
  {
   "cell_type": "code",
   "execution_count": 159,
   "metadata": {},
   "outputs": [
    {
     "data": {
      "text/plain": [
       "70.56"
      ]
     },
     "metadata": {},
     "output_type": "display_data"
    }
   ],
   "source": [
    "((u,v) -> (u+v)^2)( 4.4, 4)"
   ]
  },
  {
   "cell_type": "code",
   "execution_count": 160,
   "metadata": {},
   "outputs": [
    {
     "data": {
      "text/plain": [
       "4-element Vector{Int64}:\n",
       "  1\n",
       "  4\n",
       "  9\n",
       " 16"
      ]
     },
     "metadata": {},
     "output_type": "display_data"
    }
   ],
   "source": [
    "map(u->u^2, [1,2,3,4])"
   ]
  },
  {
   "cell_type": "code",
   "execution_count": null,
   "metadata": {},
   "outputs": [],
   "source": [
    "Note that anonymous functions have very small overhead if any."
   ]
  },
  {
   "cell_type": "code",
   "execution_count": null,
   "metadata": {},
   "outputs": [],
   "source": [
    "A = range(-10, 10; length=100000)\n",
    "maximum(u->u-(u-0.4)^2, A) \n",
    "# better than maximum(A.-(A.-0.4).^2) \n"
   ]
  },
  {
   "cell_type": "markdown",
   "metadata": {},
   "source": [
    "### Keyword arguments and optional arguments"
   ]
  },
  {
   "cell_type": "code",
   "execution_count": 4,
   "metadata": {},
   "outputs": [
    {
     "data": {
      "text/plain": [
       "g (generic function with 2 methods)"
      ]
     },
     "metadata": {},
     "output_type": "display_data"
    }
   ],
   "source": [
    "g(a,b,c=true; algo=\"newton\") = c ? a + b : a-b"
   ]
  },
  {
   "cell_type": "code",
   "execution_count": 8,
   "metadata": {},
   "outputs": [
    {
     "data": {
      "text/plain": [
       "5"
      ]
     },
     "metadata": {},
     "output_type": "display_data"
    }
   ],
   "source": [
    "g(2,3)"
   ]
  },
  {
   "cell_type": "code",
   "execution_count": 10,
   "metadata": {},
   "outputs": [
    {
     "data": {
      "text/plain": [
       "5"
      ]
     },
     "metadata": {},
     "output_type": "display_data"
    }
   ],
   "source": [
    "g(2,3, true; algo = :JI)"
   ]
  },
  {
   "cell_type": "markdown",
   "metadata": {},
   "source": [
    "### Packing/unpacking\n"
   ]
  },
  {
   "cell_type": "code",
   "execution_count": 60,
   "metadata": {},
   "outputs": [
    {
     "data": {
      "text/plain": [
       "(1, 2, 4)"
      ]
     },
     "execution_count": 60,
     "metadata": {},
     "output_type": "execute_result"
    }
   ],
   "source": [
    "t = (1,2,4)"
   ]
  },
  {
   "cell_type": "code",
   "execution_count": 61,
   "metadata": {},
   "outputs": [
    {
     "data": {
      "text/plain": [
       "(1, 2, 4)"
      ]
     },
     "execution_count": 61,
     "metadata": {},
     "output_type": "execute_result"
    }
   ],
   "source": [
    "a,b,c = t"
   ]
  },
  {
   "cell_type": "code",
   "execution_count": 65,
   "metadata": {},
   "outputs": [
    {
     "data": {
      "text/plain": [
       "10-element Array{Int64,1}:\n",
       "  1\n",
       "  2\n",
       "  3\n",
       "  4\n",
       "  5\n",
       "  6\n",
       "  7\n",
       "  8\n",
       "  9\n",
       " 10"
      ]
     },
     "execution_count": 65,
     "metadata": {},
     "output_type": "execute_result"
    }
   ],
   "source": [
    "[(1:10)...]"
   ]
  },
  {
   "cell_type": "code",
   "execution_count": 66,
   "metadata": {},
   "outputs": [
    {
     "data": {
      "text/plain": [
       "4-element Array{Int64,1}:\n",
       " 4\n",
       " 3\n",
       " 0\n",
       " 1"
      ]
     },
     "execution_count": 66,
     "metadata": {},
     "output_type": "execute_result"
    }
   ],
   "source": [
    "cat([4,3], [0,1]; dims=1)"
   ]
  },
  {
   "cell_type": "code",
   "execution_count": 67,
   "metadata": {},
   "outputs": [
    {
     "data": {
      "text/plain": [
       "8-element Array{Int64,1}:\n",
       " 4\n",
       " 3\n",
       " 0\n",
       " 1\n",
       " 0\n",
       " 0\n",
       " 1\n",
       " 1"
      ]
     },
     "execution_count": 67,
     "metadata": {},
     "output_type": "execute_result"
    }
   ],
   "source": [
    "l = [[4,3], [0,1], [0, 0], [1, 1]]\n",
    "# how do I concatenate it ?\n",
    "\n",
    "cat(l...; dims=1) ### see python's f(*s)"
   ]
  },
  {
   "cell_type": "markdown",
   "metadata": {},
   "source": [
    "Since 1.8, there is a special syntax to create named tuple, and unpack objects."
   ]
  },
  {
   "cell_type": "code",
   "execution_count": 27,
   "metadata": {},
   "outputs": [
    {
     "data": {
      "text/plain": [
       "(a = 1, b = 2, c = 3)"
      ]
     },
     "metadata": {},
     "output_type": "display_data"
    }
   ],
   "source": [
    "a = 1\n",
    "b = 2\n",
    "c = 3\n",
    "t = (;a, b, c) # equivalent to (;a=1,b=2,c=3)"
   ]
  },
  {
   "cell_type": "code",
   "execution_count": 28,
   "metadata": {},
   "outputs": [
    {
     "data": {
      "text/plain": [
       "0"
      ]
     },
     "metadata": {},
     "output_type": "display_data"
    }
   ],
   "source": [
    "a = b = c = 0"
   ]
  },
  {
   "cell_type": "code",
   "execution_count": 31,
   "metadata": {},
   "outputs": [
    {
     "name": "stdout",
     "output_type": "stream",
     "text": [
      "(a, b, c) = (1, 2, 3)\n"
     ]
    },
    {
     "data": {
      "text/plain": [
       "(1, 2, 3)"
      ]
     },
     "metadata": {},
     "output_type": "display_data"
    }
   ],
   "source": [
    "(;a, b, c) = t \n",
    "# equivalent to\n",
    "# a = t.a\n",
    "# b = t.b\n",
    "# c = t.c\n",
    "@show (a,b,c)"
   ]
  },
  {
   "cell_type": "markdown",
   "metadata": {},
   "source": [
    "### Writing Julian Code\n",
    "\n",
    "As we've seen, you can use Julia just like you use MATLAB and get faster code. However, to write faster and _better_ code, attempt to write in a “Julian” manner:\n",
    "\n",
    "- Define composite types as logically needed\n",
    "- Write type-stable functions for best performance\n",
    "- Take advantage of multiple dispatch to write code that looks like math\n",
    "- Add methods to existing functions"
   ]
  },
  {
   "cell_type": "markdown",
   "metadata": {},
   "source": [
    "### Just-in-Time Compilation"
   ]
  },
  {
   "cell_type": "markdown",
   "metadata": {},
   "source": [
    "How is Julia so fast? Julia is just-in-time (JIT) compiled, which  means (according to [this StackExchange answer](http://stackoverflow.com/questions/95635/what-does-a-just-in-time-jit-compiler-do)):\n",
    "\n",
    "> A JIT compiler runs after the program has started and compiles the code (usually bytecode or some kind of VM instructions) on the fly (or just-in-time, as it's called) into a form that's usually faster, typically the host CPU's native instruction set. _A JIT has access to dynamic runtime information whereas a standard compiler doesn't and can make better optimizations like inlining functions that are used frequently._\n",
    "\n",
    "> This is in contrast to a traditional compiler that compiles all the code to machine language before the program is first run.\n",
    "\n",
    "In particular, Julia uses type information at runtime to optimize how your code is compiled. This is why writing type-stable code makes such a difference in speed!"
   ]
  },
  {
   "cell_type": "markdown",
   "metadata": {},
   "source": [
    "## Exercise:\n",
    "\n",
    "Define 3x3 matrix `M` with biggest eigenvalue smaller than 1. \n",
    "Consider Ar1 process $X_t = M X_{t-1} + E_t$ where E_t follows a standard normal distribution.\n",
    "Simulate for T=1000 periods starting with $X_0=[0,0,0]$. Compute 1000 draws to approximate the standard deviation of the ergodic distribution.\n",
    "\n",
    "Compare the performance of different programming styles using BenchmarkTools:\n",
    "- matlab-like\n",
    "- in-place\n",
    "- using local variables\n",
    "- using static arrays\n"
   ]
  },
  {
   "cell_type": "code",
   "execution_count": null,
   "metadata": {},
   "outputs": [],
   "source": []
  }
 ],
 "metadata": {
  "kernelspec": {
   "display_name": "Julia 1.8.1",
   "language": "julia",
   "name": "julia-1.8"
  },
  "language_info": {
   "file_extension": ".jl",
   "mimetype": "application/julia",
   "name": "julia",
   "version": "1.8.0"
  }
 },
 "nbformat": 4,
 "nbformat_minor": 4
}
