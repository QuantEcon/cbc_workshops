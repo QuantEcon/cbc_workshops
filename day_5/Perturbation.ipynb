{
 "cells": [
  {
   "cell_type": "markdown",
   "metadata": {},
   "source": [
    "# Tutorial: Perturbation of the neoclassical model\n",
    "\n",
    "## Quantecon workshop - Chilean Central Bank - 2022"
   ]
  },
  {
   "cell_type": "markdown",
   "metadata": {},
   "source": [
    "__Warm-up: install and test the `ForwardDiff` library. Check the jacobian function.__"
   ]
  },
  {
   "cell_type": "code",
   "execution_count": 2,
   "metadata": {},
   "outputs": [],
   "source": []
  },
  {
   "cell_type": "markdown",
   "metadata": {},
   "source": [
    "__Warm-up(2): install and test the `NLSolve` library. Find the root of a simple 2 variables function.__"
   ]
  },
  {
   "cell_type": "code",
   "execution_count": null,
   "metadata": {},
   "outputs": [],
   "source": []
  },
  {
   "cell_type": "markdown",
   "metadata": {},
   "source": [
    "__Create a named tuple to hold the model parameters__"
   ]
  },
  {
   "cell_type": "code",
   "execution_count": 7,
   "metadata": {},
   "outputs": [
    {
     "data": {
      "text/plain": [
       "NamedTuple{(:α, :β, :γ, :δ, :ρ, :σ), NTuple{6, Float64}}"
      ]
     },
     "metadata": {},
     "output_type": "display_data"
    }
   ],
   "source": [
    "p0 = let\n",
    "    α = 0.3  # capital share (from the data)\n",
    "    β = 0.96 # time discount  (calibrated to 1/(1+r), where r=α4%)\n",
    "    γ = 4.0  # risk aversion or 1/EIS. EIS is calibrated from macro models\n",
    "    δ = 0.1   # capital depreciation (from the data)\n",
    "    ρ = 0.9   # autocorrelation of productivity shock\n",
    "    Σ = [0.01;]  # covariance matrix of innovations\n",
    "\n",
    "    p = (;α,β,γ,δ,ρ,σ)   # named tuple of parameters\n",
    "end\n",
    "Calibration = typeof(p0)"
   ]
  },
  {
   "cell_type": "markdown",
   "metadata": {},
   "source": [
    "__Define two functions:__\n",
    "- `transition(z::Number, k::Number, i::Number, c::Number, ϵ::Number, p::Calibration)::Vector{Number}` which returns productivity and capital at date `t+1` as a function of productivity, capital, consumption, investment at date `t`\n",
    "- `arbitrage(z::Number, k::Number, i::Number, Z::Number, K::Number, I::Number, p::Calibration)::Vector{Number}` which returns the residual of the euler equation (lower case variable for date t, upper case for date t+1)\n"
   ]
  },
  {
   "cell_type": "code",
   "execution_count": 8,
   "metadata": {},
   "outputs": [
    {
     "data": {
      "text/plain": [
       "transition (generic function with 1 method)"
      ]
     },
     "metadata": {},
     "output_type": "display_data"
    }
   ],
   "source": [
    "function transition(z::Number, k::Number, i::Number, c::Number, ϵ::Number, p::Calibration)\n",
    "    # Z = \n",
    "    # K = \n",
    "    return [Z, K]\n",
    "end"
   ]
  },
  {
   "cell_type": "code",
   "execution_count": 9,
   "metadata": {},
   "outputs": [
    {
     "data": {
      "text/plain": [
       "arbitrage (generic function with 1 method)"
      ]
     },
     "metadata": {},
     "output_type": "display_data"
    }
   ],
   "source": [
    "function arbitrage(z::Number, k::Number, i::Number, c::Number,\n",
    "                   Z::Number, K::Number, I::Number, C::Number, p::Calibration)\n",
    "    \n",
    "\n",
    "    y = exp(z)*k^p.α\n",
    "\n",
    "    eq = c - y + i\n",
    "    optimality = p.β*(C/c)^(-p.γ)*(1-p.δ + p.α*exp(Z)*K^(p.α-1) ) - 1\n",
    "\n",
    "    return [eq, optimality]\n",
    "\n",
    "end"
   ]
  },
  {
   "cell_type": "markdown",
   "metadata": {},
   "source": [
    "__Using multiple dispatch, define two variants of the same functions, that take vectors as input and output arguments:__\n",
    "- `arbitrage(s::Vector{Number}, x::Vector{Number}, S::Vector{Number}, X::Vector{Number}, p::Calibration)`\n",
    "- `transition(s::Vector{Number}, x::Vector{Number}, e::Vector{Number}, p::Calibration)`"
   ]
  },
  {
   "cell_type": "code",
   "execution_count": 22,
   "metadata": {},
   "outputs": [
    {
     "data": {
      "text/plain": [
       "arbitrage (generic function with 2 methods)"
      ]
     },
     "metadata": {},
     "output_type": "display_data"
    }
   ],
   "source": [
    "transition(s, x, e, p) = transition(s[1],s[2],x[1],x[2],e[1],p)\n",
    "arbitrage(s, x, S, X, p) = arbitrage(s[1],s[2],x[1],x[2],S[1],S[2],X[1],X[2],p)"
   ]
  },
  {
   "cell_type": "code",
   "execution_count": 23,
   "metadata": {},
   "outputs": [
    {
     "ename": "UndefVarError",
     "evalue": "UndefVarError: Z not defined",
     "output_type": "error",
     "traceback": [
      "UndefVarError: Z not defined\n",
      "\n",
      "Stacktrace:\n",
      " [1] transition(z::Float64, k::Float64, i::Float64, c::Float64, ϵ::Float64, p::NamedTuple{(:α, :β, :γ, :δ, :ρ, :σ), NTuple{6, Float64}})\n",
      "   @ Main ~/Teaching/clc/Perturbation.ipynb:4\n",
      " [2] transition(s::Vector{Float64}, x::Vector{Float64}, e::Vector{Float64}, p::NamedTuple{(:α, :β, :γ, :δ, :ρ, :σ), NTuple{6, Float64}})\n",
      "   @ Main ~/Teaching/clc/Perturbation.ipynb:1\n",
      " [3] top-level scope\n",
      "   @ ~/Teaching/clc/Perturbation.ipynb:2"
     ]
    }
   ],
   "source": [
    "# let's check it works:\n",
    "transition([0.1, 4.0], [0.4, 0.2], [0.01], p0)\n",
    "arbitrage([0.1, 4.0], [0.4, 0.2], [0.1, 4.0], [0.4, 0.1], p0)"
   ]
  },
  {
   "cell_type": "markdown",
   "metadata": {},
   "source": [
    "__Write a function `steady_state(p::Calibration)::Tuple{Vector,Vector,Vector}` which computes the steady-state of the model computed by hand.__ It returns three vectors, one for the states, one for the controls, one for the shocks. Check that the steady-state satisfies the model equations.\n"
   ]
  },
  {
   "cell_type": "code",
   "execution_count": 17,
   "metadata": {},
   "outputs": [
    {
     "data": {
      "text/plain": [
       "steady_state (generic function with 1 method)"
      ]
     },
     "metadata": {},
     "output_type": "display_data"
    }
   ],
   "source": [
    "function steady_state(p)\n",
    "\n",
    "    # ....\n",
    "\n",
    "    return s, x, e\n",
    "end"
   ]
  },
  {
   "cell_type": "code",
   "execution_count": 18,
   "metadata": {},
   "outputs": [
    {
     "data": {
      "text/plain": [
       "([0.0, 2.920822149964071], [0.29208221499640713], [0.0])"
      ]
     },
     "metadata": {},
     "output_type": "display_data"
    }
   ],
   "source": [
    "s, x, e = steady_state(p0)"
   ]
  },
  {
   "cell_type": "code",
   "execution_count": null,
   "metadata": {},
   "outputs": [],
   "source": [
    "arbitrage(s,x,s,x,p)"
   ]
  },
  {
   "cell_type": "code",
   "execution_count": null,
   "metadata": {},
   "outputs": [],
   "source": [
    "s - transition(s,x,e,p)"
   ]
  },
  {
   "cell_type": "markdown",
   "metadata": {},
   "source": [
    "The first order system satisfies:\n",
    "$$\\begin{align}A s_t + B x_t + C s_{t+1} + D x_{t+1} & = & 0 \\\\\\\\ \n",
    "s_{t+1} & = & E s_t + F x_t + Q ϵ_t\n",
    " \\end{align}$$\n",
    "\n",
    "__Define a structure `PerturbedModel` to hold matrices A,B,C,D,E,F.__\n",
    "\n"
   ]
  },
  {
   "cell_type": "code",
   "execution_count": null,
   "metadata": {},
   "outputs": [],
   "source": [
    "struct PerturbedModel\n",
    "    s::Vector{Float64}\n",
    "    x::Vector{Float64}\n",
    "    A::Matrix{Float64}\n",
    "    B::Matrix{Float64}\n",
    "    C::Matrix{Float64}\n",
    "    D::Matrix{Float64}\n",
    "    E::Matrix{Float64}\n",
    "    F::Matrix{Float64}\n",
    "    Q::Matrix{Float64}\n",
    "end"
   ]
  },
  {
   "cell_type": "markdown",
   "metadata": {},
   "source": [
    "__Write a function `perturb(s::Vector, x::Vector, p::Calibration)::PerturbedModel`, which returns the first order model, given the steady-state and the calibration. Suggestion: use `ForwardDiff.jl` library.__"
   ]
  },
  {
   "cell_type": "code",
   "execution_count": 18,
   "metadata": {},
   "outputs": [],
   "source": [
    "using ForwardDiff: jacobian"
   ]
  },
  {
   "cell_type": "code",
   "execution_count": 20,
   "metadata": {},
   "outputs": [
    {
     "data": {
      "text/plain": [
       "2×1 Matrix{Float64}:\n",
       " 0.0\n",
       " 1.0"
      ]
     },
     "metadata": {},
     "output_type": "display_data"
    }
   ],
   "source": [
    "A = jacobian( u->arbitrage(u, x, s, x, p0), s )\n",
    "B = jacobian( u->arbitrage(s, u, s, x, p0), x )\n",
    "C = jacobian( u->arbitrage(s, x, u, x, p0), s )\n",
    "D = jacobian( u->arbitrage(s, x, s, u, p0), x )\n",
    "E = jacobian( u->transition(u, x, e, p0), s )\n",
    "F = jacobian( u->transition(s, u, e, p0), x )\n",
    "Q = jacobian( u->transition(s, x, u, p0), e )"
   ]
  },
  {
   "cell_type": "code",
   "execution_count": 22,
   "metadata": {},
   "outputs": [
    {
     "data": {
      "text/plain": [
       "PerturbedModel"
      ]
     },
     "metadata": {},
     "output_type": "display_data"
    }
   ],
   "source": [
    "function PerturbedModel(p0)\n",
    "    \n",
    "    # s, x = steady_state(p0)\n",
    "    # A = jacobian( u->arbitrage(u, x, s, x, p0), s )\n",
    "    # B = jacobian( u->arbitrage(s, u, s, x, p0), x )\n",
    "    # C = jacobian( u->arbitrage(s, x, u, x, p0), s )\n",
    "    # D = jacobian( u->arbitrage(s, x, s, u, p0), x )\n",
    "    # E = jacobian( u->transition(u, x, e, p0), s )\n",
    "    # F = jacobian( u->transition(s, u, e, p0), x )\n",
    "    # Q = jacobian( u->transition(s, x, u, p0), e )\n",
    "\n",
    "    return PerturbedModel(\n",
    "\n",
    "        s,x,A,B,C,D,E,F,Q\n",
    "    )\n",
    "\n",
    "end"
   ]
  },
  {
   "cell_type": "code",
   "execution_count": 25,
   "metadata": {},
   "outputs": [
    {
     "name": "stdout",
     "output_type": "stream",
     "text": [
      "  0.000067 seconds (50 allocations: 3.234 KiB)\n"
     ]
    },
    {
     "data": {
      "text/plain": [
       "PerturbedModel([0.0, 2.920822149964071], [0.29208221499640713], [5.074626865671642 0.5212190203776081], [-3.679193085018409;;], [-4.938626865671642 -0.5538125831185546], [3.679193085018409;;], [0.9 0.0; 0.0 0.9], [0.0; 1.0;;])"
      ]
     },
     "metadata": {},
     "output_type": "display_data"
    }
   ],
   "source": [
    "@time m = PerturbedModel(p0)"
   ]
  },
  {
   "cell_type": "markdown",
   "metadata": {},
   "source": [
    "__We look for a linear solution $x_t = X s_t$ . Write the matrix equation which `X` must satisfy. Write a function `residual(X::Array, M::PerturbedModel)` which computes the residual of this equation for a given `X`.__\n"
   ]
  },
  {
   "cell_type": "code",
   "execution_count": 31,
   "metadata": {},
   "outputs": [
    {
     "data": {
      "text/plain": [
       "residual (generic function with 1 method)"
      ]
     },
     "metadata": {},
     "output_type": "display_data"
    }
   ],
   "source": [
    "function residual(X::Matrix{Float64}, M::PerturbedModel)\n",
    "    Y = X\n",
    "    A = M.A\n",
    "    B = M.B\n",
    "    C = M.C\n",
    "    D = M.D\n",
    "    E = M.E\n",
    "    F = M.F\n",
    "    R = A + B*X+C*(E+F*X) + D*Y*(E+F*X)\n",
    "    return R\n",
    "end"
   ]
  },
  {
   "cell_type": "code",
   "execution_count": 19,
   "metadata": {},
   "outputs": [
    {
     "data": {
      "text/plain": [
       "2×2 Matrix{Float64}:\n",
       " 0.1   -0.1\n",
       " 0.14   0.01"
      ]
     },
     "metadata": {},
     "output_type": "display_data"
    }
   ],
   "source": [
    "X0 = [0.1 -0.1; 0.14 0.01]"
   ]
  },
  {
   "cell_type": "code",
   "execution_count": null,
   "metadata": {},
   "outputs": [],
   "source": [
    "residual(X0, m)"
   ]
  },
  {
   "cell_type": "markdown",
   "metadata": {},
   "source": [
    "__Write a function `T(X, M::PerturbedModel)`  which implements the time iteration step.__"
   ]
  },
  {
   "cell_type": "code",
   "execution_count": 36,
   "metadata": {},
   "outputs": [
    {
     "data": {
      "text/plain": [
       "T (generic function with 1 method)"
      ]
     },
     "metadata": {},
     "output_type": "display_data"
    }
   ],
   "source": [
    "function T(Y, M::PerturbedModel)\n",
    "\n",
    "end"
   ]
  },
  {
   "cell_type": "markdown",
   "metadata": {},
   "source": [
    "__Write function `linear_time_iteration(X_0::Matrix, m::PerturbedModel; maxit=1000, ϵ=1e-8, η=1e-9)::Matrix` which implements the time iteration algorithm. Apply it to `X0 = rand(2,2)` and check that the result satisfies the first order model.__\n",
    "\n",
    "    "
   ]
  },
  {
   "cell_type": "code",
   "execution_count": 20,
   "metadata": {},
   "outputs": [
    {
     "data": {
      "text/plain": [
       "linear_time_iteration (generic function with 1 method)"
      ]
     },
     "metadata": {},
     "output_type": "display_data"
    }
   ],
   "source": [
    "function linear_time_iteration(X_0, m; maxit=1000)\n",
    "    for k=1:K\n",
    "        X_1 = T(X_0, m)\n",
    "    end\n",
    "end"
   ]
  },
  {
   "cell_type": "markdown",
   "metadata": {},
   "source": [
    "__Define two linear operators `L_S(S::Matrix, X_0::Matrix, m::PerturbedModel)::Matrix` and `L_T(S::Matrix, X_0::Matrix, m::PerturbedModel)::Matrix` which implement the derivatives of the simulation and the time-iteration operator respectively.__"
   ]
  },
  {
   "cell_type": "code",
   "execution_count": 67,
   "metadata": {},
   "outputs": [
    {
     "data": {
      "text/plain": [
       "L_T (generic function with 2 methods)"
      ]
     },
     "metadata": {},
     "output_type": "display_data"
    }
   ],
   "source": [
    "L_S(ΔS,X,m) = (m.E + m.F*X)*ΔS\n",
    "\n",
    "function L_T(ΔY, X,Y, m) \n",
    "    - (B+(C+D*Y)*F)\\(D*ΔY*(E+F*X))\n",
    "end\n"
   ]
  },
  {
   "cell_type": "code",
   "execution_count": 79,
   "metadata": {},
   "outputs": [
    {
     "data": {
      "text/plain": [
       "1×2 Matrix{Float64}:\n",
       " 0.0  0.0"
      ]
     },
     "metadata": {},
     "output_type": "display_data"
    }
   ],
   "source": [
    "L_T(2*X, X, X,m) - 2*L_T(X, X, X,m)   # check linearity"
   ]
  },
  {
   "cell_type": "markdown",
   "metadata": {},
   "source": [
    "__Implement a function `spectral_radius(f::Function)::Float64` which implements the power iteration method to compute the biggest eigenvalues of the two previously defined operators. Check that Blanchard-Kahn conditions are met.__"
   ]
  },
  {
   "cell_type": "code",
   "execution_count": 73,
   "metadata": {},
   "outputs": [
    {
     "data": {
      "text/plain": [
       "norm (generic function with 1 method)"
      ]
     },
     "metadata": {},
     "output_type": "display_data"
    }
   ],
   "source": [
    "norm(x) = maximum(abs, x)"
   ]
  },
  {
   "cell_type": "code",
   "execution_count": 87,
   "metadata": {},
   "outputs": [
    {
     "data": {
      "text/plain": [
       "spectral_radius (generic function with 1 method)"
      ]
     },
     "metadata": {},
     "output_type": "display_data"
    }
   ],
   "source": [
    "function spectral_radius(f, X0; maxit=100)\n",
    "\n",
    "    ## assumes f is linear\n",
    "\n",
    "    x0 = rand(size(X0)...)\n",
    "    u0 = x0 / norm(x0)\n",
    "    λ = 1.0\n",
    "\n",
    "    for it=1:maxit\n",
    "        x1 = f(u0)\n",
    "        λ = norm(x1)\n",
    "        println(λ)\n",
    "        u0 = x1 / λ\n",
    "    end\n",
    "\n",
    "    return λ\n",
    "\n",
    "end"
   ]
  },
  {
   "cell_type": "code",
   "execution_count": 91,
   "metadata": {},
   "outputs": [
    {
     "name": "stdout",
     "output_type": "stream",
     "text": [
      "1.1610481510375232\n",
      "1.1086072084230212\n",
      "1.0745864500379279\n",
      "1.0507398557507768\n",
      "1.033104215643956\n",
      "1.019538168609045\n",
      "1.0087832500491263\n",
      "1.0000513811834968\n",
      "0.9928238752170649\n",
      "0.9867453900263912\n",
      "0.9815643198479171\n",
      "0.9770975144112072\n",
      "0.9732084799205365\n",
      "0.9697934113175426\n",
      "0.9667719589702287\n",
      "0.964080957685111\n",
      "0.9616700655203997\n",
      "0.9594986666204954\n",
      "0.9575336303511233\n",
      "0.955747662695045\n",
      "0.9541180749901054\n",
      "0.9526258517416164\n",
      "0.9512549360538716\n",
      "0.9499916756302723\n",
      "0.9488243887673399\n",
      "0.9477430210773227\n",
      "0.946738871556617\n",
      "0.9458043721890109\n",
      "0.9449329092627238\n",
      "0.9441186774720756\n",
      "0.9433565599942138\n",
      "0.9426420293011821\n",
      "0.9419710646417353\n",
      "0.9413400830135007\n",
      "0.9407458811207333\n",
      "0.9401855863306711\n",
      "0.9396566150418812\n",
      "0.9391566371898438\n",
      "0.9386835458595643\n",
      "0.9382354311680174\n",
      "0.9378105577324763\n",
      "0.9374073451631894\n",
      "0.9370243511171602\n",
      "0.9366602565291412\n",
      "0.9363138527003336\n",
      "0.9359840299777712\n",
      "0.9356697678003446\n",
      "0.9353701259227754\n",
      "0.9350842366580443\n",
      "0.9348112980029917\n",
      "0.9345505675319602\n",
      "0.9343013569601865\n",
      "0.9340630272927688\n",
      "0.9338349844869114\n",
      "0.93361667556517\n",
      "0.9334075851259138\n",
      "0.9332072322044208\n",
      "0.9330151674441688\n",
      "0.932830970543124\n",
      "0.9326542479443204\n",
      "0.9324846307438813\n",
      "0.9323217727929531\n",
      "0.9321653489728872\n",
      "0.9320150536254823\n",
      "0.9318705991222551\n",
      "0.9317317145585641\n",
      "0.9315981445600494\n",
      "0.9314696481902623\n",
      "0.9313459979496036\n",
      "0.9312269788567764\n",
      "0.9311123876049133\n",
      "0.9310020317853787\n",
      "0.930895729172986\n",
      "0.9307933070670232\n",
      "0.9306946016830568\n",
      "0.9305994575909963\n",
      "0.930507727195355\n",
      "0.9304192702540469\n",
      "0.9303339534324143\n",
      "0.9302516498895061\n",
      "0.9301722388939068\n",
      "0.9300956054666745\n",
      "0.9300216400491735\n",
      "0.9299502381937905\n",
      "0.9298813002757068\n",
      "0.9298147312240679\n",
      "0.9297504402710334\n",
      "0.9296883407173295\n",
      "0.9296283497130434\n",
      "0.9295703880525104\n",
      "0.9295143799822394\n",
      "0.9294602530209156\n",
      "0.9294079377905964\n",
      "0.9293573678582906\n",
      "0.929308479587179\n",
      "0.9292612119967921\n",
      "0.9292155066315185\n",
      "0.929171307436863\n",
      "0.9291285606429255\n",
      "0.9290872146546069\n"
     ]
    },
    {
     "data": {
      "text/plain": [
       "0.9290872146546069"
      ]
     },
     "metadata": {},
     "output_type": "display_data"
    }
   ],
   "source": [
    "spectral_radius(u->L_S(u, X, m), m.s)"
   ]
  },
  {
   "cell_type": "code",
   "execution_count": 97,
   "metadata": {},
   "outputs": [
    {
     "data": {
      "text/plain": [
       "Eigen{Float64, Float64, Matrix{Float64}, Vector{Float64}}\n",
       "values:\n",
       "2-element Vector{Float64}:\n",
       " 0.9\n",
       " 0.9278097265581992\n",
       "vectors:\n",
       "2×2 Matrix{Float64}:\n",
       "  0.0361552  0.0\n",
       " -0.999346   1.0"
      ]
     },
     "metadata": {},
     "output_type": "display_data"
    }
   ],
   "source": [
    "# check the result against LinearAlgebra: eigen"
   ]
  },
  {
   "cell_type": "code",
   "execution_count": 88,
   "metadata": {},
   "outputs": [
    {
     "name": "stdout",
     "output_type": "stream",
     "text": [
      "1.22568251832885\n",
      "1.0875401310195292\n",
      "1.0188861995073961\n",
      "0.9778415851174042\n",
      "0.9505503157337445\n",
      "0.931099318948722\n",
      "0.9165402875827734\n",
      "0.90523851270917\n",
      "0.8962146223685403\n",
      "0.8888460984052489\n",
      "0.8827183116529246\n",
      "0.8775444277891336\n",
      "0.8731196938021573\n",
      "0.8692940369899395\n",
      "0.8659549536203057\n",
      "0.8630164447897879\n",
      "0.8604116448870422\n",
      "0.858087780635252\n",
      "0.8560026441039023\n",
      "0.8541220744990936\n",
      "0.8524181274329848\n",
      "0.8508677222373058\n",
      "0.8494516277622413\n",
      "0.8481536918004834\n",
      "0.8469602484889611\n",
      "0.8458596575078802\n",
      "0.844841942101573\n",
      "0.8438985020493184\n",
      "0.8430218840848323\n",
      "0.8422055967828365\n",
      "0.8414439601787578\n",
      "0.8407319827489524\n",
      "0.840065260114708\n",
      "0.8394398911224966\n",
      "0.8388524079196674\n",
      "0.8382997173761858\n",
      "0.8377790517611281\n",
      "0.8372879270118609\n",
      "0.8368241072664376\n",
      "0.8363855745892895\n",
      "0.8359705030241966\n",
      "0.8355772362697191\n",
      "0.8352042684004926\n",
      "0.834850227160337\n",
      "0.834513859435622\n",
      "0.8341940185840038\n",
      "0.8338896533478273\n",
      "0.8335997981256987\n",
      "0.8333235644119937\n",
      "0.8330601332439176\n",
      "0.8328087485204202\n",
      "0.8325687110777595\n",
      "0.8323393734235806\n",
      "0.8321201350456605\n",
      "0.8319104382234501\n",
      "0.8317097642806335\n",
      "0.8315176302254556\n",
      "0.8313335857327858\n",
      "0.83115721042803\n",
      "0.8309881114382336\n",
      "0.8308259211801933\n",
      "0.8306702953592304\n",
      "0.8305209111555711\n",
      "0.8303774655781179\n",
      "0.8302396739678517\n",
      "0.830107268635219\n",
      "0.8299799976177061\n",
      "0.8298576235453995\n",
      "0.829739922603727\n",
      "0.8296266835837927\n",
      "0.8295177070117853\n",
      "0.8294128043498719\n",
      "0.8293117972618103\n",
      "0.8292145169372366\n",
      "0.8291208034692211\n",
      "0.829030505280244\n",
      "0.8289434785922458\n",
      "0.8288595869368428\n",
      "0.8287787007021921\n",
      "0.8287006967133359\n",
      "0.828625457843167\n",
      "0.8285528726514292\n",
      "0.8284828350494173\n",
      "0.828415243988259\n",
      "0.8283500031688565\n",
      "0.8282870207717463\n",
      "0.8282262092052913\n",
      "0.8281674848707641\n",
      "0.8281107679430052\n",
      "0.8280559821654602\n",
      "0.8280030546585002\n",
      "0.827951915740028\n",
      "0.8279024987574519\n",
      "0.8278547399301928\n",
      "0.8278085782019555\n",
      "0.8277639551020608\n",
      "0.8277208146151901\n",
      "0.8276791030589511\n",
      "0.8276387689687142\n",
      "0.8275997629892197\n"
     ]
    },
    {
     "data": {
      "text/plain": [
       "0.8275997629892197"
      ]
     },
     "metadata": {},
     "output_type": "display_data"
    }
   ],
   "source": [
    "spectral_radius(u->L_T(u, X, X, m), X)"
   ]
  },
  {
   "cell_type": "code",
   "execution_count": null,
   "metadata": {},
   "outputs": [],
   "source": [
    "# check the result against LinearAlgebra: eigen (hint: use LinearMaps)"
   ]
  },
  {
   "cell_type": "markdown",
   "metadata": {},
   "source": [
    "__Write a function `simulate(s0::Vector, X::Matrix, p::Calibration, T::Int64)::Tuple{Matrix, Matrix}` to simulate the model over $T$ periods (by using the formula $\\Delta s_t = (E + F X) s_{t-1} + ϵ_t$. Return a matrix for the states (one line per date) and another matrix for the controls. Bonus: add a keyword option to compute variables levels or log-deviations. If possible, return a DataFrame object.__"
   ]
  },
  {
   "cell_type": "code",
   "execution_count": null,
   "metadata": {},
   "outputs": [],
   "source": []
  },
  {
   "cell_type": "markdown",
   "metadata": {},
   "source": [
    "__Make some nice plots (using *Plots.jl*).__"
   ]
  },
  {
   "cell_type": "code",
   "execution_count": null,
   "metadata": {},
   "outputs": [],
   "source": []
  },
  {
   "cell_type": "markdown",
   "metadata": {},
   "source": [
    "__Bonus: compute the covariance of the ergodic distribution, using Monte-Carlo simulations. Optimize over\n",
    "speed and memory consumption. (Check with @time or @benchmark)__"
   ]
  },
  {
   "cell_type": "markdown",
   "metadata": {},
   "source": []
  }
 ],
 "metadata": {
  "kernelspec": {
   "display_name": "Julia 1.8.1",
   "language": "julia",
   "name": "julia-1.8"
  },
  "language_info": {
   "file_extension": ".jl",
   "mimetype": "application/julia",
   "name": "julia",
   "version": "1.8.1"
  },
  "vscode": {
   "interpreter": {
    "hash": "e7370f93d1d0cde622a1f8e1c04877d8463912d04d973331ad4851f04de6915a"
   }
  }
 },
 "nbformat": 4,
 "nbformat_minor": 4
}
