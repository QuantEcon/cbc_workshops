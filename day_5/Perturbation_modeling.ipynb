{
 "cells": [
  {
   "cell_type": "markdown",
   "metadata": {},
   "source": [
    "# Perturbation with Dynare-like syntax\n",
    "\n",
    "Consider the following way to define a model.\n",
    "\n",
    "- improve model printing\n",
    "- change model definition so that it represents rbc rather than neoclassical\n",
    "- study source code of minidyn.jl\n",
    "    - model structure\n",
    "    - static arrays\n",
    "    - macro\n",
    "- add solution method\n",
    "    \n",
    "\n",
    "\n"
   ]
  },
  {
   "cell_type": "code",
   "execution_count": 14,
   "metadata": {},
   "outputs": [
    {
     "data": {
      "text/plain": [
       "steady_state (generic function with 1 method)"
      ]
     },
     "metadata": {},
     "output_type": "display_data"
    }
   ],
   "source": [
    "include(\"minidyn.jl\")"
   ]
  },
  {
   "cell_type": "code",
   "execution_count": 9,
   "metadata": {},
   "outputs": [
    {
     "data": {
      "text/plain": [
       "PModel{(:k, :z), (:i, :c), (:e,), (:α, :β, :γ, :δ), 2, 2, 1, 4}(2-element SLArray{Tuple{2}, Float64, 1, 2, (:k, :z)} with indices SOneTo(2):\n",
       " :k => 2.920822149964071\n",
       " :z => 0.0, 2-element SLArray{Tuple{2}, Float64, 1, 2, (:i, :c)} with indices SOneTo(2):\n",
       " :i => 0.29208221499640713\n",
       " :c => 1.087194911375516, 1-element SLArray{Tuple{1}, Float64, 1, 1, (:e,)} with indices SOneTo(1):\n",
       " :e => 0.0, 4-element SLArray{Tuple{4}, Float64, 1, 4, (:α, :β, :γ, :δ)} with indices SOneTo(4):\n",
       " :α => 0.3\n",
       " :β => 0.96\n",
       " :γ => 4.0\n",
       " :δ => 0.1)"
      ]
     },
     "metadata": {},
     "output_type": "display_data"
    }
   ],
   "source": [
    "model = let  \n",
    "\n",
    "    α = 0.3\n",
    "    β = 0.96\n",
    "    γ = 4.0\n",
    "    δ = 0.1\n",
    "    \n",
    "    k = ((1/β-(1-δ))/α)^(1/(α-1))\n",
    "    z = 0.0\n",
    "\n",
    "    i = δ*k\n",
    "\n",
    "    y = k^α\n",
    "    c = y-i\n",
    "    e = 0.0\n",
    "\n",
    "    s = SLVector( (;k,z) )\n",
    "    x = SLVector( (;i,c) )\n",
    "    e = SLVector( (;e,) )\n",
    "    p = SLVector( (;α, β, γ, δ) )\n",
    "\n",
    "    PModel(s,x,e,p)\n",
    "\n",
    "end"
   ]
  },
  {
   "cell_type": "code",
   "execution_count": 10,
   "metadata": {},
   "outputs": [
    {
     "data": {
      "text/plain": [
       "transition (generic function with 3 methods)"
      ]
     },
     "metadata": {},
     "output_type": "display_data"
    }
   ],
   "source": [
    "@dyneq function transition(model)\n",
    "\n",
    "    k[t] = k[t-1]*(1-δ) + i[t-1]\n",
    "    z[t] = 0.7* z[t-1]\n",
    "\n",
    "end"
   ]
  },
  {
   "cell_type": "code",
   "execution_count": 11,
   "metadata": {},
   "outputs": [
    {
     "data": {
      "text/plain": [
       "arbitrage (generic function with 3 methods)"
      ]
     },
     "metadata": {},
     "output_type": "display_data"
    }
   ],
   "source": [
    "@dyneq function arbitrage(model)\n",
    "\n",
    "    c[t] == exp(z[t])*k[t]^α - i[t]\n",
    "    β*(c[t+1]/c[t])^(-γ)* ( (1-δ) + α*exp(z[t+1])*k[t+1]^(α-1)) == 1\n",
    "\n",
    "end"
   ]
  },
  {
   "cell_type": "code",
   "execution_count": 12,
   "metadata": {},
   "outputs": [
    {
     "data": {
      "text/plain": [
       "(s = 2-element SLArray{Tuple{2}, Float64, 1, 2, (:k, :z)} with indices SOneTo(2):\n",
       " :k => 2.920822149964071\n",
       " :z => 0.0, x = 2-element SLArray{Tuple{2}, Float64, 1, 2, (:i, :c)} with indices SOneTo(2):\n",
       " :i => 0.29208221499640713\n",
       " :c => 1.087194911375516)"
      ]
     },
     "metadata": {},
     "output_type": "display_data"
    }
   ],
   "source": [
    "ss = steady_state(model)"
   ]
  },
  {
   "cell_type": "code",
   "execution_count": 17,
   "metadata": {},
   "outputs": [
    {
     "data": {
      "text/plain": [
       "(A = [0.14166666666666672 1.379277126371923; 0.0 0.0], B = [-1.0 -1.0; -0.0 -3.679193085018409], C = [0.0 0.0; 0.03259356274094644 -0.13600000000000004], D = [0.0 0.0; 0.0 3.679193085018409], E = [0.9 0.0; 0.0 0.7], F = [1.0 0.0; 0.0 0.0], Q = [0.0; 0.0;;])"
      ]
     },
     "metadata": {},
     "output_type": "display_data"
    }
   ],
   "source": [
    "pm = perturb(model)"
   ]
  },
  {
   "cell_type": "code",
   "execution_count": 25,
   "metadata": {},
   "outputs": [],
   "source": [
    "# ....."
   ]
  }
 ],
 "metadata": {
  "kernelspec": {
   "display_name": "Julia 1.8.1",
   "language": "julia",
   "name": "julia-1.8"
  },
  "language_info": {
   "file_extension": ".jl",
   "mimetype": "application/julia",
   "name": "julia",
   "version": "1.8.1"
  },
  "orig_nbformat": 4,
  "vscode": {
   "interpreter": {
    "hash": "9200de9aac83b61d3b4279984fb7816b01be6e0cffecacd756c61f88e252832f"
   }
  }
 },
 "nbformat": 4,
 "nbformat_minor": 2
}
