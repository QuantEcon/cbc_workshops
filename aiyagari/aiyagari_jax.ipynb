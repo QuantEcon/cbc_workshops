{
 "cells": [
  {
   "cell_type": "markdown",
   "id": "b205a26b",
   "metadata": {},
   "source": [
    "# The Aiyagari Model"
   ]
  },
  {
   "cell_type": "code",
   "execution_count": 49,
   "id": "46444d67",
   "metadata": {
    "incorrectly_encoded_metadata": "hide-output=false"
   },
   "outputs": [],
   "source": [
    "#!pip install --upgrade quantecon  #  Uncomment if necessary"
   ]
  },
  {
   "cell_type": "markdown",
   "id": "67cab042",
   "metadata": {},
   "source": [
    "We use the following imports"
   ]
  },
  {
   "cell_type": "code",
   "execution_count": 50,
   "id": "5f04cbeb",
   "metadata": {
    "incorrectly_encoded_metadata": "hide-output=false"
   },
   "outputs": [],
   "source": [
    "import matplotlib.pyplot as plt\n",
    "import numpy as np\n",
    "import quantecon as qe\n",
    "import jax\n",
    "import jax.numpy as jnp"
   ]
  },
  {
   "cell_type": "markdown",
   "id": "0da8a153",
   "metadata": {},
   "source": [
    "We use 64 bit floats with JAX in order to match NumPy/Numba code."
   ]
  },
  {
   "cell_type": "code",
   "execution_count": 51,
   "id": "32f6b2f7",
   "metadata": {},
   "outputs": [],
   "source": [
    "jax.config.update(\"jax_enable_x64\", True)"
   ]
  },
  {
   "cell_type": "markdown",
   "id": "70499004",
   "metadata": {},
   "source": [
    "We will use the following function to compute stationary distributions of stochastic matrices.  (For a reference to the algorithm, see p. 88 of [Economic Dynamics](https://johnstachurski.net/edtc).)"
   ]
  },
  {
   "cell_type": "code",
   "execution_count": 52,
   "id": "a33b72dc",
   "metadata": {},
   "outputs": [],
   "source": [
    "@jax.jit\n",
    "def compute_stationary(P):\n",
    "    \"Compute the stationary distribution of P by matrix inversion.\"\n",
    "    n = len(P)\n",
    "    I = jnp.identity(n)\n",
    "    O = jnp.ones((n, n))\n",
    "    A = I - jnp.transpose(P) + O\n",
    "    return jnp.linalg.solve(A, jnp.ones(n))"
   ]
  },
  {
   "cell_type": "markdown",
   "id": "7cb8283d",
   "metadata": {},
   "source": [
    "## Overview\n",
    "\n",
    "In this lecture, we describe the structure of a class of models that build on work by Truman Bewley [[Bew77](https://python.quantecon.org/zreferences.html#id173)].\n",
    "\n",
    "We begin by discussing an example of a Bewley model due to Rao Aiyagari [[Aiy94](https://python.quantecon.org/zreferences.html#id137)].\n",
    "\n",
    "The model features\n",
    "\n",
    "- Heterogeneous agents  \n",
    "- A single exogenous vehicle for borrowing and lending  \n",
    "- Limits on amounts individual agents may borrow  \n",
    "\n",
    "\n",
    "The Aiyagari model has been used to investigate many topics, including\n",
    "\n",
    "- precautionary savings and the effect of liquidity constraints [[Aiy94](https://python.quantecon.org/zreferences.html#id137)]  \n",
    "- risk sharing and asset pricing [[HL96](https://python.quantecon.org/zreferences.html#id129)]  \n",
    "- the shape of the wealth distribution [[BBZ15](https://python.quantecon.org/zreferences.html#id130)]  \n"
   ]
  },
  {
   "cell_type": "markdown",
   "id": "ce236bad",
   "metadata": {},
   "source": [
    "### References\n",
    "\n",
    "The primary reference for this lecture is [[Aiy94](https://python.quantecon.org/zreferences.html#id137)].\n",
    "\n",
    "A textbook treatment is available in chapter 18 of [[LS18](https://python.quantecon.org/zreferences.html#id182)].\n",
    "\n",
    "A continuous time version of the model by SeHyoun Ahn and Benjamin Moll can be found [here](http://nbviewer.jupyter.org/github/QuantEcon/QuantEcon.notebooks/blob/master/aiyagari_continuous_time.ipynb)."
   ]
  },
  {
   "cell_type": "markdown",
   "id": "056a1294",
   "metadata": {},
   "source": [
    "## Firms\n",
    "\n",
    "Firms produce output by hiring capital and labor.\n",
    "\n",
    "Firms act competitively and face constant returns to scale.\n",
    "\n",
    "Since returns to scale are constant the number of firms does not matter.\n",
    "\n",
    "Hence we can consider a single (but nonetheless competitive) representative firm.\n",
    "\n",
    "The firm’s output is\n",
    "\n",
    "$$\n",
    "Y_t = A K_t^{\\alpha} N^{1 - \\alpha}\n",
    "$$\n",
    "\n",
    "where\n",
    "\n",
    "- $ A $ and $ \\alpha $ are parameters with $ A > 0 $ and $ \\alpha \\in (0, 1) $  \n",
    "- $ K_t $ is aggregate capital  \n",
    "- $ N $ is total labor supply (which is constant in this simple version of the model)  \n",
    "\n",
    "\n",
    "The firm’s problem is\n",
    "\n",
    "$$\n",
    "\\max_{K, N} \\left\\{ A K_t^{\\alpha} N^{1 - \\alpha} - (r + \\delta) K - w N \\right\\}\n",
    "$$\n",
    "\n",
    "The parameter $ \\delta $ is the depreciation rate.\n",
    "\n",
    "From the first-order condition with respect to capital, the firm’s inverse demand for capital is\n",
    "\n",
    "\n",
    "<a id='equation-aiy-rgk'></a>\n",
    "$$\n",
    "r = A \\alpha  \\left( \\frac{N}{K} \\right)^{1 - \\alpha} - \\delta \\tag{70.1}\n",
    "$$\n",
    "\n",
    "Using this expression and the firm’s first-order condition for labor, we can pin down\n",
    "the equilibrium wage rate as a function of $ r $ as\n",
    "\n",
    "\n",
    "<a id='equation-aiy-wgr'></a>\n",
    "$$\n",
    "w(r) = A  (1 - \\alpha)  (A \\alpha / (r + \\delta))^{\\alpha / (1 - \\alpha)} \\tag{70.2}\n",
    "$$"
   ]
  },
  {
   "cell_type": "markdown",
   "id": "f631594c",
   "metadata": {},
   "source": [
    "These parameters and equations are stored in the following class."
   ]
  },
  {
   "cell_type": "code",
   "execution_count": 53,
   "id": "ec209518",
   "metadata": {},
   "outputs": [],
   "source": [
    "class Firm:\n",
    "    \n",
    "    def __init__(self, \n",
    "                 A=1.0,\n",
    "                 N=1.0,\n",
    "                 α=0.33,\n",
    "                 β=0.96,\n",
    "                 δ=0.05):\n",
    "        \n",
    "        self.A, self.N, self.α, self.β, self.δ = A, N, α, β, δ\n",
    "\n",
    "    def rd(self, K):\n",
    "        \"\"\"\n",
    "        Inverse demand curve for capital.  The interest rate associated with a\n",
    "        given demand for capital K.\n",
    "        \"\"\"\n",
    "        A, N, α, β, δ = self.A, self.N, self.α, self.β, self.δ\n",
    "        return A * α * (N / K)**(1 - α) - δ\n",
    "    \n",
    "    \n",
    "    def r_to_w(self, r):\n",
    "        \"\"\"\n",
    "        Equilibrium wages associated with a given interest rate r.\n",
    "        \"\"\"\n",
    "        A, N, α, β, δ = self.A, self.N, self.α, self.β, self.δ\n",
    "        return A * (1 - α) * (A * α / (r + δ))**(α / (1 - α))"
   ]
  },
  {
   "cell_type": "markdown",
   "id": "de716fe2",
   "metadata": {},
   "source": [
    "## Households\n",
    "\n",
    "Infinitely lived households / consumers face idiosyncratic income shocks.\n",
    "\n",
    "A unit interval of  *ex-ante* identical households face a common borrowing constraint.\n",
    "\n",
    "The savings problem faced by a typical  household is\n",
    "\n",
    "$$\n",
    "\\max \\mathbb E \\sum_{t=0}^{\\infty} \\beta^t u(c_t)\n",
    "$$\n",
    "\n",
    "subject to\n",
    "\n",
    "$$\n",
    "a_{t+1} + c_t \\leq w z_t + (1 + r) a_t\n",
    "\\quad\n",
    "c_t \\geq 0,\n",
    "\\quad \\text{and} \\quad\n",
    "a_t \\geq -B\n",
    "$$\n",
    "\n",
    "where\n",
    "\n",
    "- $ c_t $ is current consumption  \n",
    "- $ a_t $ is assets  \n",
    "- $ z_t $ is an exogenous component of labor income capturing stochastic unemployment risk, etc.  \n",
    "- $ w $ is a wage rate  \n",
    "- $ r $ is a net interest rate  \n",
    "- $ B $ is the maximum amount that the agent is allowed to borrow  \n",
    "\n",
    "\n",
    "The exogenous process $ \\{z_t\\} $ follows a finite state Markov chain with given stochastic matrix $ P $.\n",
    "\n",
    "\n",
    "In this simple version of the model, households supply labor  inelastically because they do not value leisure.\n",
    "\n",
    "Below we provide code to solve the household problem,taking $r$ and $w$ as fixed."
   ]
  },
  {
   "cell_type": "markdown",
   "id": "feb12589",
   "metadata": {},
   "source": [
    "### Primitives and Operators"
   ]
  },
  {
   "cell_type": "markdown",
   "id": "0228f274",
   "metadata": {},
   "source": [
    "\n",
    "This class stores the parameters that define a household asset \n",
    "accumulation problem and the grids used to solve it."
   ]
  },
  {
   "cell_type": "code",
   "execution_count": 54,
   "id": "aafea72f",
   "metadata": {
    "incorrectly_encoded_metadata": "hide-output=false"
   },
   "outputs": [],
   "source": [
    "class Household:\n",
    "\n",
    "    def __init__(self,\n",
    "                r=0.01,                      # Interest rate\n",
    "                w=1.0,                       # Wages\n",
    "                β=0.96,                      # Discount factor\n",
    "                Π=[[0.9, 0.1], [0.1, 0.9]],  # Markov chain\n",
    "                z_grid=[0.1, 1.0],           # Exogenous states\n",
    "                a_min=1e-10, a_max=20,       # Asset grid\n",
    "                a_size=200):\n",
    "\n",
    "        # Store values, set up grids over a and z\n",
    "        self.r, self.w, self.β = r, w, β\n",
    "        self.a_size = a_size\n",
    "        self.a_grid = jnp.linspace(a_min, a_max, a_size)\n",
    "        z_grid, Π = map(np.array, (z_grid, Π))\n",
    "        self.Π = jax.device_put(Π)\n",
    "        self.z_grid = jax.device_put(z_grid)\n",
    "        self.z_size = len(z_grid)\n",
    "        \n",
    "    def constants(self):\n",
    "        return self.r, self.w, self.β\n",
    "    \n",
    "    def sizes(self):\n",
    "        return self.a_size, self.z_size\n",
    "    \n",
    "    def arrays(self):\n",
    "        return self.a_grid, self.z_grid, self.Π"
   ]
  },
  {
   "cell_type": "markdown",
   "id": "a7542c38",
   "metadata": {},
   "source": [
    "This is the right-hand side of the Bellman equation for the household:"
   ]
  },
  {
   "cell_type": "code",
   "execution_count": 55,
   "id": "e82d1d72",
   "metadata": {},
   "outputs": [],
   "source": [
    "def B(v, constants, sizes, arrays):\n",
    "    \"\"\"\n",
    "    A vectorized version of the right-hand side of the Bellman equation \n",
    "    (before maximization), which is a 3D array representing\n",
    "\n",
    "        B(a, z, a') = u(wz + (1+r)a - a') + β Σ_z' v(a', z') Π(z, z')\n",
    "\n",
    "    for all (a, z, a').\n",
    "    \"\"\"\n",
    "\n",
    "    # Unpack \n",
    "    r, w, β = constants\n",
    "    a_size, z_size = sizes\n",
    "    a_grid, z_grid, Π = arrays\n",
    "\n",
    "    # Compute current consumption as array c[i, j, ip]\n",
    "    a  = jnp.reshape(a_grid, (a_size, 1, 1))    # a[i]   ->  a[i, j, ip]\n",
    "    z  = jnp.reshape(z_grid, (1, z_size, 1))    # z[j]   ->  z[i, j, ip]\n",
    "    ap = jnp.reshape(a_grid, (1, 1, a_size))    # ap[ip] -> ap[i, j, ip]\n",
    "    c = w*z + (1 + r)*a - ap\n",
    "\n",
    "    # Calculate continuation rewards at all combinations of (a, z, ap)\n",
    "    v = jnp.reshape(v, (1, 1, a_size, z_size))  # v[ip, jp] -> v[i, j, ip, jp]\n",
    "    Π = jnp.reshape(Π, (1, z_size, 1, z_size))  # Π[j, jp]  -> Π[i, j, ip, jp]\n",
    "    EV = jnp.sum(v * Π, axis=3)                 # sum over last index jp\n",
    "\n",
    "    # Compute the right-hand side of the Bellman equation\n",
    "    return jnp.where(c > 0, jnp.log(c) + β * EV, -jnp.inf)"
   ]
  },
  {
   "cell_type": "markdown",
   "id": "67ee981b",
   "metadata": {},
   "source": [
    "The next function computes greedy policies."
   ]
  },
  {
   "cell_type": "code",
   "execution_count": 56,
   "id": "980ffb29",
   "metadata": {},
   "outputs": [],
   "source": [
    "def get_greedy(v, constants, sizes, arrays):\n",
    "    \"Computes a v-greedy policy, returned as a set of indices.\"\n",
    "    return jnp.argmax(B(v, constants, sizes, arrays), axis=2)"
   ]
  },
  {
   "cell_type": "markdown",
   "id": "3c1801df",
   "metadata": {},
   "source": [
    "We need to know rewards at a given policy for policy iteration."
   ]
  },
  {
   "cell_type": "code",
   "execution_count": 57,
   "id": "f5852bf4",
   "metadata": {},
   "outputs": [],
   "source": [
    "def compute_r_σ(σ, constants, sizes, arrays):\n",
    "    \"\"\"\n",
    "    Compute the array r_σ[i, j] = r[i, j, σ[i, j]], which gives current\n",
    "    rewards given policy σ.\n",
    "    \"\"\"\n",
    "\n",
    "    # Unpack\n",
    "    r, w, β = constants\n",
    "    a_size, z_size = sizes\n",
    "    a_grid, z_grid, Π = arrays\n",
    "\n",
    "    # Compute r_σ[i, j]\n",
    "    a = jnp.reshape(a_grid, (a_size, 1))\n",
    "    z = jnp.reshape(z_grid, (1, z_size))\n",
    "    ap = a_grid[σ]\n",
    "    c = (1 + r)*a + w*z - ap\n",
    "    r_σ = jnp.log(c)\n",
    "\n",
    "    return r_σ"
   ]
  },
  {
   "cell_type": "markdown",
   "id": "9779acee",
   "metadata": {},
   "source": [
    "The following linear operator is also needed for policy iteration."
   ]
  },
  {
   "cell_type": "code",
   "execution_count": 58,
   "id": "ee6f3c05",
   "metadata": {},
   "outputs": [],
   "source": [
    "def R_σ(v, σ, constants, sizes, arrays):\n",
    "    \"\"\"\n",
    "    The value v_σ of a policy σ is defined as \n",
    "\n",
    "        v_σ = (I - β P_σ)^{-1} r_σ\n",
    "\n",
    "    Here we set up the linear map v -> R_σ v, where R_σ := I - β P_σ. \n",
    "\n",
    "    In the consumption problem, this map can be expressed as\n",
    "\n",
    "        (R_σ v)(a, z) = v(a, z) - β Σ_z' v(σ(a, z), z') Π(z, z')\n",
    "\n",
    "    Defining the map as above works in a more intuitive multi-index setting\n",
    "    (e.g. working with v[i, j] rather than flattening v to a one-dimensional\n",
    "    array) and avoids instantiating the large matrix P_σ.\n",
    "\n",
    "    \"\"\"\n",
    "    # Unpack\n",
    "    r, w, β = constants\n",
    "    a_size, z_size = sizes\n",
    "    a_grid, z_grid, Π = arrays\n",
    "\n",
    "    # Set up the array v[σ[i, j], jp]\n",
    "    zp_idx = jnp.arange(z_size)\n",
    "    zp_idx = jnp.reshape(zp_idx, (1, 1, z_size))\n",
    "    σ = jnp.reshape(σ, (a_size, z_size, 1))\n",
    "    V = v[σ, zp_idx]\n",
    "\n",
    "    # Expand Π[j, jp] to Π[i, j, jp]\n",
    "    Π = jnp.reshape(Π, (1, z_size, z_size))\n",
    "\n",
    "    # Compute and return v[i, j] - β Σ_jp v[σ[i, j], jp] * Π[j, jp]\n",
    "    return v - β * jnp.sum(V * Π, axis=2)"
   ]
  },
  {
   "cell_type": "markdown",
   "id": "d47f25b0",
   "metadata": {},
   "source": [
    "The next function computes the lifetime value of a given policy."
   ]
  },
  {
   "cell_type": "code",
   "execution_count": 59,
   "id": "d9ce4bf5",
   "metadata": {},
   "outputs": [],
   "source": [
    "def get_value(σ, constants, sizes, arrays):\n",
    "    \"Get the value v_σ of policy σ by inverting the linear map R_σ.\"\n",
    "\n",
    "    r_σ = compute_r_σ(σ, constants, sizes, arrays)\n",
    "    # Reduce R_σ to a function in v\n",
    "    partial_R_σ = lambda v: R_σ(v, σ, constants, sizes, arrays)\n",
    "    # Compute inverse v_σ = (I - β P_σ)^{-1} r_σ\n",
    "    return jax.scipy.sparse.linalg.bicgstab(partial_R_σ, r_σ)[0]"
   ]
  },
  {
   "cell_type": "markdown",
   "id": "5a53ac60",
   "metadata": {},
   "source": [
    "Let's target these functions for JIT-compilation."
   ]
  },
  {
   "cell_type": "code",
   "execution_count": 60,
   "id": "63fedaa0",
   "metadata": {},
   "outputs": [],
   "source": [
    "B = jax.jit(B, static_argnums=(2,))\n",
    "compute_r_σ = jax.jit(compute_r_σ, static_argnums=(2,))\n",
    "get_greedy = jax.jit(get_greedy, static_argnums=(2,))\n",
    "get_value = jax.jit(get_value, static_argnums=(2,))\n",
    "R_σ = jax.jit(R_σ, static_argnums=(3,))"
   ]
  },
  {
   "cell_type": "markdown",
   "id": "82f0c26b",
   "metadata": {},
   "source": [
    "## Solvers\n",
    "\n",
    "We will solve the household problem using Howard policy iteration."
   ]
  },
  {
   "cell_type": "code",
   "execution_count": 61,
   "id": "24ec7591",
   "metadata": {},
   "outputs": [],
   "source": [
    "def policy_iteration(household, verbose=True):\n",
    "    \"Howard policy iteration routine.\"\n",
    "    constants = household.constants()\n",
    "    sizes = household.sizes()\n",
    "    arrays = household.arrays()\n",
    "    \n",
    "    vz = jnp.zeros(sizes)\n",
    "    σ = jnp.zeros(sizes, dtype=int)\n",
    "    i, error = 0, 1.0\n",
    "    while error > 0:\n",
    "        v_σ = get_value(σ, constants, sizes, arrays)\n",
    "        σ_new = get_greedy(v_σ, constants, sizes, arrays)\n",
    "        error = jnp.max(jnp.abs(σ_new - σ))\n",
    "        σ = σ_new\n",
    "        i = i + 1\n",
    "        if verbose:\n",
    "            print(f\"Concluded loop {i} with error {error}.\")\n",
    "    return σ"
   ]
  },
  {
   "cell_type": "markdown",
   "id": "32c0fa14",
   "metadata": {},
   "source": [
    "As a first example of what we can do, let’s compute and plot an optimal accumulation policy at fixed prices."
   ]
  },
  {
   "cell_type": "code",
   "execution_count": 62,
   "id": "880d56db",
   "metadata": {
    "incorrectly_encoded_metadata": "hide-output=false"
   },
   "outputs": [],
   "source": [
    "# Example prices\n",
    "r = 0.03\n",
    "w = 0.956\n",
    "\n",
    "# Create an instance of Household\n",
    "household = Household(r=r, w=w)"
   ]
  },
  {
   "cell_type": "code",
   "execution_count": 63,
   "id": "718da8af",
   "metadata": {},
   "outputs": [
    {
     "name": "stdout",
     "output_type": "stream",
     "text": [
      "Concluded loop 1 with error 101.\n",
      "Concluded loop 2 with error 76.\n",
      "Concluded loop 3 with error 36.\n",
      "Concluded loop 4 with error 17.\n",
      "Concluded loop 5 with error 12.\n",
      "Concluded loop 6 with error 6.\n",
      "Concluded loop 7 with error 3.\n",
      "Concluded loop 8 with error 2.\n",
      "Concluded loop 9 with error 1.\n",
      "Concluded loop 10 with error 1.\n",
      "Concluded loop 11 with error 1.\n",
      "Concluded loop 12 with error 1.\n",
      "Concluded loop 13 with error 1.\n",
      "Concluded loop 14 with error 1.\n",
      "Concluded loop 15 with error 0.\n"
     ]
    }
   ],
   "source": [
    "σ_star = policy_iteration(household)"
   ]
  },
  {
   "cell_type": "markdown",
   "id": "077dcf0d",
   "metadata": {},
   "source": [
    "The next plot shows asset accumulation policies at different values of the exogenous state."
   ]
  },
  {
   "cell_type": "code",
   "execution_count": 64,
   "id": "63942264",
   "metadata": {
    "incorrectly_encoded_metadata": "hide-output=false"
   },
   "outputs": [
    {
     "data": {
      "image/png": "[encoded data removed]",
      "text/plain": [
       "<Figure size 648x648 with 1 Axes>"
      ]
     },
     "metadata": {
      "needs_background": "light"
     },
     "output_type": "display_data"
    }
   ],
   "source": [
    "a_size, z_size = household.sizes()\n",
    "a_grid, z_grid, Π = household.arrays()\n",
    "\n",
    "fig, ax = plt.subplots(figsize=(9, 9))\n",
    "ax.plot(a_grid, a_grid, 'k--')  # 45 degrees\n",
    "for j in range(z_size):\n",
    "    lb = f'$z = {z_grid[j]:.2}$'\n",
    "    ax.plot(a_grid, a_grid[σ_star[:, j]], lw=2, alpha=0.6, label=lb)\n",
    "    ax.set_xlabel('current assets')\n",
    "    ax.set_ylabel('next period assets')\n",
    "ax.legend(loc='upper left')\n",
    "\n",
    "plt.show()"
   ]
  },
  {
   "cell_type": "markdown",
   "id": "07f90445",
   "metadata": {},
   "source": [
    "### Capital Supply\n",
    "\n",
    "To start thinking about equilibrium, we need to know how much capital households supply at a given interest rate $r$.\n",
    "\n",
    "This quantity can be calculated by taking the stationary distribution of assets under the optimal policy and computing the mean.\n",
    "\n",
    "The next function implements this calculation for a given policy $\\sigma$."
   ]
  },
  {
   "cell_type": "code",
   "execution_count": 65,
   "id": "037b3e6b",
   "metadata": {},
   "outputs": [],
   "source": [
    "def compute_asset_stationary(σ, constants, sizes, arrays):\n",
    "    \"\"\"\n",
    "    Compute the stationary distribution of assets under the policy σ.\n",
    "    \n",
    "    First we compute the stationary distribution of P_σ, which is for the \n",
    "    bivariate Markov chain of the state (a_t, z_t).  Then we sum out\n",
    "    z_t to get the marginal distribution for a_t.\n",
    "    \n",
    "    \"\"\"\n",
    "    \n",
    "    # Unpack\n",
    "    r, w, β = constants\n",
    "    a_size, z_size = sizes\n",
    "    a_grid, z_grid, Π = arrays\n",
    "    \n",
    "    # Construct P_σ as an array of the form P_σ[i, j, ip, jp]\n",
    "    ap_idx = jnp.arange(a_size)\n",
    "    ap_idx = jnp.reshape(ap_idx, (1, 1, a_size, 1))\n",
    "    σ = jnp.reshape(σ, (a_size, z_size, 1, 1))\n",
    "    A = jnp.where(σ == ap_idx, 1, 0)\n",
    "    Π = jnp.reshape(Π, (1, z_size, 1, z_size))\n",
    "    P_σ = A * Π\n",
    "    \n",
    "    # Reshape P_σ into a matrix\n",
    "    n = a_size * z_size\n",
    "    P_σ = jnp.reshape(P_σ, (n, n))\n",
    "    \n",
    "    # Get stationary distribution and reshape onto [i, j] grid\n",
    "    ψ = compute_stationary(P_σ)\n",
    "    ψ = jnp.reshape(ψ, (a_size, z_size))\n",
    "    \n",
    "    # Sum along the rows to get the marginal distribution of assets\n",
    "    ψ_a = jnp.sum(ψ, axis=1)\n",
    "    return ψ_a"
   ]
  },
  {
   "cell_type": "markdown",
   "id": "467965cb",
   "metadata": {},
   "source": [
    "We will also target this function for JIT compilation."
   ]
  },
  {
   "cell_type": "code",
   "execution_count": 66,
   "id": "d208ec9a",
   "metadata": {},
   "outputs": [],
   "source": [
    "compute_asset_stationary = jax.jit(compute_asset_stationary, \n",
    "                                  static_argnums=(2,))"
   ]
  },
  {
   "cell_type": "markdown",
   "id": "2b2e921e",
   "metadata": {},
   "source": [
    "Let's give this a test run."
   ]
  },
  {
   "cell_type": "code",
   "execution_count": 67,
   "id": "336ffaeb",
   "metadata": {},
   "outputs": [],
   "source": [
    "constants = household.constants()\n",
    "sizes = household.sizes()\n",
    "arrays = household.arrays()\n",
    "ψ = compute_asset_stationary(σ_star, constants, sizes, arrays)"
   ]
  },
  {
   "cell_type": "markdown",
   "id": "7ffddabf",
   "metadata": {},
   "source": [
    "The distribution should sum to one:"
   ]
  },
  {
   "cell_type": "code",
   "execution_count": 68,
   "id": "ef0e2c95",
   "metadata": {},
   "outputs": [
    {
     "data": {
      "text/plain": [
       "DeviceArray(1., dtype=float64)"
      ]
     },
     "execution_count": 68,
     "metadata": {},
     "output_type": "execute_result"
    }
   ],
   "source": [
    "ψ.sum()"
   ]
  },
  {
   "cell_type": "markdown",
   "id": "19e8915a",
   "metadata": {},
   "source": [
    "Now we are ready to compute capital supply by households given wages and interest rates.\n",
    "\n"
   ]
  },
  {
   "cell_type": "code",
   "execution_count": 69,
   "id": "5ad39472",
   "metadata": {
    "incorrectly_encoded_metadata": "hide-output=false"
   },
   "outputs": [],
   "source": [
    "def capital_supply(household):\n",
    "    \"\"\"\n",
    "    Map household decisions to the induced level of capital stock.\n",
    "    \"\"\"\n",
    "    constants = household.constants()\n",
    "    sizes = household.sizes()\n",
    "    arrays = household.arrays()\n",
    "    \n",
    "    # Compute the optimal policy\n",
    "    σ_star = policy_iteration(household, verbose=False)\n",
    "    # Compute the stationary distribution\n",
    "    ψ_a = compute_asset_stationary(σ_star, constants, sizes, arrays)\n",
    "    # Return K\n",
    "    return float(jnp.sum(ψ_a * household.a_grid))"
   ]
  },
  {
   "cell_type": "markdown",
   "id": "753a857a",
   "metadata": {},
   "source": [
    "## Equilibrium\n",
    "\n",
    "We construct  a *stationary rational expectations equilibrium* (SREE).\n",
    "\n",
    "In such an equilibrium\n",
    "\n",
    "- prices induce behavior that generates aggregate quantities consistent with the prices  \n",
    "- aggregate quantities and prices are constant over time  \n",
    "\n",
    "\n",
    "In more detail, an SREE lists a set of prices, savings and production policies such that\n",
    "\n",
    "- households want to choose the specified savings policies taking the prices as given  \n",
    "- firms maximize profits taking the same prices as given  \n",
    "- the resulting aggregate quantities are consistent with the prices; in particular, the demand for capital equals the supply  \n",
    "- aggregate quantities (defined as cross-sectional averages) are constant  \n",
    "\n",
    "\n",
    "In practice, once parameter values are set, we can check for an SREE by the following steps\n",
    "\n",
    "1. pick a proposed quantity $ K $ for aggregate capital  \n",
    "1. determine corresponding prices, with interest rate $ r $ determined by [(70.1)](#equation-aiy-rgk) and a wage rate $ w(r) $ as given in [(70.2)](#equation-aiy-wgr)  \n",
    "1. determine the common optimal savings policy of the households given these prices  \n",
    "1. compute aggregate capital as the mean of steady state capital given this savings policy  \n",
    "\n",
    "\n",
    "If this final quantity agrees with $ K $ then we have a SREE.  Otherwise we adjust $K$.\n",
    "\n",
    "These steps describe a fixed point problem which we solve below."
   ]
  },
  {
   "cell_type": "markdown",
   "id": "315fdbbe",
   "metadata": {},
   "source": [
    "Let’s inspect visually as a first pass.\n",
    "\n",
    "The following code draws aggregate supply and demand curves for capital.\n",
    "\n",
    "The intersection gives equilibrium interest rates and capital."
   ]
  },
  {
   "cell_type": "code",
   "execution_count": 122,
   "id": "821ed7ad",
   "metadata": {
    "incorrectly_encoded_metadata": "hide-output=false"
   },
   "outputs": [],
   "source": [
    "# Create default instances\n",
    "household = Household()\n",
    "firm = Firm()\n",
    "\n",
    "# Create a grid of r values at which to compute demand and supply of capital\n",
    "num_points = 50\n",
    "r_vals = np.linspace(0.005, 0.04, num_points)"
   ]
  },
  {
   "cell_type": "code",
   "execution_count": 123,
   "id": "86f080d1",
   "metadata": {
    "incorrectly_encoded_metadata": "hide-output=false"
   },
   "outputs": [
    {
     "name": "stdout",
     "output_type": "stream",
     "text": [
      "CPU times: user 2.55 s, sys: 192 ms, total: 2.74 s\n",
      "Wall time: 2.26 s\n"
     ]
    }
   ],
   "source": [
    "%%time\n",
    "# Compute supply of capital\n",
    "k_vals = np.empty(num_points)\n",
    "for i, r in enumerate(r_vals):\n",
    "    household.r = r\n",
    "    household.w = firm.r_to_w(r)\n",
    "    k_vals[i] = capital_supply(household)"
   ]
  },
  {
   "cell_type": "code",
   "execution_count": 75,
   "id": "72c8f573",
   "metadata": {
    "incorrectly_encoded_metadata": "hide-output=false"
   },
   "outputs": [
    {
     "data": {
      "image/png": "[encoded data removed]",
      "text/plain": [
       "<Figure size 432x288 with 1 Axes>"
      ]
     },
     "metadata": {
      "needs_background": "light"
     },
     "output_type": "display_data"
    }
   ],
   "source": [
    "# Plot against demand for capital by firms\n",
    "fig, ax = plt.subplots()\n",
    "ax.plot(k_vals, r_vals, lw=2, alpha=0.6, label='supply of capital')\n",
    "ax.plot(k_vals, firm.rd(k_vals), lw=2, alpha=0.6, label='demand for capital')\n",
    "ax.grid()\n",
    "ax.set_xlabel('capital')\n",
    "ax.set_ylabel('interest rate')\n",
    "ax.legend(loc='upper right')\n",
    "\n",
    "plt.show()\n",
    "\n",
    "# Solve for the fixed point"
   ]
  },
  {
   "cell_type": "code",
   "execution_count": 100,
   "id": "a2a41546",
   "metadata": {},
   "outputs": [],
   "source": [
    "def excess_demand(K):\n",
    "    r = firm.rd(K)\n",
    "    w = firm.r_to_w(r)\n",
    "    household.r, household.w = r, w\n",
    "    return K - capital_supply(household)"
   ]
  },
  {
   "cell_type": "code",
   "execution_count": 101,
   "id": "909192c2",
   "metadata": {
    "incorrectly_encoded_metadata": "hide-output=false"
   },
   "outputs": [],
   "source": [
    "k_vals = np.linspace(4, 12, num_points)\n",
    "out = [excess_demand(k) for k in k_vals]"
   ]
  },
  {
   "cell_type": "code",
   "execution_count": 103,
   "id": "a2e06bba",
   "metadata": {
    "incorrectly_encoded_metadata": "hide-output=false"
   },
   "outputs": [
    {
     "data": {
      "image/png": "[encoded data removed]",
      "text/plain": [
       "<Figure size 432x288 with 1 Axes>"
      ]
     },
     "metadata": {
      "needs_background": "light"
     },
     "output_type": "display_data"
    }
   ],
   "source": [
    "fig, ax = plt.subplots()\n",
    "ax.plot(k_vals, out, lw=2, alpha=0.6, label='excess demand')\n",
    "ax.plot(k_vals, np.zeros_like(k_vals), 'k--', label=\"45\")\n",
    "ax.set_xlabel('capital')\n",
    "ax.legend()\n",
    "plt.show()"
   ]
  },
  {
   "cell_type": "code",
   "execution_count": 114,
   "id": "6856ca46",
   "metadata": {},
   "outputs": [],
   "source": [
    "def bisect(f, a, b, tol=10e-2):\n",
    "    \"\"\"\n",
    "    Implements the bisection root finding algorithm, assuming that f is a\n",
    "    real-valued function on [a, b] satisfying f(a) < 0 < f(b).\n",
    "    \"\"\"\n",
    "    lower, upper = a, b\n",
    "\n",
    "    while upper - lower > tol:\n",
    "        middle = 0.5 * (upper + lower)\n",
    "        if f(middle) > 0:   # root is between lower and middle\n",
    "            lower, upper = lower, middle\n",
    "        else:               # root is between middle and upper\n",
    "            lower, upper = middle, upper\n",
    "\n",
    "    return 0.5 * (upper + lower)\n"
   ]
  },
  {
   "cell_type": "code",
   "execution_count": 115,
   "id": "f539dade",
   "metadata": {},
   "outputs": [
    {
     "data": {
      "text/plain": [
       "8.09375"
      ]
     },
     "execution_count": 115,
     "metadata": {},
     "output_type": "execute_result"
    }
   ],
   "source": [
    "bisect(excess_demand, 6.0, 10.0)"
   ]
  },
  {
   "cell_type": "code",
   "execution_count": 118,
   "id": "249e9fd5",
   "metadata": {},
   "outputs": [],
   "source": [
    "def compute_equilibrium(household, firm):\n",
    "\n",
    "    def excess_supply(K):\n",
    "        r = firm.rd(K)\n",
    "        w = firm.r_to_w(r)\n",
    "        household.r, household.w = r, w\n",
    "        return capital_supply(household) - K\n",
    "\n",
    "    solution = bisect(excess_demand, 6.0, 10.0)\n",
    "    return solution"
   ]
  },
  {
   "cell_type": "code",
   "execution_count": 119,
   "id": "e5db8933",
   "metadata": {
    "lines_to_next_cell": 2
   },
   "outputs": [
    {
     "data": {
      "text/plain": [
       "8.09375"
      ]
     },
     "execution_count": 119,
     "metadata": {},
     "output_type": "execute_result"
    }
   ],
   "source": [
    "household = Household()\n",
    "firm = Firm()\n",
    "compute_equilibrium(household, firm)"
   ]
  },
  {
   "cell_type": "code",
   "execution_count": null,
   "id": "6099487a",
   "metadata": {},
   "outputs": [],
   "source": []
  }
 ],
 "metadata": {
  "date": 1663043751.5740824,
  "filename": "aiyagari.md",
  "kernelspec": {
   "display_name": "Python 3 (ipykernel)",
   "language": "python",
   "name": "python3"
  },
  "language_info": {
   "codemirror_mode": {
    "name": "ipython",
    "version": 3
   },
   "file_extension": ".py",
   "mimetype": "text/x-python",
   "name": "python",
   "nbconvert_exporter": "python",
   "pygments_lexer": "ipython3",
   "version": "3.9.12"
  },
  "title": "The Aiyagari Model"
 },
 "nbformat": 4,
 "nbformat_minor": 5
}
