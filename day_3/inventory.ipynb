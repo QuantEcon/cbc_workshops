{
 "cells": [
  {
   "cell_type": "markdown",
   "id": "37bc3e43",
   "metadata": {},
   "source": [
    "# Solving the Inventory Model\n",
    "\n",
    "#### John Stachurski\n",
    "\n",
    "### Prepared for the CBC QuantEcon Workshop (September 2022)"
   ]
  },
  {
   "cell_type": "markdown",
   "id": "d7e0160f",
   "metadata": {},
   "source": [
    "We solve the inventory model discussed in the lecture slides using value function iteration (VFI).\n",
    "\n",
    "We will use the following imports."
   ]
  },
  {
   "cell_type": "code",
   "execution_count": 31,
   "id": "7f4bbf4a",
   "metadata": {},
   "outputs": [],
   "source": [
    "import numpy as np\n",
    "import matplotlib.pyplot as plt\n",
    "from collections import namedtuple\n",
    "from numba import njit, int32"
   ]
  },
  {
   "cell_type": "markdown",
   "id": "235bbf15",
   "metadata": {},
   "source": [
    "At present `np.argmax` doesn't play well with Numba, so let's roll our own jitted\n",
    "version (an argmax function for lists):"
   ]
  },
  {
   "cell_type": "code",
   "execution_count": 32,
   "id": "f1d09ebc",
   "metadata": {},
   "outputs": [],
   "source": [
    "@njit\n",
    "def argmax(list_object):\n",
    "    \"Return the index of the largest element of `list_object`.\"\n",
    "    max_val = -np.inf\n",
    "    argmax_index = None\n",
    "    for i, x in enumerate(list_object):\n",
    "        if x > max_val:\n",
    "            max_val = x\n",
    "            argmax_index = i\n",
    "    return argmax_index"
   ]
  },
  {
   "cell_type": "markdown",
   "id": "b52ae600",
   "metadata": {},
   "source": [
    "We also use the `successive_approx` function, as defined below."
   ]
  },
  {
   "cell_type": "code",
   "execution_count": 33,
   "id": "a17c22f9",
   "metadata": {},
   "outputs": [],
   "source": [
    "def successive_approx(T,                     # Operator (callable)\n",
    "                      x_0,                   # Initial condition\n",
    "                      tolerance=1e-6,        # Error tolerance\n",
    "                      max_iter=10_000,       # Max iteration bound\n",
    "                      print_step=25,         # Print at multiples\n",
    "                      verbose=False):        \n",
    "    x = x_0\n",
    "    error = tolerance + 1\n",
    "    k = 1\n",
    "    while error > tolerance and k <= max_iter:\n",
    "        x_new = T(x)\n",
    "        error = np.max(np.abs(x_new - x))\n",
    "        if verbose and k % print_step == 0:\n",
    "            print(f\"Completed iteration {k} with error {error}.\")\n",
    "        x = x_new\n",
    "        k += 1\n",
    "    if error > tolerance:\n",
    "        print(f\"Warning: Iteration hit upper bound {max_iter}.\")\n",
    "    elif verbose:\n",
    "        print(f\"Terminated successfully in {k} iterations.\")\n",
    "    return x"
   ]
  },
  {
   "cell_type": "markdown",
   "id": "e6b220cd",
   "metadata": {},
   "source": [
    "## Primitives and functions"
   ]
  },
  {
   "cell_type": "markdown",
   "id": "a469839e",
   "metadata": {},
   "source": [
    "To store our model parameters we use a namedtuple.  Here we define the namedtuple and a function to create instances, with default values.\n",
    "\n",
    "In what follows, we assume that demand follows the Geometric distribution on $0, 1, \\ldots$"
   ]
  },
  {
   "cell_type": "code",
   "execution_count": 70,
   "id": "64c6332e",
   "metadata": {
    "lines_to_next_cell": 1
   },
   "outputs": [],
   "source": [
    "Model = namedtuple('Model', ('β', 'K', 'c', 'κ', 'p', 'ϕ', 'Γ'))"
   ]
  },
  {
   "cell_type": "code",
   "execution_count": 87,
   "id": "5694ae70",
   "metadata": {
    "lines_to_next_cell": 1
   },
   "outputs": [],
   "source": [
    "def create_inventory_model(r=0.02,     # interest rate\n",
    "                           K=40,       # maximum inventory\n",
    "                           c=0.2, κ=2, # cost paramters\n",
    "                           p=0.6):     # demand parameter\n",
    "    β = 1/(1 + r)\n",
    "    \n",
    "    @njit\n",
    "    def ϕ(d):\n",
    "        \"Geometric distribution on d = 0, 1, 2,... with parameter p.\"\n",
    "        return (1 - p)**d * p   \n",
    "    \n",
    "    @njit\n",
    "    def Γ(x):\n",
    "        \"The feasible correspondence\"\n",
    "        return range(K - x + 1)   # integers 0,...,K\n",
    "\n",
    "    return Model(β=β, K=K, c=c, κ=κ, p=p, ϕ=ϕ, Γ=Γ)"
   ]
  },
  {
   "cell_type": "markdown",
   "id": "11f927d8",
   "metadata": {},
   "source": [
    "The next function is the unmaximized right-hand side of the Bellman equation, which is\n",
    "\n",
    "$$\n",
    "\\begin{aligned}\n",
    "    B(x, a, v)\n",
    "    & := r(x, a) + \\beta \\sum_d v[ F(x, a, d) ] \\phi(d) \\\\ \n",
    "    & = \\text{ profit } + \\beta \\text{ continuation value}\n",
    "\\end{aligned}\n",
    "$$"
   ]
  },
  {
   "cell_type": "code",
   "execution_count": 88,
   "id": "f802fe8e",
   "metadata": {
    "lines_to_next_cell": 1
   },
   "outputs": [],
   "source": [
    "@njit\n",
    "def B(x, a, v, model, d_max=100):\n",
    "    \"The function B(x, a, v)\"\n",
    "    β, K, c, κ, p, ϕ, Γ = model\n",
    "    expected_revenue = sum([min(x, d)*ϕ(d) for d in range(d_max)])\n",
    "    profit = expected_revenue - c * a - κ * (a > 0)\n",
    "    continuation_value = sum([v[max(x - d, 0) + a]*ϕ(d) for d in range(d_max)])\n",
    "    return profit + β * continuation_value"
   ]
  },
  {
   "cell_type": "markdown",
   "id": "20c9f4d7",
   "metadata": {},
   "source": [
    "Now we introduce the Bellman operator."
   ]
  },
  {
   "cell_type": "code",
   "execution_count": 89,
   "id": "742106c2",
   "metadata": {
    "lines_to_next_cell": 1
   },
   "outputs": [],
   "source": [
    "@njit\n",
    "def T(v, model):\n",
    "    \"The Bellman operator.\"\n",
    "    β, K, c, κ, p, ϕ, Γ = model\n",
    "    new_v = np.empty_like(v)\n",
    "    for x in range(K + 1):\n",
    "        new_v[x] = max([B(x, a, v, model) for a in Γ(x)])\n",
    "    return new_v"
   ]
  },
  {
   "cell_type": "markdown",
   "id": "62aef64b",
   "metadata": {},
   "source": [
    "### Exercise\n",
    "\n",
    "Write a function that computes $v$-greedy policies from any given $v$.  Use the `argmax` function defined above and apply `@njit` to make it fast."
   ]
  },
  {
   "cell_type": "code",
   "execution_count": 90,
   "id": "df1cfdb6",
   "metadata": {},
   "outputs": [],
   "source": [
    "# Put your code here"
   ]
  },
  {
   "cell_type": "code",
   "execution_count": 91,
   "id": "7041f3d1",
   "metadata": {},
   "outputs": [
    {
     "name": "stdout",
     "output_type": "stream",
     "text": [
      "solution below\n",
      "solution below\n",
      "solution below\n",
      "solution below\n",
      "solution below\n",
      "solution below\n",
      "solution below\n",
      "solution below\n",
      "solution below\n",
      "solution below\n",
      "solution below\n",
      "solution below\n"
     ]
    }
   ],
   "source": [
    "for _ in range(12):\n",
    "    print('solution below')"
   ]
  },
  {
   "cell_type": "code",
   "execution_count": 92,
   "id": "1087ffc9",
   "metadata": {
    "lines_to_next_cell": 1
   },
   "outputs": [],
   "source": [
    "@njit\n",
    "def get_greedy(v, model):\n",
    "    β, K, c, κ, p, ϕ, Γ = model\n",
    "    σ = np.empty_like(v, dtype=int32)\n",
    "    for x in range(K + 1):\n",
    "        σ[x] = argmax([B(x, a, v, model) for a in Γ(x)])\n",
    "    return σ"
   ]
  },
  {
   "cell_type": "markdown",
   "id": "57398237",
   "metadata": {},
   "source": [
    "## Tests and calculations"
   ]
  },
  {
   "cell_type": "markdown",
   "id": "10f557d2",
   "metadata": {},
   "source": [
    "The function below applies value function iteration to solve the model."
   ]
  },
  {
   "cell_type": "code",
   "execution_count": 77,
   "id": "876a3cc5",
   "metadata": {},
   "outputs": [],
   "source": [
    "def vfi(v_init, model):\n",
    "    v_star = successive_approx(lambda v: T(v, model), v_init)\n",
    "    σ_star = get_greedy(v_star, model)\n",
    "    return v_star, σ_star"
   ]
  },
  {
   "cell_type": "markdown",
   "id": "d09a40ca",
   "metadata": {},
   "source": [
    "Let's put these functions to work:"
   ]
  },
  {
   "cell_type": "code",
   "execution_count": 78,
   "id": "783f2837",
   "metadata": {
    "lines_to_next_cell": 1
   },
   "outputs": [],
   "source": [
    "model = create_inventory_model()"
   ]
  },
  {
   "cell_type": "code",
   "execution_count": 79,
   "id": "b96bc715",
   "metadata": {
    "lines_to_next_cell": 1
   },
   "outputs": [],
   "source": [
    "β, K, c, κ, p, ϕ, Γ = model\n",
    "v_init = np.zeros(K + 1)"
   ]
  },
  {
   "cell_type": "markdown",
   "id": "a8011baa",
   "metadata": {},
   "source": [
    "Here we compute the optimal policy and value function using VFI."
   ]
  },
  {
   "cell_type": "code",
   "execution_count": 80,
   "id": "15523b3b",
   "metadata": {
    "lines_to_next_cell": 1
   },
   "outputs": [],
   "source": [
    "v_star, σ_star = vfi(v_init, model)"
   ]
  },
  {
   "cell_type": "markdown",
   "id": "e94c8546",
   "metadata": {},
   "source": [
    "First we will look at the policy and value functions."
   ]
  },
  {
   "cell_type": "code",
   "execution_count": 81,
   "id": "a3f9876a",
   "metadata": {
    "scrolled": false
   },
   "outputs": [
    {
     "data": {
      "image/png": "[encoded data removed]",
      "text/plain": [
       "<Figure size 576x468 with 2 Axes>"
      ]
     },
     "metadata": {
      "needs_background": "light"
     },
     "output_type": "display_data"
    }
   ],
   "source": [
    "fig, axes = plt.subplots(2, 1, figsize=(8, 6.5))\n",
    "fontsize=16\n",
    "\n",
    "ax = axes[0]\n",
    "ax.plot(range(K + 1), v_star, label=\"$v^*$\")\n",
    "ax.set_ylabel(\"value\", fontsize=fontsize)\n",
    "ax.legend(fontsize=fontsize, frameon=False)\n",
    "\n",
    "ax = axes[1]\n",
    "ax.plot(range(K + 1), σ_star, label=\"$\\\\sigma^*$\")\n",
    "ax.set_xlabel(\"inventory\", fontsize=fontsize)\n",
    "ax.set_ylabel(\"optimal choice\", fontsize=fontsize)\n",
    "ax.legend(fontsize=fontsize, frameon=False)\n",
    "plt.show()"
   ]
  },
  {
   "cell_type": "markdown",
   "id": "d60a9aa8",
   "metadata": {},
   "source": [
    "### Exercise"
   ]
  },
  {
   "cell_type": "markdown",
   "id": "e7376755",
   "metadata": {},
   "source": [
    "Write a function to simulate inventories under the optimal policy.  The function should be JIT compiled and take as arguments\n",
    "\n",
    "* `model`, which is a namedtuple as above\n",
    "* `σ_star`, which is an optimal policy for `model`\n",
    "* `ts_length`, an integer for the length of the time series\n",
    "* `X_init`, which is an initial value for the state"
   ]
  },
  {
   "cell_type": "code",
   "execution_count": 82,
   "id": "3c7679cc",
   "metadata": {},
   "outputs": [],
   "source": [
    "# Put your code here"
   ]
  },
  {
   "cell_type": "code",
   "execution_count": 83,
   "id": "de8b4ca7",
   "metadata": {},
   "outputs": [
    {
     "name": "stdout",
     "output_type": "stream",
     "text": [
      "solutions below\n",
      "solutions below\n",
      "solutions below\n",
      "solutions below\n",
      "solutions below\n",
      "solutions below\n",
      "solutions below\n",
      "solutions below\n",
      "solutions below\n",
      "solutions below\n",
      "solutions below\n",
      "solutions below\n"
     ]
    }
   ],
   "source": [
    "for _ in range(12):\n",
    "    print('solutions below')"
   ]
  },
  {
   "cell_type": "code",
   "execution_count": 84,
   "id": "12dea639",
   "metadata": {},
   "outputs": [],
   "source": [
    "@njit\n",
    "def sim_inventories(model, σ_star, ts_length=100, X_init=0):\n",
    "    \"Simulate given the optimal policy.\"\n",
    "    X = np.zeros(ts_length, dtype=int32)\n",
    "    X[1] = X_init\n",
    "    for t in range(ts_length-1):\n",
    "        D = np.random.geometric(model.p) - 1  # subtract 1 to get a draw on 0, 1, ...\n",
    "        X[t+1] = max(X[t] - D, 0) + σ_star[X[t]]\n",
    "    return X"
   ]
  },
  {
   "cell_type": "code",
   "execution_count": 86,
   "id": "7c907879",
   "metadata": {
    "lines_to_next_cell": 2
   },
   "outputs": [
    {
     "data": {
      "image/png": "[encoded data removed]",
      "text/plain": [
       "<Figure size 432x288 with 1 Axes>"
      ]
     },
     "metadata": {
      "needs_background": "light"
     },
     "output_type": "display_data"
    }
   ],
   "source": [
    "X = sim_inventories(model, σ_star)\n",
    "fig, ax = plt.subplots()\n",
    "ax.plot(X, label=\"$X_t$\", alpha=0.7)\n",
    "ax.set_xlabel(\"$t$\", fontsize=fontsize)\n",
    "ax.set_ylabel(\"inventory\", fontsize=fontsize)\n",
    "ax.legend(fontsize=fontsize, frameon=False)\n",
    "ax.set_ylim(0, np.max(X)+4)\n",
    "plt.show()"
   ]
  },
  {
   "cell_type": "code",
   "execution_count": null,
   "id": "99f671b3",
   "metadata": {},
   "outputs": [],
   "source": []
  }
 ],
 "metadata": {
  "jupytext": {
   "cell_metadata_filter": "-all",
   "main_language": "python",
   "notebook_metadata_filter": "-all"
  },
  "kernelspec": {
   "display_name": "Python 3 (ipykernel)",
   "language": "python",
   "name": "python3"
  },
  "language_info": {
   "codemirror_mode": {
    "name": "ipython",
    "version": 3
   },
   "file_extension": ".py",
   "mimetype": "text/x-python",
   "name": "python",
   "nbconvert_exporter": "python",
   "pygments_lexer": "ipython3",
   "version": "3.9.12"
  }
 },
 "nbformat": 4,
 "nbformat_minor": 5
}
